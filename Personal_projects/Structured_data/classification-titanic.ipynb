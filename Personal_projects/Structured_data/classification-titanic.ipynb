{
 "cells": [
  {
   "cell_type": "code",
   "execution_count": 1,
   "id": "4ad00fdd",
   "metadata": {
    "execution": {
     "iopub.execute_input": "2024-06-13T16:40:14.741444Z",
     "iopub.status.busy": "2024-06-13T16:40:14.741039Z",
     "iopub.status.idle": "2024-06-13T16:40:17.968651Z",
     "shell.execute_reply": "2024-06-13T16:40:17.967309Z"
    },
    "papermill": {
     "duration": 3.25426,
     "end_time": "2024-06-13T16:40:17.972118",
     "exception": false,
     "start_time": "2024-06-13T16:40:14.717858",
     "status": "completed"
    },
    "tags": []
   },
   "outputs": [],
   "source": [
    "from sklearn import preprocessing\n",
    "import numpy as np\n",
    "from sklearn.model_selection import train_test_split\n",
    "from sklearn.impute import KNNImputer\n",
    "from sklearn.ensemble import RandomForestClassifier\n",
    "from sklearn.model_selection import cross_val_score\n",
    "from sklearn.model_selection import GridSearchCV\n",
    "from sklearn.metrics import accuracy_score, precision_score, recall_score, f1_score\n",
    "import seaborn as sns\n",
    "from tqdm import tqdm\n",
    "import matplotlib.pyplot as plt\n",
    "\n",
    "import warnings"
   ]
  },
  {
   "cell_type": "code",
   "execution_count": 2,
   "id": "d0a7fbc3",
   "metadata": {
    "_cell_guid": "b1076dfc-b9ad-4769-8c92-a6c4dae69d19",
    "_uuid": "8f2839f25d086af736a60e9eeb907d3b93b6e0e5",
    "execution": {
     "iopub.execute_input": "2024-06-13T16:40:18.018134Z",
     "iopub.status.busy": "2024-06-13T16:40:18.016795Z",
     "iopub.status.idle": "2024-06-13T16:40:18.025698Z",
     "shell.execute_reply": "2024-06-13T16:40:18.024373Z"
    },
    "papermill": {
     "duration": 0.032736,
     "end_time": "2024-06-13T16:40:18.027893",
     "exception": false,
     "start_time": "2024-06-13T16:40:17.995157",
     "status": "completed"
    },
    "tags": []
   },
   "outputs": [
    {
     "name": "stdout",
     "output_type": "stream",
     "text": [
      "/kaggle/input/titanic/train.csv\n",
      "/kaggle/input/titanic/test.csv\n",
      "/kaggle/input/titanic/gender_submission.csv\n"
     ]
    }
   ],
   "source": [
    "# This Python 3 environment comes with many helpful analytics libraries installed\n",
    "# It is defined by the kaggle/python Docker image: https://github.com/kaggle/docker-python\n",
    "# For example, here's several helpful packages to load\n",
    "\n",
    "import numpy as np # linear algebra\n",
    "import pandas as pd # data processing, CSV file I/O (e.g. pd.read_csv)\n",
    "\n",
    "# Input data files are available in the read-only \"../input/\" directory\n",
    "# For example, running this (by clicking run or pressing Shift+Enter) will list all files under the input directory\n",
    "\n",
    "import os\n",
    "for dirname, _, filenames in os.walk('/kaggle/input'):\n",
    "    for filename in filenames:\n",
    "        print(os.path.join(dirname, filename))\n",
    "\n",
    "# You can write up to 20GB to the current directory (/kaggle/working/) that gets preserved as output when you create a version using \"Save & Run All\" \n",
    "# You can also write temporary files to /kaggle/temp/, but they won't be saved outside of the current session"
   ]
  },
  {
   "cell_type": "markdown",
   "id": "d8b477b0",
   "metadata": {
    "papermill": {
     "duration": 0.020079,
     "end_time": "2024-06-13T16:40:18.068377",
     "exception": false,
     "start_time": "2024-06-13T16:40:18.048298",
     "status": "completed"
    },
    "tags": []
   },
   "source": [
    "# Cargar Datos"
   ]
  },
  {
   "cell_type": "code",
   "execution_count": 3,
   "id": "8322ab65",
   "metadata": {
    "execution": {
     "iopub.execute_input": "2024-06-13T16:40:18.112069Z",
     "iopub.status.busy": "2024-06-13T16:40:18.110813Z",
     "iopub.status.idle": "2024-06-13T16:40:18.161566Z",
     "shell.execute_reply": "2024-06-13T16:40:18.160373Z"
    },
    "papermill": {
     "duration": 0.074806,
     "end_time": "2024-06-13T16:40:18.163851",
     "exception": false,
     "start_time": "2024-06-13T16:40:18.089045",
     "status": "completed"
    },
    "tags": []
   },
   "outputs": [
    {
     "data": {
      "text/html": [
       "<div>\n",
       "<style scoped>\n",
       "    .dataframe tbody tr th:only-of-type {\n",
       "        vertical-align: middle;\n",
       "    }\n",
       "\n",
       "    .dataframe tbody tr th {\n",
       "        vertical-align: top;\n",
       "    }\n",
       "\n",
       "    .dataframe thead th {\n",
       "        text-align: right;\n",
       "    }\n",
       "</style>\n",
       "<table border=\"1\" class=\"dataframe\">\n",
       "  <thead>\n",
       "    <tr style=\"text-align: right;\">\n",
       "      <th></th>\n",
       "      <th>PassengerId</th>\n",
       "      <th>Survived</th>\n",
       "      <th>Pclass</th>\n",
       "      <th>Name</th>\n",
       "      <th>Sex</th>\n",
       "      <th>Age</th>\n",
       "      <th>SibSp</th>\n",
       "      <th>Parch</th>\n",
       "      <th>Ticket</th>\n",
       "      <th>Fare</th>\n",
       "      <th>Cabin</th>\n",
       "      <th>Embarked</th>\n",
       "    </tr>\n",
       "  </thead>\n",
       "  <tbody>\n",
       "    <tr>\n",
       "      <th>0</th>\n",
       "      <td>1</td>\n",
       "      <td>0</td>\n",
       "      <td>3</td>\n",
       "      <td>Braund, Mr. Owen Harris</td>\n",
       "      <td>male</td>\n",
       "      <td>22.0</td>\n",
       "      <td>1</td>\n",
       "      <td>0</td>\n",
       "      <td>A/5 21171</td>\n",
       "      <td>7.2500</td>\n",
       "      <td>NaN</td>\n",
       "      <td>S</td>\n",
       "    </tr>\n",
       "    <tr>\n",
       "      <th>1</th>\n",
       "      <td>2</td>\n",
       "      <td>1</td>\n",
       "      <td>1</td>\n",
       "      <td>Cumings, Mrs. John Bradley (Florence Briggs Th...</td>\n",
       "      <td>female</td>\n",
       "      <td>38.0</td>\n",
       "      <td>1</td>\n",
       "      <td>0</td>\n",
       "      <td>PC 17599</td>\n",
       "      <td>71.2833</td>\n",
       "      <td>C85</td>\n",
       "      <td>C</td>\n",
       "    </tr>\n",
       "    <tr>\n",
       "      <th>2</th>\n",
       "      <td>3</td>\n",
       "      <td>1</td>\n",
       "      <td>3</td>\n",
       "      <td>Heikkinen, Miss. Laina</td>\n",
       "      <td>female</td>\n",
       "      <td>26.0</td>\n",
       "      <td>0</td>\n",
       "      <td>0</td>\n",
       "      <td>STON/O2. 3101282</td>\n",
       "      <td>7.9250</td>\n",
       "      <td>NaN</td>\n",
       "      <td>S</td>\n",
       "    </tr>\n",
       "    <tr>\n",
       "      <th>3</th>\n",
       "      <td>4</td>\n",
       "      <td>1</td>\n",
       "      <td>1</td>\n",
       "      <td>Futrelle, Mrs. Jacques Heath (Lily May Peel)</td>\n",
       "      <td>female</td>\n",
       "      <td>35.0</td>\n",
       "      <td>1</td>\n",
       "      <td>0</td>\n",
       "      <td>113803</td>\n",
       "      <td>53.1000</td>\n",
       "      <td>C123</td>\n",
       "      <td>S</td>\n",
       "    </tr>\n",
       "    <tr>\n",
       "      <th>4</th>\n",
       "      <td>5</td>\n",
       "      <td>0</td>\n",
       "      <td>3</td>\n",
       "      <td>Allen, Mr. William Henry</td>\n",
       "      <td>male</td>\n",
       "      <td>35.0</td>\n",
       "      <td>0</td>\n",
       "      <td>0</td>\n",
       "      <td>373450</td>\n",
       "      <td>8.0500</td>\n",
       "      <td>NaN</td>\n",
       "      <td>S</td>\n",
       "    </tr>\n",
       "  </tbody>\n",
       "</table>\n",
       "</div>"
      ],
      "text/plain": [
       "   PassengerId  Survived  Pclass  \\\n",
       "0            1         0       3   \n",
       "1            2         1       1   \n",
       "2            3         1       3   \n",
       "3            4         1       1   \n",
       "4            5         0       3   \n",
       "\n",
       "                                                Name     Sex   Age  SibSp  \\\n",
       "0                            Braund, Mr. Owen Harris    male  22.0      1   \n",
       "1  Cumings, Mrs. John Bradley (Florence Briggs Th...  female  38.0      1   \n",
       "2                             Heikkinen, Miss. Laina  female  26.0      0   \n",
       "3       Futrelle, Mrs. Jacques Heath (Lily May Peel)  female  35.0      1   \n",
       "4                           Allen, Mr. William Henry    male  35.0      0   \n",
       "\n",
       "   Parch            Ticket     Fare Cabin Embarked  \n",
       "0      0         A/5 21171   7.2500   NaN        S  \n",
       "1      0          PC 17599  71.2833   C85        C  \n",
       "2      0  STON/O2. 3101282   7.9250   NaN        S  \n",
       "3      0            113803  53.1000  C123        S  \n",
       "4      0            373450   8.0500   NaN        S  "
      ]
     },
     "execution_count": 3,
     "metadata": {},
     "output_type": "execute_result"
    }
   ],
   "source": [
    "train_data = pd.read_csv(\"/kaggle/input/titanic/train.csv\")\n",
    "train_data.head()"
   ]
  },
  {
   "cell_type": "code",
   "execution_count": 4,
   "id": "f72ad2be",
   "metadata": {
    "execution": {
     "iopub.execute_input": "2024-06-13T16:40:18.208823Z",
     "iopub.status.busy": "2024-06-13T16:40:18.208382Z",
     "iopub.status.idle": "2024-06-13T16:40:18.222264Z",
     "shell.execute_reply": "2024-06-13T16:40:18.221049Z"
    },
    "papermill": {
     "duration": 0.040149,
     "end_time": "2024-06-13T16:40:18.224993",
     "exception": false,
     "start_time": "2024-06-13T16:40:18.184844",
     "status": "completed"
    },
    "tags": []
   },
   "outputs": [],
   "source": [
    "test_data_ori = pd.read_csv(\"/kaggle/input/titanic/test.csv\")"
   ]
  },
  {
   "cell_type": "code",
   "execution_count": 5,
   "id": "2c6a06e7",
   "metadata": {
    "execution": {
     "iopub.execute_input": "2024-06-13T16:40:18.268950Z",
     "iopub.status.busy": "2024-06-13T16:40:18.268541Z",
     "iopub.status.idle": "2024-06-13T16:40:18.288433Z",
     "shell.execute_reply": "2024-06-13T16:40:18.287309Z"
    },
    "papermill": {
     "duration": 0.044598,
     "end_time": "2024-06-13T16:40:18.291074",
     "exception": false,
     "start_time": "2024-06-13T16:40:18.246476",
     "status": "completed"
    },
    "tags": []
   },
   "outputs": [
    {
     "data": {
      "text/html": [
       "<div>\n",
       "<style scoped>\n",
       "    .dataframe tbody tr th:only-of-type {\n",
       "        vertical-align: middle;\n",
       "    }\n",
       "\n",
       "    .dataframe tbody tr th {\n",
       "        vertical-align: top;\n",
       "    }\n",
       "\n",
       "    .dataframe thead th {\n",
       "        text-align: right;\n",
       "    }\n",
       "</style>\n",
       "<table border=\"1\" class=\"dataframe\">\n",
       "  <thead>\n",
       "    <tr style=\"text-align: right;\">\n",
       "      <th></th>\n",
       "      <th>PassengerId</th>\n",
       "      <th>Pclass</th>\n",
       "      <th>Name</th>\n",
       "      <th>Sex</th>\n",
       "      <th>Age</th>\n",
       "      <th>SibSp</th>\n",
       "      <th>Parch</th>\n",
       "      <th>Ticket</th>\n",
       "      <th>Fare</th>\n",
       "      <th>Cabin</th>\n",
       "      <th>Embarked</th>\n",
       "    </tr>\n",
       "  </thead>\n",
       "  <tbody>\n",
       "    <tr>\n",
       "      <th>0</th>\n",
       "      <td>892</td>\n",
       "      <td>3</td>\n",
       "      <td>Kelly, Mr. James</td>\n",
       "      <td>male</td>\n",
       "      <td>34.5</td>\n",
       "      <td>0</td>\n",
       "      <td>0</td>\n",
       "      <td>330911</td>\n",
       "      <td>7.8292</td>\n",
       "      <td>NaN</td>\n",
       "      <td>Q</td>\n",
       "    </tr>\n",
       "    <tr>\n",
       "      <th>1</th>\n",
       "      <td>893</td>\n",
       "      <td>3</td>\n",
       "      <td>Wilkes, Mrs. James (Ellen Needs)</td>\n",
       "      <td>female</td>\n",
       "      <td>47.0</td>\n",
       "      <td>1</td>\n",
       "      <td>0</td>\n",
       "      <td>363272</td>\n",
       "      <td>7.0000</td>\n",
       "      <td>NaN</td>\n",
       "      <td>S</td>\n",
       "    </tr>\n",
       "    <tr>\n",
       "      <th>2</th>\n",
       "      <td>894</td>\n",
       "      <td>2</td>\n",
       "      <td>Myles, Mr. Thomas Francis</td>\n",
       "      <td>male</td>\n",
       "      <td>62.0</td>\n",
       "      <td>0</td>\n",
       "      <td>0</td>\n",
       "      <td>240276</td>\n",
       "      <td>9.6875</td>\n",
       "      <td>NaN</td>\n",
       "      <td>Q</td>\n",
       "    </tr>\n",
       "    <tr>\n",
       "      <th>3</th>\n",
       "      <td>895</td>\n",
       "      <td>3</td>\n",
       "      <td>Wirz, Mr. Albert</td>\n",
       "      <td>male</td>\n",
       "      <td>27.0</td>\n",
       "      <td>0</td>\n",
       "      <td>0</td>\n",
       "      <td>315154</td>\n",
       "      <td>8.6625</td>\n",
       "      <td>NaN</td>\n",
       "      <td>S</td>\n",
       "    </tr>\n",
       "    <tr>\n",
       "      <th>4</th>\n",
       "      <td>896</td>\n",
       "      <td>3</td>\n",
       "      <td>Hirvonen, Mrs. Alexander (Helga E Lindqvist)</td>\n",
       "      <td>female</td>\n",
       "      <td>22.0</td>\n",
       "      <td>1</td>\n",
       "      <td>1</td>\n",
       "      <td>3101298</td>\n",
       "      <td>12.2875</td>\n",
       "      <td>NaN</td>\n",
       "      <td>S</td>\n",
       "    </tr>\n",
       "  </tbody>\n",
       "</table>\n",
       "</div>"
      ],
      "text/plain": [
       "   PassengerId  Pclass                                          Name     Sex  \\\n",
       "0          892       3                              Kelly, Mr. James    male   \n",
       "1          893       3              Wilkes, Mrs. James (Ellen Needs)  female   \n",
       "2          894       2                     Myles, Mr. Thomas Francis    male   \n",
       "3          895       3                              Wirz, Mr. Albert    male   \n",
       "4          896       3  Hirvonen, Mrs. Alexander (Helga E Lindqvist)  female   \n",
       "\n",
       "    Age  SibSp  Parch   Ticket     Fare Cabin Embarked  \n",
       "0  34.5      0      0   330911   7.8292   NaN        Q  \n",
       "1  47.0      1      0   363272   7.0000   NaN        S  \n",
       "2  62.0      0      0   240276   9.6875   NaN        Q  \n",
       "3  27.0      0      0   315154   8.6625   NaN        S  \n",
       "4  22.0      1      1  3101298  12.2875   NaN        S  "
      ]
     },
     "execution_count": 5,
     "metadata": {},
     "output_type": "execute_result"
    }
   ],
   "source": [
    "test_data = pd.read_csv(\"/kaggle/input/titanic/test.csv\")\n",
    "test_data.head()"
   ]
  },
  {
   "cell_type": "markdown",
   "id": "6d0d33a2",
   "metadata": {
    "papermill": {
     "duration": 0.020679,
     "end_time": "2024-06-13T16:40:18.332925",
     "exception": false,
     "start_time": "2024-06-13T16:40:18.312246",
     "status": "completed"
    },
    "tags": []
   },
   "source": [
    "# Explorar Datos"
   ]
  },
  {
   "cell_type": "code",
   "execution_count": 6,
   "id": "c22f68de",
   "metadata": {
    "execution": {
     "iopub.execute_input": "2024-06-13T16:40:18.375976Z",
     "iopub.status.busy": "2024-06-13T16:40:18.375575Z",
     "iopub.status.idle": "2024-06-13T16:40:18.408750Z",
     "shell.execute_reply": "2024-06-13T16:40:18.407683Z"
    },
    "papermill": {
     "duration": 0.057537,
     "end_time": "2024-06-13T16:40:18.411199",
     "exception": false,
     "start_time": "2024-06-13T16:40:18.353662",
     "status": "completed"
    },
    "tags": []
   },
   "outputs": [
    {
     "data": {
      "text/html": [
       "<div>\n",
       "<style scoped>\n",
       "    .dataframe tbody tr th:only-of-type {\n",
       "        vertical-align: middle;\n",
       "    }\n",
       "\n",
       "    .dataframe tbody tr th {\n",
       "        vertical-align: top;\n",
       "    }\n",
       "\n",
       "    .dataframe thead th {\n",
       "        text-align: right;\n",
       "    }\n",
       "</style>\n",
       "<table border=\"1\" class=\"dataframe\">\n",
       "  <thead>\n",
       "    <tr style=\"text-align: right;\">\n",
       "      <th></th>\n",
       "      <th>PassengerId</th>\n",
       "      <th>Survived</th>\n",
       "      <th>Pclass</th>\n",
       "      <th>Age</th>\n",
       "      <th>SibSp</th>\n",
       "      <th>Parch</th>\n",
       "      <th>Fare</th>\n",
       "    </tr>\n",
       "  </thead>\n",
       "  <tbody>\n",
       "    <tr>\n",
       "      <th>count</th>\n",
       "      <td>891.000000</td>\n",
       "      <td>891.000000</td>\n",
       "      <td>891.000000</td>\n",
       "      <td>714.000000</td>\n",
       "      <td>891.000000</td>\n",
       "      <td>891.000000</td>\n",
       "      <td>891.000000</td>\n",
       "    </tr>\n",
       "    <tr>\n",
       "      <th>mean</th>\n",
       "      <td>446.000000</td>\n",
       "      <td>0.383838</td>\n",
       "      <td>2.308642</td>\n",
       "      <td>29.699118</td>\n",
       "      <td>0.523008</td>\n",
       "      <td>0.381594</td>\n",
       "      <td>32.204208</td>\n",
       "    </tr>\n",
       "    <tr>\n",
       "      <th>std</th>\n",
       "      <td>257.353842</td>\n",
       "      <td>0.486592</td>\n",
       "      <td>0.836071</td>\n",
       "      <td>14.526497</td>\n",
       "      <td>1.102743</td>\n",
       "      <td>0.806057</td>\n",
       "      <td>49.693429</td>\n",
       "    </tr>\n",
       "    <tr>\n",
       "      <th>min</th>\n",
       "      <td>1.000000</td>\n",
       "      <td>0.000000</td>\n",
       "      <td>1.000000</td>\n",
       "      <td>0.420000</td>\n",
       "      <td>0.000000</td>\n",
       "      <td>0.000000</td>\n",
       "      <td>0.000000</td>\n",
       "    </tr>\n",
       "    <tr>\n",
       "      <th>25%</th>\n",
       "      <td>223.500000</td>\n",
       "      <td>0.000000</td>\n",
       "      <td>2.000000</td>\n",
       "      <td>20.125000</td>\n",
       "      <td>0.000000</td>\n",
       "      <td>0.000000</td>\n",
       "      <td>7.910400</td>\n",
       "    </tr>\n",
       "    <tr>\n",
       "      <th>50%</th>\n",
       "      <td>446.000000</td>\n",
       "      <td>0.000000</td>\n",
       "      <td>3.000000</td>\n",
       "      <td>28.000000</td>\n",
       "      <td>0.000000</td>\n",
       "      <td>0.000000</td>\n",
       "      <td>14.454200</td>\n",
       "    </tr>\n",
       "    <tr>\n",
       "      <th>75%</th>\n",
       "      <td>668.500000</td>\n",
       "      <td>1.000000</td>\n",
       "      <td>3.000000</td>\n",
       "      <td>38.000000</td>\n",
       "      <td>1.000000</td>\n",
       "      <td>0.000000</td>\n",
       "      <td>31.000000</td>\n",
       "    </tr>\n",
       "    <tr>\n",
       "      <th>max</th>\n",
       "      <td>891.000000</td>\n",
       "      <td>1.000000</td>\n",
       "      <td>3.000000</td>\n",
       "      <td>80.000000</td>\n",
       "      <td>8.000000</td>\n",
       "      <td>6.000000</td>\n",
       "      <td>512.329200</td>\n",
       "    </tr>\n",
       "  </tbody>\n",
       "</table>\n",
       "</div>"
      ],
      "text/plain": [
       "       PassengerId    Survived      Pclass         Age       SibSp  \\\n",
       "count   891.000000  891.000000  891.000000  714.000000  891.000000   \n",
       "mean    446.000000    0.383838    2.308642   29.699118    0.523008   \n",
       "std     257.353842    0.486592    0.836071   14.526497    1.102743   \n",
       "min       1.000000    0.000000    1.000000    0.420000    0.000000   \n",
       "25%     223.500000    0.000000    2.000000   20.125000    0.000000   \n",
       "50%     446.000000    0.000000    3.000000   28.000000    0.000000   \n",
       "75%     668.500000    1.000000    3.000000   38.000000    1.000000   \n",
       "max     891.000000    1.000000    3.000000   80.000000    8.000000   \n",
       "\n",
       "            Parch        Fare  \n",
       "count  891.000000  891.000000  \n",
       "mean     0.381594   32.204208  \n",
       "std      0.806057   49.693429  \n",
       "min      0.000000    0.000000  \n",
       "25%      0.000000    7.910400  \n",
       "50%      0.000000   14.454200  \n",
       "75%      0.000000   31.000000  \n",
       "max      6.000000  512.329200  "
      ]
     },
     "execution_count": 6,
     "metadata": {},
     "output_type": "execute_result"
    }
   ],
   "source": [
    "train_data.describe()"
   ]
  },
  {
   "cell_type": "code",
   "execution_count": 7,
   "id": "dbbce8c7",
   "metadata": {
    "execution": {
     "iopub.execute_input": "2024-06-13T16:40:18.456146Z",
     "iopub.status.busy": "2024-06-13T16:40:18.455708Z",
     "iopub.status.idle": "2024-06-13T16:40:18.478767Z",
     "shell.execute_reply": "2024-06-13T16:40:18.477440Z"
    },
    "papermill": {
     "duration": 0.049145,
     "end_time": "2024-06-13T16:40:18.481376",
     "exception": false,
     "start_time": "2024-06-13T16:40:18.432231",
     "status": "completed"
    },
    "tags": []
   },
   "outputs": [
    {
     "data": {
      "text/html": [
       "<div>\n",
       "<style scoped>\n",
       "    .dataframe tbody tr th:only-of-type {\n",
       "        vertical-align: middle;\n",
       "    }\n",
       "\n",
       "    .dataframe tbody tr th {\n",
       "        vertical-align: top;\n",
       "    }\n",
       "\n",
       "    .dataframe thead th {\n",
       "        text-align: right;\n",
       "    }\n",
       "</style>\n",
       "<table border=\"1\" class=\"dataframe\">\n",
       "  <thead>\n",
       "    <tr style=\"text-align: right;\">\n",
       "      <th></th>\n",
       "      <th>Pclass</th>\n",
       "      <th>Survived</th>\n",
       "    </tr>\n",
       "  </thead>\n",
       "  <tbody>\n",
       "    <tr>\n",
       "      <th>0</th>\n",
       "      <td>1</td>\n",
       "      <td>0.629630</td>\n",
       "    </tr>\n",
       "    <tr>\n",
       "      <th>1</th>\n",
       "      <td>2</td>\n",
       "      <td>0.472826</td>\n",
       "    </tr>\n",
       "    <tr>\n",
       "      <th>2</th>\n",
       "      <td>3</td>\n",
       "      <td>0.242363</td>\n",
       "    </tr>\n",
       "  </tbody>\n",
       "</table>\n",
       "</div>"
      ],
      "text/plain": [
       "   Pclass  Survived\n",
       "0       1  0.629630\n",
       "1       2  0.472826\n",
       "2       3  0.242363"
      ]
     },
     "execution_count": 7,
     "metadata": {},
     "output_type": "execute_result"
    }
   ],
   "source": [
    "train_data[['Pclass', 'Survived']].groupby(['Pclass'], as_index=False).mean().sort_values(by='Survived', ascending=False)"
   ]
  },
  {
   "cell_type": "code",
   "execution_count": 8,
   "id": "32b8d7a5",
   "metadata": {
    "execution": {
     "iopub.execute_input": "2024-06-13T16:40:18.525533Z",
     "iopub.status.busy": "2024-06-13T16:40:18.525131Z",
     "iopub.status.idle": "2024-06-13T16:40:18.542475Z",
     "shell.execute_reply": "2024-06-13T16:40:18.541350Z"
    },
    "papermill": {
     "duration": 0.042343,
     "end_time": "2024-06-13T16:40:18.544907",
     "exception": false,
     "start_time": "2024-06-13T16:40:18.502564",
     "status": "completed"
    },
    "tags": []
   },
   "outputs": [
    {
     "data": {
      "text/html": [
       "<div>\n",
       "<style scoped>\n",
       "    .dataframe tbody tr th:only-of-type {\n",
       "        vertical-align: middle;\n",
       "    }\n",
       "\n",
       "    .dataframe tbody tr th {\n",
       "        vertical-align: top;\n",
       "    }\n",
       "\n",
       "    .dataframe thead th {\n",
       "        text-align: right;\n",
       "    }\n",
       "</style>\n",
       "<table border=\"1\" class=\"dataframe\">\n",
       "  <thead>\n",
       "    <tr style=\"text-align: right;\">\n",
       "      <th></th>\n",
       "      <th>Sex</th>\n",
       "      <th>Survived</th>\n",
       "    </tr>\n",
       "  </thead>\n",
       "  <tbody>\n",
       "    <tr>\n",
       "      <th>0</th>\n",
       "      <td>female</td>\n",
       "      <td>0.742038</td>\n",
       "    </tr>\n",
       "    <tr>\n",
       "      <th>1</th>\n",
       "      <td>male</td>\n",
       "      <td>0.188908</td>\n",
       "    </tr>\n",
       "  </tbody>\n",
       "</table>\n",
       "</div>"
      ],
      "text/plain": [
       "      Sex  Survived\n",
       "0  female  0.742038\n",
       "1    male  0.188908"
      ]
     },
     "execution_count": 8,
     "metadata": {},
     "output_type": "execute_result"
    }
   ],
   "source": [
    "train_data[['Sex', 'Survived']].groupby(['Sex'], as_index=False).mean().sort_values(by='Survived', ascending=False)"
   ]
  },
  {
   "cell_type": "code",
   "execution_count": 9,
   "id": "3c59c60f",
   "metadata": {
    "execution": {
     "iopub.execute_input": "2024-06-13T16:40:18.651151Z",
     "iopub.status.busy": "2024-06-13T16:40:18.650728Z",
     "iopub.status.idle": "2024-06-13T16:40:19.286439Z",
     "shell.execute_reply": "2024-06-13T16:40:19.285370Z"
    },
    "papermill": {
     "duration": 0.661463,
     "end_time": "2024-06-13T16:40:19.288794",
     "exception": false,
     "start_time": "2024-06-13T16:40:18.627331",
     "status": "completed"
    },
    "tags": []
   },
   "outputs": [
    {
     "data": {
      "text/plain": [
       "<seaborn.axisgrid.FacetGrid at 0x7c001fa1fc70>"
      ]
     },
     "execution_count": 9,
     "metadata": {},
     "output_type": "execute_result"
    },
    {
     "data": {
      "image/png": "[encoded data removed]",
      "text/plain": [
       "<Figure size 600x300 with 2 Axes>"
      ]
     },
     "metadata": {},
     "output_type": "display_data"
    }
   ],
   "source": [
    "import seaborn as sns\n",
    "\n",
    "g = sns.FacetGrid(train_data, col='Survived')\n",
    "g.map(plt.hist, 'Age', bins=20)"
   ]
  },
  {
   "cell_type": "code",
   "execution_count": 10,
   "id": "7a53423c",
   "metadata": {
    "execution": {
     "iopub.execute_input": "2024-06-13T16:40:19.335057Z",
     "iopub.status.busy": "2024-06-13T16:40:19.333926Z",
     "iopub.status.idle": "2024-06-13T16:40:19.339979Z",
     "shell.execute_reply": "2024-06-13T16:40:19.338799Z"
    },
    "papermill": {
     "duration": 0.032213,
     "end_time": "2024-06-13T16:40:19.342765",
     "exception": false,
     "start_time": "2024-06-13T16:40:19.310552",
     "status": "completed"
    },
    "tags": []
   },
   "outputs": [],
   "source": [
    "x = train_data.copy()"
   ]
  },
  {
   "cell_type": "code",
   "execution_count": 11,
   "id": "9382c280",
   "metadata": {
    "execution": {
     "iopub.execute_input": "2024-06-13T16:40:19.388774Z",
     "iopub.status.busy": "2024-06-13T16:40:19.388029Z",
     "iopub.status.idle": "2024-06-13T16:40:19.405225Z",
     "shell.execute_reply": "2024-06-13T16:40:19.403863Z"
    },
    "papermill": {
     "duration": 0.042611,
     "end_time": "2024-06-13T16:40:19.407326",
     "exception": false,
     "start_time": "2024-06-13T16:40:19.364715",
     "status": "completed"
    },
    "tags": []
   },
   "outputs": [
    {
     "data": {
      "text/html": [
       "<div>\n",
       "<style scoped>\n",
       "    .dataframe tbody tr th:only-of-type {\n",
       "        vertical-align: middle;\n",
       "    }\n",
       "\n",
       "    .dataframe tbody tr th {\n",
       "        vertical-align: top;\n",
       "    }\n",
       "\n",
       "    .dataframe thead th {\n",
       "        text-align: right;\n",
       "    }\n",
       "</style>\n",
       "<table border=\"1\" class=\"dataframe\">\n",
       "  <thead>\n",
       "    <tr style=\"text-align: right;\">\n",
       "      <th></th>\n",
       "      <th>PassengerId</th>\n",
       "      <th>Survived</th>\n",
       "      <th>Pclass</th>\n",
       "      <th>Name</th>\n",
       "      <th>Sex</th>\n",
       "      <th>Age</th>\n",
       "      <th>SibSp</th>\n",
       "      <th>Parch</th>\n",
       "      <th>Ticket</th>\n",
       "      <th>Fare</th>\n",
       "      <th>Cabin</th>\n",
       "      <th>Embarked</th>\n",
       "    </tr>\n",
       "  </thead>\n",
       "  <tbody>\n",
       "    <tr>\n",
       "      <th>0</th>\n",
       "      <td>1</td>\n",
       "      <td>0</td>\n",
       "      <td>3</td>\n",
       "      <td>Braund, Mr. Owen Harris</td>\n",
       "      <td>male</td>\n",
       "      <td>22.0</td>\n",
       "      <td>1</td>\n",
       "      <td>0</td>\n",
       "      <td>A/5 21171</td>\n",
       "      <td>7.2500</td>\n",
       "      <td>NaN</td>\n",
       "      <td>S</td>\n",
       "    </tr>\n",
       "    <tr>\n",
       "      <th>1</th>\n",
       "      <td>2</td>\n",
       "      <td>1</td>\n",
       "      <td>1</td>\n",
       "      <td>Cumings, Mrs. John Bradley (Florence Briggs Th...</td>\n",
       "      <td>female</td>\n",
       "      <td>38.0</td>\n",
       "      <td>1</td>\n",
       "      <td>0</td>\n",
       "      <td>PC 17599</td>\n",
       "      <td>71.2833</td>\n",
       "      <td>C85</td>\n",
       "      <td>C</td>\n",
       "    </tr>\n",
       "    <tr>\n",
       "      <th>2</th>\n",
       "      <td>3</td>\n",
       "      <td>1</td>\n",
       "      <td>3</td>\n",
       "      <td>Heikkinen, Miss. Laina</td>\n",
       "      <td>female</td>\n",
       "      <td>26.0</td>\n",
       "      <td>0</td>\n",
       "      <td>0</td>\n",
       "      <td>STON/O2. 3101282</td>\n",
       "      <td>7.9250</td>\n",
       "      <td>NaN</td>\n",
       "      <td>S</td>\n",
       "    </tr>\n",
       "    <tr>\n",
       "      <th>3</th>\n",
       "      <td>4</td>\n",
       "      <td>1</td>\n",
       "      <td>1</td>\n",
       "      <td>Futrelle, Mrs. Jacques Heath (Lily May Peel)</td>\n",
       "      <td>female</td>\n",
       "      <td>35.0</td>\n",
       "      <td>1</td>\n",
       "      <td>0</td>\n",
       "      <td>113803</td>\n",
       "      <td>53.1000</td>\n",
       "      <td>C123</td>\n",
       "      <td>S</td>\n",
       "    </tr>\n",
       "    <tr>\n",
       "      <th>4</th>\n",
       "      <td>5</td>\n",
       "      <td>0</td>\n",
       "      <td>3</td>\n",
       "      <td>Allen, Mr. William Henry</td>\n",
       "      <td>male</td>\n",
       "      <td>35.0</td>\n",
       "      <td>0</td>\n",
       "      <td>0</td>\n",
       "      <td>373450</td>\n",
       "      <td>8.0500</td>\n",
       "      <td>NaN</td>\n",
       "      <td>S</td>\n",
       "    </tr>\n",
       "  </tbody>\n",
       "</table>\n",
       "</div>"
      ],
      "text/plain": [
       "   PassengerId  Survived  Pclass  \\\n",
       "0            1         0       3   \n",
       "1            2         1       1   \n",
       "2            3         1       3   \n",
       "3            4         1       1   \n",
       "4            5         0       3   \n",
       "\n",
       "                                                Name     Sex   Age  SibSp  \\\n",
       "0                            Braund, Mr. Owen Harris    male  22.0      1   \n",
       "1  Cumings, Mrs. John Bradley (Florence Briggs Th...  female  38.0      1   \n",
       "2                             Heikkinen, Miss. Laina  female  26.0      0   \n",
       "3       Futrelle, Mrs. Jacques Heath (Lily May Peel)  female  35.0      1   \n",
       "4                           Allen, Mr. William Henry    male  35.0      0   \n",
       "\n",
       "   Parch            Ticket     Fare Cabin Embarked  \n",
       "0      0         A/5 21171   7.2500   NaN        S  \n",
       "1      0          PC 17599  71.2833   C85        C  \n",
       "2      0  STON/O2. 3101282   7.9250   NaN        S  \n",
       "3      0            113803  53.1000  C123        S  \n",
       "4      0            373450   8.0500   NaN        S  "
      ]
     },
     "execution_count": 11,
     "metadata": {},
     "output_type": "execute_result"
    }
   ],
   "source": [
    "x.head()"
   ]
  },
  {
   "cell_type": "code",
   "execution_count": 12,
   "id": "f8574fd0",
   "metadata": {
    "execution": {
     "iopub.execute_input": "2024-06-13T16:40:19.455149Z",
     "iopub.status.busy": "2024-06-13T16:40:19.454700Z",
     "iopub.status.idle": "2024-06-13T16:40:19.478542Z",
     "shell.execute_reply": "2024-06-13T16:40:19.477386Z"
    },
    "papermill": {
     "duration": 0.050477,
     "end_time": "2024-06-13T16:40:19.481432",
     "exception": false,
     "start_time": "2024-06-13T16:40:19.430955",
     "status": "completed"
    },
    "tags": []
   },
   "outputs": [
    {
     "data": {
      "text/html": [
       "<div>\n",
       "<style scoped>\n",
       "    .dataframe tbody tr th:only-of-type {\n",
       "        vertical-align: middle;\n",
       "    }\n",
       "\n",
       "    .dataframe tbody tr th {\n",
       "        vertical-align: top;\n",
       "    }\n",
       "\n",
       "    .dataframe thead th {\n",
       "        text-align: right;\n",
       "    }\n",
       "</style>\n",
       "<table border=\"1\" class=\"dataframe\">\n",
       "  <thead>\n",
       "    <tr style=\"text-align: right;\">\n",
       "      <th></th>\n",
       "      <th>PassengerId</th>\n",
       "      <th>Survived</th>\n",
       "      <th>Pclass</th>\n",
       "      <th>Name</th>\n",
       "      <th>Age</th>\n",
       "      <th>SibSp</th>\n",
       "      <th>Parch</th>\n",
       "      <th>Ticket</th>\n",
       "      <th>Fare</th>\n",
       "      <th>Cabin</th>\n",
       "      <th>Sex_female</th>\n",
       "      <th>Sex_male</th>\n",
       "      <th>Embarked_C</th>\n",
       "      <th>Embarked_Q</th>\n",
       "      <th>Embarked_S</th>\n",
       "    </tr>\n",
       "  </thead>\n",
       "  <tbody>\n",
       "    <tr>\n",
       "      <th>0</th>\n",
       "      <td>1</td>\n",
       "      <td>0</td>\n",
       "      <td>3</td>\n",
       "      <td>Braund, Mr. Owen Harris</td>\n",
       "      <td>22.0</td>\n",
       "      <td>1</td>\n",
       "      <td>0</td>\n",
       "      <td>A/5 21171</td>\n",
       "      <td>7.2500</td>\n",
       "      <td>NaN</td>\n",
       "      <td>False</td>\n",
       "      <td>True</td>\n",
       "      <td>False</td>\n",
       "      <td>False</td>\n",
       "      <td>True</td>\n",
       "    </tr>\n",
       "    <tr>\n",
       "      <th>1</th>\n",
       "      <td>2</td>\n",
       "      <td>1</td>\n",
       "      <td>1</td>\n",
       "      <td>Cumings, Mrs. John Bradley (Florence Briggs Th...</td>\n",
       "      <td>38.0</td>\n",
       "      <td>1</td>\n",
       "      <td>0</td>\n",
       "      <td>PC 17599</td>\n",
       "      <td>71.2833</td>\n",
       "      <td>C85</td>\n",
       "      <td>True</td>\n",
       "      <td>False</td>\n",
       "      <td>True</td>\n",
       "      <td>False</td>\n",
       "      <td>False</td>\n",
       "    </tr>\n",
       "    <tr>\n",
       "      <th>2</th>\n",
       "      <td>3</td>\n",
       "      <td>1</td>\n",
       "      <td>3</td>\n",
       "      <td>Heikkinen, Miss. Laina</td>\n",
       "      <td>26.0</td>\n",
       "      <td>0</td>\n",
       "      <td>0</td>\n",
       "      <td>STON/O2. 3101282</td>\n",
       "      <td>7.9250</td>\n",
       "      <td>NaN</td>\n",
       "      <td>True</td>\n",
       "      <td>False</td>\n",
       "      <td>False</td>\n",
       "      <td>False</td>\n",
       "      <td>True</td>\n",
       "    </tr>\n",
       "    <tr>\n",
       "      <th>3</th>\n",
       "      <td>4</td>\n",
       "      <td>1</td>\n",
       "      <td>1</td>\n",
       "      <td>Futrelle, Mrs. Jacques Heath (Lily May Peel)</td>\n",
       "      <td>35.0</td>\n",
       "      <td>1</td>\n",
       "      <td>0</td>\n",
       "      <td>113803</td>\n",
       "      <td>53.1000</td>\n",
       "      <td>C123</td>\n",
       "      <td>True</td>\n",
       "      <td>False</td>\n",
       "      <td>False</td>\n",
       "      <td>False</td>\n",
       "      <td>True</td>\n",
       "    </tr>\n",
       "    <tr>\n",
       "      <th>4</th>\n",
       "      <td>5</td>\n",
       "      <td>0</td>\n",
       "      <td>3</td>\n",
       "      <td>Allen, Mr. William Henry</td>\n",
       "      <td>35.0</td>\n",
       "      <td>0</td>\n",
       "      <td>0</td>\n",
       "      <td>373450</td>\n",
       "      <td>8.0500</td>\n",
       "      <td>NaN</td>\n",
       "      <td>False</td>\n",
       "      <td>True</td>\n",
       "      <td>False</td>\n",
       "      <td>False</td>\n",
       "      <td>True</td>\n",
       "    </tr>\n",
       "  </tbody>\n",
       "</table>\n",
       "</div>"
      ],
      "text/plain": [
       "   PassengerId  Survived  Pclass  \\\n",
       "0            1         0       3   \n",
       "1            2         1       1   \n",
       "2            3         1       3   \n",
       "3            4         1       1   \n",
       "4            5         0       3   \n",
       "\n",
       "                                                Name   Age  SibSp  Parch  \\\n",
       "0                            Braund, Mr. Owen Harris  22.0      1      0   \n",
       "1  Cumings, Mrs. John Bradley (Florence Briggs Th...  38.0      1      0   \n",
       "2                             Heikkinen, Miss. Laina  26.0      0      0   \n",
       "3       Futrelle, Mrs. Jacques Heath (Lily May Peel)  35.0      1      0   \n",
       "4                           Allen, Mr. William Henry  35.0      0      0   \n",
       "\n",
       "             Ticket     Fare Cabin  Sex_female  Sex_male  Embarked_C  \\\n",
       "0         A/5 21171   7.2500   NaN       False      True       False   \n",
       "1          PC 17599  71.2833   C85        True     False        True   \n",
       "2  STON/O2. 3101282   7.9250   NaN        True     False       False   \n",
       "3            113803  53.1000  C123        True     False       False   \n",
       "4            373450   8.0500   NaN       False      True       False   \n",
       "\n",
       "   Embarked_Q  Embarked_S  \n",
       "0       False        True  \n",
       "1       False       False  \n",
       "2       False        True  \n",
       "3       False        True  \n",
       "4       False        True  "
      ]
     },
     "execution_count": 12,
     "metadata": {},
     "output_type": "execute_result"
    }
   ],
   "source": [
    "df_enc = pd.get_dummies(x, columns=[\"Sex\", \"Embarked\"])\n",
    "df_enc.head()"
   ]
  },
  {
   "cell_type": "code",
   "execution_count": 13,
   "id": "55476036",
   "metadata": {
    "execution": {
     "iopub.execute_input": "2024-06-13T16:40:19.529075Z",
     "iopub.status.busy": "2024-06-13T16:40:19.528648Z",
     "iopub.status.idle": "2024-06-13T16:40:19.545946Z",
     "shell.execute_reply": "2024-06-13T16:40:19.544618Z"
    },
    "papermill": {
     "duration": 0.044763,
     "end_time": "2024-06-13T16:40:19.549137",
     "exception": false,
     "start_time": "2024-06-13T16:40:19.504374",
     "status": "completed"
    },
    "tags": []
   },
   "outputs": [
    {
     "name": "stdout",
     "output_type": "stream",
     "text": [
      "<class 'pandas.core.frame.DataFrame'>\n",
      "RangeIndex: 891 entries, 0 to 890\n",
      "Data columns (total 15 columns):\n",
      " #   Column       Non-Null Count  Dtype  \n",
      "---  ------       --------------  -----  \n",
      " 0   PassengerId  891 non-null    int64  \n",
      " 1   Survived     891 non-null    int64  \n",
      " 2   Pclass       891 non-null    int64  \n",
      " 3   Name         891 non-null    object \n",
      " 4   Age          714 non-null    float64\n",
      " 5   SibSp        891 non-null    int64  \n",
      " 6   Parch        891 non-null    int64  \n",
      " 7   Ticket       891 non-null    object \n",
      " 8   Fare         891 non-null    float64\n",
      " 9   Cabin        204 non-null    object \n",
      " 10  Sex_female   891 non-null    bool   \n",
      " 11  Sex_male     891 non-null    bool   \n",
      " 12  Embarked_C   891 non-null    bool   \n",
      " 13  Embarked_Q   891 non-null    bool   \n",
      " 14  Embarked_S   891 non-null    bool   \n",
      "dtypes: bool(5), float64(2), int64(5), object(3)\n",
      "memory usage: 74.1+ KB\n"
     ]
    }
   ],
   "source": [
    "df_enc.info()"
   ]
  },
  {
   "cell_type": "code",
   "execution_count": 14,
   "id": "eff0c7b9",
   "metadata": {
    "execution": {
     "iopub.execute_input": "2024-06-13T16:40:19.597624Z",
     "iopub.status.busy": "2024-06-13T16:40:19.597223Z",
     "iopub.status.idle": "2024-06-13T16:40:19.612833Z",
     "shell.execute_reply": "2024-06-13T16:40:19.611550Z"
    },
    "papermill": {
     "duration": 0.043893,
     "end_time": "2024-06-13T16:40:19.615781",
     "exception": false,
     "start_time": "2024-06-13T16:40:19.571888",
     "status": "completed"
    },
    "tags": []
   },
   "outputs": [
    {
     "name": "stdout",
     "output_type": "stream",
     "text": [
      "     PassengerId  Survived  Pclass                                      Name  \\\n",
      "0              1         0       3                   Braund, Mr. Owen Harris   \n",
      "2              3         1       3                    Heikkinen, Miss. Laina   \n",
      "4              5         0       3                  Allen, Mr. William Henry   \n",
      "5              6         0       3                          Moran, Mr. James   \n",
      "7              8         0       3            Palsson, Master. Gosta Leonard   \n",
      "..           ...       ...     ...                                       ...   \n",
      "884          885         0       3                    Sutehall, Mr. Henry Jr   \n",
      "885          886         0       3      Rice, Mrs. William (Margaret Norton)   \n",
      "886          887         0       2                     Montvila, Rev. Juozas   \n",
      "888          889         0       3  Johnston, Miss. Catherine Helen \"Carrie\"   \n",
      "890          891         0       3                       Dooley, Mr. Patrick   \n",
      "\n",
      "      Age  SibSp  Parch            Ticket     Fare Cabin  Sex_female  \\\n",
      "0    22.0      1      0         A/5 21171   7.2500   NaN       False   \n",
      "2    26.0      0      0  STON/O2. 3101282   7.9250   NaN        True   \n",
      "4    35.0      0      0            373450   8.0500   NaN       False   \n",
      "5     NaN      0      0            330877   8.4583   NaN       False   \n",
      "7     2.0      3      1            349909  21.0750   NaN       False   \n",
      "..    ...    ...    ...               ...      ...   ...         ...   \n",
      "884  25.0      0      0   SOTON/OQ 392076   7.0500   NaN       False   \n",
      "885  39.0      0      5            382652  29.1250   NaN        True   \n",
      "886  27.0      0      0            211536  13.0000   NaN       False   \n",
      "888   NaN      1      2        W./C. 6607  23.4500   NaN        True   \n",
      "890  32.0      0      0            370376   7.7500   NaN       False   \n",
      "\n",
      "     Sex_male  Embarked_C  Embarked_Q  Embarked_S  \n",
      "0        True       False       False        True  \n",
      "2       False       False       False        True  \n",
      "4        True       False       False        True  \n",
      "5        True       False        True       False  \n",
      "7        True       False       False        True  \n",
      "..        ...         ...         ...         ...  \n",
      "884      True       False       False        True  \n",
      "885     False       False        True       False  \n",
      "886      True       False       False        True  \n",
      "888     False       False       False        True  \n",
      "890      True       False        True       False  \n",
      "\n",
      "[706 rows x 15 columns]\n"
     ]
    }
   ],
   "source": [
    "print(df_enc[df_enc.isnull().any(axis=1)])"
   ]
  },
  {
   "cell_type": "code",
   "execution_count": 15,
   "id": "4346c43d",
   "metadata": {
    "execution": {
     "iopub.execute_input": "2024-06-13T16:40:19.663913Z",
     "iopub.status.busy": "2024-06-13T16:40:19.663513Z",
     "iopub.status.idle": "2024-06-13T16:40:20.050497Z",
     "shell.execute_reply": "2024-06-13T16:40:20.049149Z"
    },
    "papermill": {
     "duration": 0.413962,
     "end_time": "2024-06-13T16:40:20.053101",
     "exception": false,
     "start_time": "2024-06-13T16:40:19.639139",
     "status": "completed"
    },
    "tags": []
   },
   "outputs": [
    {
     "name": "stderr",
     "output_type": "stream",
     "text": [
      "/opt/conda/lib/python3.10/site-packages/seaborn/_oldcore.py:1119: FutureWarning: use_inf_as_na option is deprecated and will be removed in a future version. Convert inf values to NaN before operating instead.\n",
      "  with pd.option_context('mode.use_inf_as_na', True):\n"
     ]
    },
    {
     "data": {
      "image/png": "[encoded data removed]",
      "text/plain": [
       "<Figure size 1000x600 with 1 Axes>"
      ]
     },
     "metadata": {},
     "output_type": "display_data"
    }
   ],
   "source": [
    "plt.figure(figsize=(10, 6))\n",
    "sns.histplot(train_data['Fare'], kde=True, bins=30)\n",
    "plt.title('Histograma de Fare')\n",
    "plt.xlabel('Fare')\n",
    "plt.ylabel('Frecuencia')\n",
    "plt.show()"
   ]
  },
  {
   "cell_type": "code",
   "execution_count": 16,
   "id": "1b6774a5",
   "metadata": {
    "execution": {
     "iopub.execute_input": "2024-06-13T16:40:20.103755Z",
     "iopub.status.busy": "2024-06-13T16:40:20.103346Z",
     "iopub.status.idle": "2024-06-13T16:40:20.123950Z",
     "shell.execute_reply": "2024-06-13T16:40:20.122393Z"
    },
    "papermill": {
     "duration": 0.049278,
     "end_time": "2024-06-13T16:40:20.126499",
     "exception": false,
     "start_time": "2024-06-13T16:40:20.077221",
     "status": "completed"
    },
    "tags": []
   },
   "outputs": [
    {
     "name": "stdout",
     "output_type": "stream",
     "text": [
      "Fare\n",
      "(0, 50]       716\n",
      "(50, 100]     107\n",
      "(100, 150]     24\n",
      "(150, 200]      9\n",
      "(200, 250]     11\n",
      "(250, 300]      6\n",
      "(300, 350]      0\n",
      "(350, 400]      0\n",
      "(400, 450]      0\n",
      "(450, 500]      0\n",
      "(500, 550]      3\n",
      "Name: count, dtype: int64\n"
     ]
    }
   ],
   "source": [
    "bins = list(range(0, int(train_data['Fare'].max()) + 50, 50))\n",
    "\n",
    "# Dividir la variable Fare en grupos\n",
    "aux = train_data\n",
    "print(pd.cut(train_data['Fare'], bins=bins).value_counts().sort_index())"
   ]
  },
  {
   "cell_type": "code",
   "execution_count": 17,
   "id": "b7f49455",
   "metadata": {
    "execution": {
     "iopub.execute_input": "2024-06-13T16:40:20.175528Z",
     "iopub.status.busy": "2024-06-13T16:40:20.175105Z",
     "iopub.status.idle": "2024-06-13T16:40:20.183209Z",
     "shell.execute_reply": "2024-06-13T16:40:20.182021Z"
    },
    "papermill": {
     "duration": 0.03557,
     "end_time": "2024-06-13T16:40:20.185614",
     "exception": false,
     "start_time": "2024-06-13T16:40:20.150044",
     "status": "completed"
    },
    "tags": []
   },
   "outputs": [
    {
     "name": "stdout",
     "output_type": "stream",
     "text": [
      "Cabin\n",
      "B96 B98        4\n",
      "G6             4\n",
      "C23 C25 C27    4\n",
      "C22 C26        3\n",
      "F33            3\n",
      "              ..\n",
      "E34            1\n",
      "C7             1\n",
      "C54            1\n",
      "E36            1\n",
      "C148           1\n",
      "Name: count, Length: 147, dtype: int64\n"
     ]
    }
   ],
   "source": [
    "print(train_data['Cabin'].value_counts())"
   ]
  },
  {
   "cell_type": "markdown",
   "id": "d6881cc1",
   "metadata": {
    "papermill": {
     "duration": 0.023761,
     "end_time": "2024-06-13T16:40:20.233899",
     "exception": false,
     "start_time": "2024-06-13T16:40:20.210138",
     "status": "completed"
    },
    "tags": []
   },
   "source": [
    "# Modelo 0 (punto de partida)"
   ]
  },
  {
   "cell_type": "markdown",
   "id": "436db8b7",
   "metadata": {
    "papermill": {
     "duration": 0.024187,
     "end_time": "2024-06-13T16:40:20.282526",
     "exception": false,
     "start_time": "2024-06-13T16:40:20.258339",
     "status": "completed"
    },
    "tags": []
   },
   "source": [
    "Generamos un primer modelo sencillo de un RF con algunas variables para ver una estimación del accuracy y tener un punto de partida"
   ]
  },
  {
   "cell_type": "code",
   "execution_count": 18,
   "id": "f3dd5f31",
   "metadata": {
    "execution": {
     "iopub.execute_input": "2024-06-13T16:40:20.334135Z",
     "iopub.status.busy": "2024-06-13T16:40:20.332987Z",
     "iopub.status.idle": "2024-06-13T16:40:20.345509Z",
     "shell.execute_reply": "2024-06-13T16:40:20.344231Z"
    },
    "papermill": {
     "duration": 0.04125,
     "end_time": "2024-06-13T16:40:20.348241",
     "exception": false,
     "start_time": "2024-06-13T16:40:20.306991",
     "status": "completed"
    },
    "tags": []
   },
   "outputs": [],
   "source": [
    "y = train_data[\"Survived\"]\n",
    "\n",
    "features = [\"Pclass\", \"Sex\", \"SibSp\", \"Parch\"]\n",
    "X_train, X_test, y_train, y_test = train_test_split(train_data[features], y, test_size=0.2, random_state=42, stratify=y)"
   ]
  },
  {
   "cell_type": "code",
   "execution_count": 19,
   "id": "894b01a2",
   "metadata": {
    "execution": {
     "iopub.execute_input": "2024-06-13T16:40:20.397645Z",
     "iopub.status.busy": "2024-06-13T16:40:20.397209Z",
     "iopub.status.idle": "2024-06-13T16:40:20.410852Z",
     "shell.execute_reply": "2024-06-13T16:40:20.409565Z"
    },
    "papermill": {
     "duration": 0.041637,
     "end_time": "2024-06-13T16:40:20.413333",
     "exception": false,
     "start_time": "2024-06-13T16:40:20.371696",
     "status": "completed"
    },
    "tags": []
   },
   "outputs": [],
   "source": [
    "X_train = pd.get_dummies(X_train[features])\n",
    "X_test = pd.get_dummies(X_test[features])"
   ]
  },
  {
   "cell_type": "code",
   "execution_count": 20,
   "id": "bce36b3d",
   "metadata": {
    "execution": {
     "iopub.execute_input": "2024-06-13T16:40:20.463835Z",
     "iopub.status.busy": "2024-06-13T16:40:20.463422Z",
     "iopub.status.idle": "2024-06-13T16:40:20.662952Z",
     "shell.execute_reply": "2024-06-13T16:40:20.661732Z"
    },
    "papermill": {
     "duration": 0.227588,
     "end_time": "2024-06-13T16:40:20.665692",
     "exception": false,
     "start_time": "2024-06-13T16:40:20.438104",
     "status": "completed"
    },
    "tags": []
   },
   "outputs": [],
   "source": [
    "model = RandomForestClassifier(n_estimators=100, max_depth=5, random_state=1)\n",
    "\n",
    "\n",
    "model.fit(X_train, y_train)\n",
    "predictions = model.predict(X_test)"
   ]
  },
  {
   "cell_type": "code",
   "execution_count": 21,
   "id": "81bb507e",
   "metadata": {
    "execution": {
     "iopub.execute_input": "2024-06-13T16:40:20.715484Z",
     "iopub.status.busy": "2024-06-13T16:40:20.715044Z",
     "iopub.status.idle": "2024-06-13T16:40:20.721993Z",
     "shell.execute_reply": "2024-06-13T16:40:20.720749Z"
    },
    "papermill": {
     "duration": 0.034765,
     "end_time": "2024-06-13T16:40:20.724545",
     "exception": false,
     "start_time": "2024-06-13T16:40:20.689780",
     "status": "completed"
    },
    "tags": []
   },
   "outputs": [],
   "source": [
    "accuracy = accuracy_score(y_test, predictions)"
   ]
  },
  {
   "cell_type": "code",
   "execution_count": 22,
   "id": "905ac54a",
   "metadata": {
    "execution": {
     "iopub.execute_input": "2024-06-13T16:40:20.774112Z",
     "iopub.status.busy": "2024-06-13T16:40:20.773686Z",
     "iopub.status.idle": "2024-06-13T16:40:20.779431Z",
     "shell.execute_reply": "2024-06-13T16:40:20.778344Z"
    },
    "papermill": {
     "duration": 0.033305,
     "end_time": "2024-06-13T16:40:20.781836",
     "exception": false,
     "start_time": "2024-06-13T16:40:20.748531",
     "status": "completed"
    },
    "tags": []
   },
   "outputs": [
    {
     "name": "stdout",
     "output_type": "stream",
     "text": [
      "Accuracy base:  0.770949720670391\n"
     ]
    }
   ],
   "source": [
    "print(\"Accuracy base: \", accuracy)"
   ]
  },
  {
   "cell_type": "code",
   "execution_count": 23,
   "id": "fe54d4b6",
   "metadata": {
    "execution": {
     "iopub.execute_input": "2024-06-13T16:40:20.832087Z",
     "iopub.status.busy": "2024-06-13T16:40:20.831657Z",
     "iopub.status.idle": "2024-06-13T16:40:20.837637Z",
     "shell.execute_reply": "2024-06-13T16:40:20.836170Z"
    },
    "papermill": {
     "duration": 0.034798,
     "end_time": "2024-06-13T16:40:20.840237",
     "exception": false,
     "start_time": "2024-06-13T16:40:20.805439",
     "status": "completed"
    },
    "tags": []
   },
   "outputs": [],
   "source": [
    "# output = pd.DataFrame({'PassengerId': test_data_ori.PassengerId, 'Survived': predictions})\n",
    "# output.to_csv('submission.csv', index=False)\n",
    "# print(\"Your submission was successfully saved!\")"
   ]
  },
  {
   "cell_type": "markdown",
   "id": "79ec975f",
   "metadata": {
    "papermill": {
     "duration": 0.023766,
     "end_time": "2024-06-13T16:40:20.895693",
     "exception": false,
     "start_time": "2024-06-13T16:40:20.871927",
     "status": "completed"
    },
    "tags": []
   },
   "source": [
    "# Preprocesamiento de los datos"
   ]
  },
  {
   "cell_type": "markdown",
   "id": "97ac5291",
   "metadata": {
    "papermill": {
     "duration": 0.024183,
     "end_time": "2024-06-13T16:40:20.943479",
     "exception": false,
     "start_time": "2024-06-13T16:40:20.919296",
     "status": "completed"
    },
    "tags": []
   },
   "source": [
    "A continuación se trabajarán una serie de técnicas para intentar mejorar el conjunto de datos"
   ]
  },
  {
   "cell_type": "code",
   "execution_count": 24,
   "id": "4732b3bf",
   "metadata": {
    "execution": {
     "iopub.execute_input": "2024-06-13T16:40:20.995792Z",
     "iopub.status.busy": "2024-06-13T16:40:20.995370Z",
     "iopub.status.idle": "2024-06-13T16:40:21.013197Z",
     "shell.execute_reply": "2024-06-13T16:40:21.011845Z"
    },
    "papermill": {
     "duration": 0.048186,
     "end_time": "2024-06-13T16:40:21.015573",
     "exception": false,
     "start_time": "2024-06-13T16:40:20.967387",
     "status": "completed"
    },
    "tags": []
   },
   "outputs": [
    {
     "data": {
      "text/html": [
       "<div>\n",
       "<style scoped>\n",
       "    .dataframe tbody tr th:only-of-type {\n",
       "        vertical-align: middle;\n",
       "    }\n",
       "\n",
       "    .dataframe tbody tr th {\n",
       "        vertical-align: top;\n",
       "    }\n",
       "\n",
       "    .dataframe thead th {\n",
       "        text-align: right;\n",
       "    }\n",
       "</style>\n",
       "<table border=\"1\" class=\"dataframe\">\n",
       "  <thead>\n",
       "    <tr style=\"text-align: right;\">\n",
       "      <th></th>\n",
       "      <th>PassengerId</th>\n",
       "      <th>Survived</th>\n",
       "      <th>Pclass</th>\n",
       "      <th>Name</th>\n",
       "      <th>Sex</th>\n",
       "      <th>Age</th>\n",
       "      <th>SibSp</th>\n",
       "      <th>Parch</th>\n",
       "      <th>Ticket</th>\n",
       "      <th>Fare</th>\n",
       "      <th>Cabin</th>\n",
       "      <th>Embarked</th>\n",
       "    </tr>\n",
       "  </thead>\n",
       "  <tbody>\n",
       "    <tr>\n",
       "      <th>0</th>\n",
       "      <td>1</td>\n",
       "      <td>0</td>\n",
       "      <td>3</td>\n",
       "      <td>Braund, Mr. Owen Harris</td>\n",
       "      <td>male</td>\n",
       "      <td>22.0</td>\n",
       "      <td>1</td>\n",
       "      <td>0</td>\n",
       "      <td>A/5 21171</td>\n",
       "      <td>7.2500</td>\n",
       "      <td>NaN</td>\n",
       "      <td>S</td>\n",
       "    </tr>\n",
       "    <tr>\n",
       "      <th>1</th>\n",
       "      <td>2</td>\n",
       "      <td>1</td>\n",
       "      <td>1</td>\n",
       "      <td>Cumings, Mrs. John Bradley (Florence Briggs Th...</td>\n",
       "      <td>female</td>\n",
       "      <td>38.0</td>\n",
       "      <td>1</td>\n",
       "      <td>0</td>\n",
       "      <td>PC 17599</td>\n",
       "      <td>71.2833</td>\n",
       "      <td>C85</td>\n",
       "      <td>C</td>\n",
       "    </tr>\n",
       "    <tr>\n",
       "      <th>2</th>\n",
       "      <td>3</td>\n",
       "      <td>1</td>\n",
       "      <td>3</td>\n",
       "      <td>Heikkinen, Miss. Laina</td>\n",
       "      <td>female</td>\n",
       "      <td>26.0</td>\n",
       "      <td>0</td>\n",
       "      <td>0</td>\n",
       "      <td>STON/O2. 3101282</td>\n",
       "      <td>7.9250</td>\n",
       "      <td>NaN</td>\n",
       "      <td>S</td>\n",
       "    </tr>\n",
       "    <tr>\n",
       "      <th>3</th>\n",
       "      <td>4</td>\n",
       "      <td>1</td>\n",
       "      <td>1</td>\n",
       "      <td>Futrelle, Mrs. Jacques Heath (Lily May Peel)</td>\n",
       "      <td>female</td>\n",
       "      <td>35.0</td>\n",
       "      <td>1</td>\n",
       "      <td>0</td>\n",
       "      <td>113803</td>\n",
       "      <td>53.1000</td>\n",
       "      <td>C123</td>\n",
       "      <td>S</td>\n",
       "    </tr>\n",
       "    <tr>\n",
       "      <th>4</th>\n",
       "      <td>5</td>\n",
       "      <td>0</td>\n",
       "      <td>3</td>\n",
       "      <td>Allen, Mr. William Henry</td>\n",
       "      <td>male</td>\n",
       "      <td>35.0</td>\n",
       "      <td>0</td>\n",
       "      <td>0</td>\n",
       "      <td>373450</td>\n",
       "      <td>8.0500</td>\n",
       "      <td>NaN</td>\n",
       "      <td>S</td>\n",
       "    </tr>\n",
       "  </tbody>\n",
       "</table>\n",
       "</div>"
      ],
      "text/plain": [
       "   PassengerId  Survived  Pclass  \\\n",
       "0            1         0       3   \n",
       "1            2         1       1   \n",
       "2            3         1       3   \n",
       "3            4         1       1   \n",
       "4            5         0       3   \n",
       "\n",
       "                                                Name     Sex   Age  SibSp  \\\n",
       "0                            Braund, Mr. Owen Harris    male  22.0      1   \n",
       "1  Cumings, Mrs. John Bradley (Florence Briggs Th...  female  38.0      1   \n",
       "2                             Heikkinen, Miss. Laina  female  26.0      0   \n",
       "3       Futrelle, Mrs. Jacques Heath (Lily May Peel)  female  35.0      1   \n",
       "4                           Allen, Mr. William Henry    male  35.0      0   \n",
       "\n",
       "   Parch            Ticket     Fare Cabin Embarked  \n",
       "0      0         A/5 21171   7.2500   NaN        S  \n",
       "1      0          PC 17599  71.2833   C85        C  \n",
       "2      0  STON/O2. 3101282   7.9250   NaN        S  \n",
       "3      0            113803  53.1000  C123        S  \n",
       "4      0            373450   8.0500   NaN        S  "
      ]
     },
     "execution_count": 24,
     "metadata": {},
     "output_type": "execute_result"
    }
   ],
   "source": [
    "train_data.head()"
   ]
  },
  {
   "cell_type": "markdown",
   "id": "553f7468",
   "metadata": {
    "papermill": {
     "duration": 0.023703,
     "end_time": "2024-06-13T16:40:21.064263",
     "exception": false,
     "start_time": "2024-06-13T16:40:21.040560",
     "status": "completed"
    },
    "tags": []
   },
   "source": [
    "### Eliminación de variables"
   ]
  },
  {
   "cell_type": "markdown",
   "id": "178b529a",
   "metadata": {
    "papermill": {
     "duration": 0.023789,
     "end_time": "2024-06-13T16:40:21.112637",
     "exception": false,
     "start_time": "2024-06-13T16:40:21.088848",
     "status": "completed"
    },
    "tags": []
   },
   "source": [
    "Delete variables PasssengerID, Name y Ticket because they don't give us relevant information"
   ]
  },
  {
   "cell_type": "code",
   "execution_count": 25,
   "id": "10e96731",
   "metadata": {
    "execution": {
     "iopub.execute_input": "2024-06-13T16:40:21.170615Z",
     "iopub.status.busy": "2024-06-13T16:40:21.167798Z",
     "iopub.status.idle": "2024-06-13T16:40:21.189165Z",
     "shell.execute_reply": "2024-06-13T16:40:21.187792Z"
    },
    "papermill": {
     "duration": 0.054949,
     "end_time": "2024-06-13T16:40:21.191656",
     "exception": false,
     "start_time": "2024-06-13T16:40:21.136707",
     "status": "completed"
    },
    "tags": []
   },
   "outputs": [
    {
     "data": {
      "text/html": [
       "<div>\n",
       "<style scoped>\n",
       "    .dataframe tbody tr th:only-of-type {\n",
       "        vertical-align: middle;\n",
       "    }\n",
       "\n",
       "    .dataframe tbody tr th {\n",
       "        vertical-align: top;\n",
       "    }\n",
       "\n",
       "    .dataframe thead th {\n",
       "        text-align: right;\n",
       "    }\n",
       "</style>\n",
       "<table border=\"1\" class=\"dataframe\">\n",
       "  <thead>\n",
       "    <tr style=\"text-align: right;\">\n",
       "      <th></th>\n",
       "      <th>Survived</th>\n",
       "      <th>Pclass</th>\n",
       "      <th>Sex</th>\n",
       "      <th>Age</th>\n",
       "      <th>SibSp</th>\n",
       "      <th>Parch</th>\n",
       "      <th>Fare</th>\n",
       "      <th>Embarked</th>\n",
       "    </tr>\n",
       "  </thead>\n",
       "  <tbody>\n",
       "    <tr>\n",
       "      <th>0</th>\n",
       "      <td>0</td>\n",
       "      <td>3</td>\n",
       "      <td>male</td>\n",
       "      <td>22.0</td>\n",
       "      <td>1</td>\n",
       "      <td>0</td>\n",
       "      <td>7.2500</td>\n",
       "      <td>S</td>\n",
       "    </tr>\n",
       "    <tr>\n",
       "      <th>1</th>\n",
       "      <td>1</td>\n",
       "      <td>1</td>\n",
       "      <td>female</td>\n",
       "      <td>38.0</td>\n",
       "      <td>1</td>\n",
       "      <td>0</td>\n",
       "      <td>71.2833</td>\n",
       "      <td>C</td>\n",
       "    </tr>\n",
       "    <tr>\n",
       "      <th>2</th>\n",
       "      <td>1</td>\n",
       "      <td>3</td>\n",
       "      <td>female</td>\n",
       "      <td>26.0</td>\n",
       "      <td>0</td>\n",
       "      <td>0</td>\n",
       "      <td>7.9250</td>\n",
       "      <td>S</td>\n",
       "    </tr>\n",
       "    <tr>\n",
       "      <th>3</th>\n",
       "      <td>1</td>\n",
       "      <td>1</td>\n",
       "      <td>female</td>\n",
       "      <td>35.0</td>\n",
       "      <td>1</td>\n",
       "      <td>0</td>\n",
       "      <td>53.1000</td>\n",
       "      <td>S</td>\n",
       "    </tr>\n",
       "    <tr>\n",
       "      <th>4</th>\n",
       "      <td>0</td>\n",
       "      <td>3</td>\n",
       "      <td>male</td>\n",
       "      <td>35.0</td>\n",
       "      <td>0</td>\n",
       "      <td>0</td>\n",
       "      <td>8.0500</td>\n",
       "      <td>S</td>\n",
       "    </tr>\n",
       "  </tbody>\n",
       "</table>\n",
       "</div>"
      ],
      "text/plain": [
       "   Survived  Pclass     Sex   Age  SibSp  Parch     Fare Embarked\n",
       "0         0       3    male  22.0      1      0   7.2500        S\n",
       "1         1       1  female  38.0      1      0  71.2833        C\n",
       "2         1       3  female  26.0      0      0   7.9250        S\n",
       "3         1       1  female  35.0      1      0  53.1000        S\n",
       "4         0       3    male  35.0      0      0   8.0500        S"
      ]
     },
     "execution_count": 25,
     "metadata": {},
     "output_type": "execute_result"
    }
   ],
   "source": [
    "train_data_del = train_data.drop([\"PassengerId\", \"Name\", \"Ticket\", \"Cabin\"], axis = 1)\n",
    "train_data_del.head()"
   ]
  },
  {
   "cell_type": "markdown",
   "id": "986c9a3e",
   "metadata": {
    "papermill": {
     "duration": 0.024295,
     "end_time": "2024-06-13T16:40:21.240132",
     "exception": false,
     "start_time": "2024-06-13T16:40:21.215837",
     "status": "completed"
    },
    "tags": []
   },
   "source": [
    "### Discretización de las variables"
   ]
  },
  {
   "cell_type": "markdown",
   "id": "e6aac918",
   "metadata": {
    "papermill": {
     "duration": 0.025874,
     "end_time": "2024-06-13T16:40:21.290681",
     "exception": false,
     "start_time": "2024-06-13T16:40:21.264807",
     "status": "completed"
    },
    "tags": []
   },
   "source": [
    "We're going to split the Age variable in some strip"
   ]
  },
  {
   "cell_type": "code",
   "execution_count": 26,
   "id": "0eed7564",
   "metadata": {
    "execution": {
     "iopub.execute_input": "2024-06-13T16:40:21.345233Z",
     "iopub.status.busy": "2024-06-13T16:40:21.343807Z",
     "iopub.status.idle": "2024-06-13T16:40:21.362381Z",
     "shell.execute_reply": "2024-06-13T16:40:21.361221Z"
    },
    "papermill": {
     "duration": 0.04901,
     "end_time": "2024-06-13T16:40:21.365354",
     "exception": false,
     "start_time": "2024-06-13T16:40:21.316344",
     "status": "completed"
    },
    "tags": []
   },
   "outputs": [
    {
     "data": {
      "text/html": [
       "<div>\n",
       "<style scoped>\n",
       "    .dataframe tbody tr th:only-of-type {\n",
       "        vertical-align: middle;\n",
       "    }\n",
       "\n",
       "    .dataframe tbody tr th {\n",
       "        vertical-align: top;\n",
       "    }\n",
       "\n",
       "    .dataframe thead th {\n",
       "        text-align: right;\n",
       "    }\n",
       "</style>\n",
       "<table border=\"1\" class=\"dataframe\">\n",
       "  <thead>\n",
       "    <tr style=\"text-align: right;\">\n",
       "      <th></th>\n",
       "      <th>Survived</th>\n",
       "      <th>Pclass</th>\n",
       "      <th>Sex</th>\n",
       "      <th>Age</th>\n",
       "      <th>SibSp</th>\n",
       "      <th>Parch</th>\n",
       "      <th>Fare</th>\n",
       "      <th>Embarked</th>\n",
       "      <th>Strip_Age</th>\n",
       "    </tr>\n",
       "  </thead>\n",
       "  <tbody>\n",
       "    <tr>\n",
       "      <th>0</th>\n",
       "      <td>0</td>\n",
       "      <td>3</td>\n",
       "      <td>male</td>\n",
       "      <td>22.0</td>\n",
       "      <td>1</td>\n",
       "      <td>0</td>\n",
       "      <td>7.2500</td>\n",
       "      <td>S</td>\n",
       "      <td>1</td>\n",
       "    </tr>\n",
       "    <tr>\n",
       "      <th>1</th>\n",
       "      <td>1</td>\n",
       "      <td>1</td>\n",
       "      <td>female</td>\n",
       "      <td>38.0</td>\n",
       "      <td>1</td>\n",
       "      <td>0</td>\n",
       "      <td>71.2833</td>\n",
       "      <td>C</td>\n",
       "      <td>2</td>\n",
       "    </tr>\n",
       "    <tr>\n",
       "      <th>2</th>\n",
       "      <td>1</td>\n",
       "      <td>3</td>\n",
       "      <td>female</td>\n",
       "      <td>26.0</td>\n",
       "      <td>0</td>\n",
       "      <td>0</td>\n",
       "      <td>7.9250</td>\n",
       "      <td>S</td>\n",
       "      <td>1</td>\n",
       "    </tr>\n",
       "    <tr>\n",
       "      <th>3</th>\n",
       "      <td>1</td>\n",
       "      <td>1</td>\n",
       "      <td>female</td>\n",
       "      <td>35.0</td>\n",
       "      <td>1</td>\n",
       "      <td>0</td>\n",
       "      <td>53.1000</td>\n",
       "      <td>S</td>\n",
       "      <td>2</td>\n",
       "    </tr>\n",
       "    <tr>\n",
       "      <th>4</th>\n",
       "      <td>0</td>\n",
       "      <td>3</td>\n",
       "      <td>male</td>\n",
       "      <td>35.0</td>\n",
       "      <td>0</td>\n",
       "      <td>0</td>\n",
       "      <td>8.0500</td>\n",
       "      <td>S</td>\n",
       "      <td>2</td>\n",
       "    </tr>\n",
       "  </tbody>\n",
       "</table>\n",
       "</div>"
      ],
      "text/plain": [
       "   Survived  Pclass     Sex   Age  SibSp  Parch     Fare Embarked Strip_Age\n",
       "0         0       3    male  22.0      1      0   7.2500        S         1\n",
       "1         1       1  female  38.0      1      0  71.2833        C         2\n",
       "2         1       3  female  26.0      0      0   7.9250        S         1\n",
       "3         1       1  female  35.0      1      0  53.1000        S         2\n",
       "4         0       3    male  35.0      0      0   8.0500        S         2"
      ]
     },
     "execution_count": 26,
     "metadata": {},
     "output_type": "execute_result"
    }
   ],
   "source": [
    "# Definir los límites de los grupos\n",
    "age_bins = [0, 15, 30, 60, 150]\n",
    "\n",
    "# Definir los números para los grupos\n",
    "age_labels = [0, 1, 2, 3]\n",
    "\n",
    "# Dividir la columna Age en grupos y asignar los números\n",
    "train_data_disc = train_data_del\n",
    "train_data_disc['Strip_Age'] = pd.cut(train_data_disc['Age'], bins=age_bins, labels=age_labels, right=False)\n",
    "train_data_disc.head()"
   ]
  },
  {
   "cell_type": "markdown",
   "id": "4273745a",
   "metadata": {
    "papermill": {
     "duration": 0.025578,
     "end_time": "2024-06-13T16:40:21.416149",
     "exception": false,
     "start_time": "2024-06-13T16:40:21.390571",
     "status": "completed"
    },
    "tags": []
   },
   "source": [
    "Ahora vamos a hacer lo mismo con la columna Fare"
   ]
  },
  {
   "cell_type": "code",
   "execution_count": 27,
   "id": "ca2186c1",
   "metadata": {
    "execution": {
     "iopub.execute_input": "2024-06-13T16:40:21.467540Z",
     "iopub.status.busy": "2024-06-13T16:40:21.467137Z",
     "iopub.status.idle": "2024-06-13T16:40:21.487703Z",
     "shell.execute_reply": "2024-06-13T16:40:21.486499Z"
    },
    "papermill": {
     "duration": 0.04871,
     "end_time": "2024-06-13T16:40:21.490221",
     "exception": false,
     "start_time": "2024-06-13T16:40:21.441511",
     "status": "completed"
    },
    "tags": []
   },
   "outputs": [
    {
     "data": {
      "text/html": [
       "<div>\n",
       "<style scoped>\n",
       "    .dataframe tbody tr th:only-of-type {\n",
       "        vertical-align: middle;\n",
       "    }\n",
       "\n",
       "    .dataframe tbody tr th {\n",
       "        vertical-align: top;\n",
       "    }\n",
       "\n",
       "    .dataframe thead th {\n",
       "        text-align: right;\n",
       "    }\n",
       "</style>\n",
       "<table border=\"1\" class=\"dataframe\">\n",
       "  <thead>\n",
       "    <tr style=\"text-align: right;\">\n",
       "      <th></th>\n",
       "      <th>Survived</th>\n",
       "      <th>Pclass</th>\n",
       "      <th>Sex</th>\n",
       "      <th>Age</th>\n",
       "      <th>SibSp</th>\n",
       "      <th>Parch</th>\n",
       "      <th>Fare</th>\n",
       "      <th>Embarked</th>\n",
       "      <th>Strip_Age</th>\n",
       "      <th>Strip_Fare</th>\n",
       "    </tr>\n",
       "  </thead>\n",
       "  <tbody>\n",
       "    <tr>\n",
       "      <th>0</th>\n",
       "      <td>0</td>\n",
       "      <td>3</td>\n",
       "      <td>male</td>\n",
       "      <td>22.0</td>\n",
       "      <td>1</td>\n",
       "      <td>0</td>\n",
       "      <td>7.2500</td>\n",
       "      <td>S</td>\n",
       "      <td>1</td>\n",
       "      <td>0</td>\n",
       "    </tr>\n",
       "    <tr>\n",
       "      <th>1</th>\n",
       "      <td>1</td>\n",
       "      <td>1</td>\n",
       "      <td>female</td>\n",
       "      <td>38.0</td>\n",
       "      <td>1</td>\n",
       "      <td>0</td>\n",
       "      <td>71.2833</td>\n",
       "      <td>C</td>\n",
       "      <td>2</td>\n",
       "      <td>2</td>\n",
       "    </tr>\n",
       "    <tr>\n",
       "      <th>2</th>\n",
       "      <td>1</td>\n",
       "      <td>3</td>\n",
       "      <td>female</td>\n",
       "      <td>26.0</td>\n",
       "      <td>0</td>\n",
       "      <td>0</td>\n",
       "      <td>7.9250</td>\n",
       "      <td>S</td>\n",
       "      <td>1</td>\n",
       "      <td>0</td>\n",
       "    </tr>\n",
       "    <tr>\n",
       "      <th>3</th>\n",
       "      <td>1</td>\n",
       "      <td>1</td>\n",
       "      <td>female</td>\n",
       "      <td>35.0</td>\n",
       "      <td>1</td>\n",
       "      <td>0</td>\n",
       "      <td>53.1000</td>\n",
       "      <td>S</td>\n",
       "      <td>2</td>\n",
       "      <td>1</td>\n",
       "    </tr>\n",
       "    <tr>\n",
       "      <th>4</th>\n",
       "      <td>0</td>\n",
       "      <td>3</td>\n",
       "      <td>male</td>\n",
       "      <td>35.0</td>\n",
       "      <td>0</td>\n",
       "      <td>0</td>\n",
       "      <td>8.0500</td>\n",
       "      <td>S</td>\n",
       "      <td>2</td>\n",
       "      <td>0</td>\n",
       "    </tr>\n",
       "  </tbody>\n",
       "</table>\n",
       "</div>"
      ],
      "text/plain": [
       "   Survived  Pclass     Sex   Age  SibSp  Parch     Fare Embarked Strip_Age  \\\n",
       "0         0       3    male  22.0      1      0   7.2500        S         1   \n",
       "1         1       1  female  38.0      1      0  71.2833        C         2   \n",
       "2         1       3  female  26.0      0      0   7.9250        S         1   \n",
       "3         1       1  female  35.0      1      0  53.1000        S         2   \n",
       "4         0       3    male  35.0      0      0   8.0500        S         2   \n",
       "\n",
       "  Strip_Fare  \n",
       "0          0  \n",
       "1          2  \n",
       "2          0  \n",
       "3          1  \n",
       "4          0  "
      ]
     },
     "execution_count": 27,
     "metadata": {},
     "output_type": "execute_result"
    }
   ],
   "source": [
    "# Definir los límites de los grupos\n",
    "fare_bins = [0, 30, 60, 100, 150, 250, 1000]\n",
    "\n",
    "# Definir los números para los grupos\n",
    "fare_labels = [0, 1, 2, 3, 4, 5]\n",
    "\n",
    "# Dividir la columna Age en grupos y asignar los números\n",
    "train_data_disc['Strip_Fare'] = pd.cut(train_data_disc['Fare'], bins=fare_bins, labels=fare_labels, right=False)\n",
    "train_data_disc.head()"
   ]
  },
  {
   "cell_type": "markdown",
   "id": "77b5098a",
   "metadata": {
    "papermill": {
     "duration": 0.026716,
     "end_time": "2024-06-13T16:40:21.542026",
     "exception": false,
     "start_time": "2024-06-13T16:40:21.515310",
     "status": "completed"
    },
    "tags": []
   },
   "source": [
    "Eliminamos las columnas continuas entonces"
   ]
  },
  {
   "cell_type": "code",
   "execution_count": 28,
   "id": "8429e13b",
   "metadata": {
    "execution": {
     "iopub.execute_input": "2024-06-13T16:40:21.594109Z",
     "iopub.status.busy": "2024-06-13T16:40:21.593659Z",
     "iopub.status.idle": "2024-06-13T16:40:21.609603Z",
     "shell.execute_reply": "2024-06-13T16:40:21.608314Z"
    },
    "papermill": {
     "duration": 0.044989,
     "end_time": "2024-06-13T16:40:21.612340",
     "exception": false,
     "start_time": "2024-06-13T16:40:21.567351",
     "status": "completed"
    },
    "tags": []
   },
   "outputs": [
    {
     "data": {
      "text/html": [
       "<div>\n",
       "<style scoped>\n",
       "    .dataframe tbody tr th:only-of-type {\n",
       "        vertical-align: middle;\n",
       "    }\n",
       "\n",
       "    .dataframe tbody tr th {\n",
       "        vertical-align: top;\n",
       "    }\n",
       "\n",
       "    .dataframe thead th {\n",
       "        text-align: right;\n",
       "    }\n",
       "</style>\n",
       "<table border=\"1\" class=\"dataframe\">\n",
       "  <thead>\n",
       "    <tr style=\"text-align: right;\">\n",
       "      <th></th>\n",
       "      <th>Survived</th>\n",
       "      <th>Pclass</th>\n",
       "      <th>Sex</th>\n",
       "      <th>SibSp</th>\n",
       "      <th>Parch</th>\n",
       "      <th>Embarked</th>\n",
       "      <th>Strip_Age</th>\n",
       "      <th>Strip_Fare</th>\n",
       "    </tr>\n",
       "  </thead>\n",
       "  <tbody>\n",
       "    <tr>\n",
       "      <th>0</th>\n",
       "      <td>0</td>\n",
       "      <td>3</td>\n",
       "      <td>male</td>\n",
       "      <td>1</td>\n",
       "      <td>0</td>\n",
       "      <td>S</td>\n",
       "      <td>1</td>\n",
       "      <td>0</td>\n",
       "    </tr>\n",
       "    <tr>\n",
       "      <th>1</th>\n",
       "      <td>1</td>\n",
       "      <td>1</td>\n",
       "      <td>female</td>\n",
       "      <td>1</td>\n",
       "      <td>0</td>\n",
       "      <td>C</td>\n",
       "      <td>2</td>\n",
       "      <td>2</td>\n",
       "    </tr>\n",
       "    <tr>\n",
       "      <th>2</th>\n",
       "      <td>1</td>\n",
       "      <td>3</td>\n",
       "      <td>female</td>\n",
       "      <td>0</td>\n",
       "      <td>0</td>\n",
       "      <td>S</td>\n",
       "      <td>1</td>\n",
       "      <td>0</td>\n",
       "    </tr>\n",
       "    <tr>\n",
       "      <th>3</th>\n",
       "      <td>1</td>\n",
       "      <td>1</td>\n",
       "      <td>female</td>\n",
       "      <td>1</td>\n",
       "      <td>0</td>\n",
       "      <td>S</td>\n",
       "      <td>2</td>\n",
       "      <td>1</td>\n",
       "    </tr>\n",
       "    <tr>\n",
       "      <th>4</th>\n",
       "      <td>0</td>\n",
       "      <td>3</td>\n",
       "      <td>male</td>\n",
       "      <td>0</td>\n",
       "      <td>0</td>\n",
       "      <td>S</td>\n",
       "      <td>2</td>\n",
       "      <td>0</td>\n",
       "    </tr>\n",
       "  </tbody>\n",
       "</table>\n",
       "</div>"
      ],
      "text/plain": [
       "   Survived  Pclass     Sex  SibSp  Parch Embarked Strip_Age Strip_Fare\n",
       "0         0       3    male      1      0        S         1          0\n",
       "1         1       1  female      1      0        C         2          2\n",
       "2         1       3  female      0      0        S         1          0\n",
       "3         1       1  female      1      0        S         2          1\n",
       "4         0       3    male      0      0        S         2          0"
      ]
     },
     "execution_count": 28,
     "metadata": {},
     "output_type": "execute_result"
    }
   ],
   "source": [
    "train_data_disc = train_data_disc.drop([\"Age\", \"Fare\"], axis = 1)\n",
    "train_data_disc.head()"
   ]
  },
  {
   "cell_type": "markdown",
   "id": "e202f81b",
   "metadata": {
    "papermill": {
     "duration": 0.024639,
     "end_time": "2024-06-13T16:40:21.662336",
     "exception": false,
     "start_time": "2024-06-13T16:40:21.637697",
     "status": "completed"
    },
    "tags": []
   },
   "source": [
    "### Convert to numerical "
   ]
  },
  {
   "cell_type": "code",
   "execution_count": 29,
   "id": "fc097b6b",
   "metadata": {
    "execution": {
     "iopub.execute_input": "2024-06-13T16:40:21.715382Z",
     "iopub.status.busy": "2024-06-13T16:40:21.714977Z",
     "iopub.status.idle": "2024-06-13T16:40:21.738688Z",
     "shell.execute_reply": "2024-06-13T16:40:21.737294Z"
    },
    "papermill": {
     "duration": 0.053521,
     "end_time": "2024-06-13T16:40:21.741106",
     "exception": false,
     "start_time": "2024-06-13T16:40:21.687585",
     "status": "completed"
    },
    "tags": []
   },
   "outputs": [
    {
     "data": {
      "text/html": [
       "<div>\n",
       "<style scoped>\n",
       "    .dataframe tbody tr th:only-of-type {\n",
       "        vertical-align: middle;\n",
       "    }\n",
       "\n",
       "    .dataframe tbody tr th {\n",
       "        vertical-align: top;\n",
       "    }\n",
       "\n",
       "    .dataframe thead th {\n",
       "        text-align: right;\n",
       "    }\n",
       "</style>\n",
       "<table border=\"1\" class=\"dataframe\">\n",
       "  <thead>\n",
       "    <tr style=\"text-align: right;\">\n",
       "      <th></th>\n",
       "      <th>Survived</th>\n",
       "      <th>Pclass</th>\n",
       "      <th>SibSp</th>\n",
       "      <th>Parch</th>\n",
       "      <th>Strip_Age</th>\n",
       "      <th>Strip_Fare</th>\n",
       "      <th>IsMale</th>\n",
       "      <th>Embarked_C</th>\n",
       "      <th>Embarked_Q</th>\n",
       "      <th>Embarked_S</th>\n",
       "    </tr>\n",
       "  </thead>\n",
       "  <tbody>\n",
       "    <tr>\n",
       "      <th>0</th>\n",
       "      <td>0</td>\n",
       "      <td>3</td>\n",
       "      <td>1</td>\n",
       "      <td>0</td>\n",
       "      <td>1</td>\n",
       "      <td>0</td>\n",
       "      <td>1</td>\n",
       "      <td>False</td>\n",
       "      <td>False</td>\n",
       "      <td>True</td>\n",
       "    </tr>\n",
       "    <tr>\n",
       "      <th>1</th>\n",
       "      <td>1</td>\n",
       "      <td>1</td>\n",
       "      <td>1</td>\n",
       "      <td>0</td>\n",
       "      <td>2</td>\n",
       "      <td>2</td>\n",
       "      <td>0</td>\n",
       "      <td>True</td>\n",
       "      <td>False</td>\n",
       "      <td>False</td>\n",
       "    </tr>\n",
       "    <tr>\n",
       "      <th>2</th>\n",
       "      <td>1</td>\n",
       "      <td>3</td>\n",
       "      <td>0</td>\n",
       "      <td>0</td>\n",
       "      <td>1</td>\n",
       "      <td>0</td>\n",
       "      <td>0</td>\n",
       "      <td>False</td>\n",
       "      <td>False</td>\n",
       "      <td>True</td>\n",
       "    </tr>\n",
       "    <tr>\n",
       "      <th>3</th>\n",
       "      <td>1</td>\n",
       "      <td>1</td>\n",
       "      <td>1</td>\n",
       "      <td>0</td>\n",
       "      <td>2</td>\n",
       "      <td>1</td>\n",
       "      <td>0</td>\n",
       "      <td>False</td>\n",
       "      <td>False</td>\n",
       "      <td>True</td>\n",
       "    </tr>\n",
       "    <tr>\n",
       "      <th>4</th>\n",
       "      <td>0</td>\n",
       "      <td>3</td>\n",
       "      <td>0</td>\n",
       "      <td>0</td>\n",
       "      <td>2</td>\n",
       "      <td>0</td>\n",
       "      <td>1</td>\n",
       "      <td>False</td>\n",
       "      <td>False</td>\n",
       "      <td>True</td>\n",
       "    </tr>\n",
       "  </tbody>\n",
       "</table>\n",
       "</div>"
      ],
      "text/plain": [
       "   Survived  Pclass  SibSp  Parch Strip_Age Strip_Fare  IsMale  Embarked_C  \\\n",
       "0         0       3      1      0         1          0       1       False   \n",
       "1         1       1      1      0         2          2       0        True   \n",
       "2         1       3      0      0         1          0       0       False   \n",
       "3         1       1      1      0         2          1       0       False   \n",
       "4         0       3      0      0         2          0       1       False   \n",
       "\n",
       "   Embarked_Q  Embarked_S  \n",
       "0       False        True  \n",
       "1       False       False  \n",
       "2       False        True  \n",
       "3       False        True  \n",
       "4       False        True  "
      ]
     },
     "execution_count": 29,
     "metadata": {},
     "output_type": "execute_result"
    }
   ],
   "source": [
    "train_data_num = train_data_disc\n",
    "train_data_num['IsMale'] = np.where(train_data_num['Sex'] == \"male\", 1, 0)\n",
    "train_data_num = pd.get_dummies(train_data_disc, columns=[\"Embarked\"])\n",
    "train_data_num = train_data_num.drop([\"Sex\"], axis = 1)\n",
    "train_data_num.head()"
   ]
  },
  {
   "cell_type": "markdown",
   "id": "97936bb5",
   "metadata": {
    "papermill": {
     "duration": 0.033298,
     "end_time": "2024-06-13T16:40:21.801985",
     "exception": false,
     "start_time": "2024-06-13T16:40:21.768687",
     "status": "completed"
    },
    "tags": []
   },
   "source": [
    "### Creation of new Variables"
   ]
  },
  {
   "cell_type": "markdown",
   "id": "6827a392",
   "metadata": {
    "papermill": {
     "duration": 0.026608,
     "end_time": "2024-06-13T16:40:21.856215",
     "exception": false,
     "start_time": "2024-06-13T16:40:21.829607",
     "status": "completed"
    },
    "tags": []
   },
   "source": [
    "Create new variables:\n",
    "* Familysize: Sum the column SibSp and Parch\n",
    "* IsAlone: Show if the traveller is alone or not"
   ]
  },
  {
   "cell_type": "code",
   "execution_count": 30,
   "id": "508728b3",
   "metadata": {
    "execution": {
     "iopub.execute_input": "2024-06-13T16:40:21.913884Z",
     "iopub.status.busy": "2024-06-13T16:40:21.913474Z",
     "iopub.status.idle": "2024-06-13T16:40:21.931207Z",
     "shell.execute_reply": "2024-06-13T16:40:21.930028Z"
    },
    "papermill": {
     "duration": 0.050088,
     "end_time": "2024-06-13T16:40:21.933758",
     "exception": false,
     "start_time": "2024-06-13T16:40:21.883670",
     "status": "completed"
    },
    "tags": []
   },
   "outputs": [
    {
     "data": {
      "text/html": [
       "<div>\n",
       "<style scoped>\n",
       "    .dataframe tbody tr th:only-of-type {\n",
       "        vertical-align: middle;\n",
       "    }\n",
       "\n",
       "    .dataframe tbody tr th {\n",
       "        vertical-align: top;\n",
       "    }\n",
       "\n",
       "    .dataframe thead th {\n",
       "        text-align: right;\n",
       "    }\n",
       "</style>\n",
       "<table border=\"1\" class=\"dataframe\">\n",
       "  <thead>\n",
       "    <tr style=\"text-align: right;\">\n",
       "      <th></th>\n",
       "      <th>Survived</th>\n",
       "      <th>Pclass</th>\n",
       "      <th>SibSp</th>\n",
       "      <th>Parch</th>\n",
       "      <th>Strip_Age</th>\n",
       "      <th>Strip_Fare</th>\n",
       "      <th>IsMale</th>\n",
       "      <th>Embarked_C</th>\n",
       "      <th>Embarked_Q</th>\n",
       "      <th>Embarked_S</th>\n",
       "      <th>FamilySize</th>\n",
       "      <th>IsAlone</th>\n",
       "    </tr>\n",
       "  </thead>\n",
       "  <tbody>\n",
       "    <tr>\n",
       "      <th>0</th>\n",
       "      <td>0</td>\n",
       "      <td>3</td>\n",
       "      <td>1</td>\n",
       "      <td>0</td>\n",
       "      <td>1</td>\n",
       "      <td>0</td>\n",
       "      <td>1</td>\n",
       "      <td>False</td>\n",
       "      <td>False</td>\n",
       "      <td>True</td>\n",
       "      <td>1</td>\n",
       "      <td>0</td>\n",
       "    </tr>\n",
       "    <tr>\n",
       "      <th>1</th>\n",
       "      <td>1</td>\n",
       "      <td>1</td>\n",
       "      <td>1</td>\n",
       "      <td>0</td>\n",
       "      <td>2</td>\n",
       "      <td>2</td>\n",
       "      <td>0</td>\n",
       "      <td>True</td>\n",
       "      <td>False</td>\n",
       "      <td>False</td>\n",
       "      <td>1</td>\n",
       "      <td>0</td>\n",
       "    </tr>\n",
       "    <tr>\n",
       "      <th>2</th>\n",
       "      <td>1</td>\n",
       "      <td>3</td>\n",
       "      <td>0</td>\n",
       "      <td>0</td>\n",
       "      <td>1</td>\n",
       "      <td>0</td>\n",
       "      <td>0</td>\n",
       "      <td>False</td>\n",
       "      <td>False</td>\n",
       "      <td>True</td>\n",
       "      <td>0</td>\n",
       "      <td>1</td>\n",
       "    </tr>\n",
       "    <tr>\n",
       "      <th>3</th>\n",
       "      <td>1</td>\n",
       "      <td>1</td>\n",
       "      <td>1</td>\n",
       "      <td>0</td>\n",
       "      <td>2</td>\n",
       "      <td>1</td>\n",
       "      <td>0</td>\n",
       "      <td>False</td>\n",
       "      <td>False</td>\n",
       "      <td>True</td>\n",
       "      <td>1</td>\n",
       "      <td>0</td>\n",
       "    </tr>\n",
       "    <tr>\n",
       "      <th>4</th>\n",
       "      <td>0</td>\n",
       "      <td>3</td>\n",
       "      <td>0</td>\n",
       "      <td>0</td>\n",
       "      <td>2</td>\n",
       "      <td>0</td>\n",
       "      <td>1</td>\n",
       "      <td>False</td>\n",
       "      <td>False</td>\n",
       "      <td>True</td>\n",
       "      <td>0</td>\n",
       "      <td>1</td>\n",
       "    </tr>\n",
       "  </tbody>\n",
       "</table>\n",
       "</div>"
      ],
      "text/plain": [
       "   Survived  Pclass  SibSp  Parch Strip_Age Strip_Fare  IsMale  Embarked_C  \\\n",
       "0         0       3      1      0         1          0       1       False   \n",
       "1         1       1      1      0         2          2       0        True   \n",
       "2         1       3      0      0         1          0       0       False   \n",
       "3         1       1      1      0         2          1       0       False   \n",
       "4         0       3      0      0         2          0       1       False   \n",
       "\n",
       "   Embarked_Q  Embarked_S  FamilySize  IsAlone  \n",
       "0       False        True           1        0  \n",
       "1       False       False           1        0  \n",
       "2       False        True           0        1  \n",
       "3       False        True           1        0  \n",
       "4       False        True           0        1  "
      ]
     },
     "execution_count": 30,
     "metadata": {},
     "output_type": "execute_result"
    }
   ],
   "source": [
    "train_data_new = train_data_num\n",
    "train_data_new[\"FamilySize\"] = train_data_new[\"SibSp\"] + train_data_new[\"Parch\"]\n",
    "train_data_new['IsAlone'] = np.where(train_data_new['FamilySize'] == 0, 1, 0)\n",
    "train_data_new.head()"
   ]
  },
  {
   "cell_type": "markdown",
   "id": "45ab81c9",
   "metadata": {
    "papermill": {
     "duration": 0.033047,
     "end_time": "2024-06-13T16:40:22.001510",
     "exception": false,
     "start_time": "2024-06-13T16:40:21.968463",
     "status": "completed"
    },
    "tags": []
   },
   "source": [
    "Delete the previous columns"
   ]
  },
  {
   "cell_type": "code",
   "execution_count": 31,
   "id": "472b0910",
   "metadata": {
    "execution": {
     "iopub.execute_input": "2024-06-13T16:40:22.055186Z",
     "iopub.status.busy": "2024-06-13T16:40:22.054762Z",
     "iopub.status.idle": "2024-06-13T16:40:22.073005Z",
     "shell.execute_reply": "2024-06-13T16:40:22.071763Z"
    },
    "papermill": {
     "duration": 0.048184,
     "end_time": "2024-06-13T16:40:22.075479",
     "exception": false,
     "start_time": "2024-06-13T16:40:22.027295",
     "status": "completed"
    },
    "tags": []
   },
   "outputs": [
    {
     "data": {
      "text/html": [
       "<div>\n",
       "<style scoped>\n",
       "    .dataframe tbody tr th:only-of-type {\n",
       "        vertical-align: middle;\n",
       "    }\n",
       "\n",
       "    .dataframe tbody tr th {\n",
       "        vertical-align: top;\n",
       "    }\n",
       "\n",
       "    .dataframe thead th {\n",
       "        text-align: right;\n",
       "    }\n",
       "</style>\n",
       "<table border=\"1\" class=\"dataframe\">\n",
       "  <thead>\n",
       "    <tr style=\"text-align: right;\">\n",
       "      <th></th>\n",
       "      <th>Survived</th>\n",
       "      <th>Pclass</th>\n",
       "      <th>Strip_Age</th>\n",
       "      <th>Strip_Fare</th>\n",
       "      <th>IsMale</th>\n",
       "      <th>Embarked_C</th>\n",
       "      <th>Embarked_Q</th>\n",
       "      <th>Embarked_S</th>\n",
       "      <th>FamilySize</th>\n",
       "      <th>IsAlone</th>\n",
       "    </tr>\n",
       "  </thead>\n",
       "  <tbody>\n",
       "    <tr>\n",
       "      <th>0</th>\n",
       "      <td>0</td>\n",
       "      <td>3</td>\n",
       "      <td>1</td>\n",
       "      <td>0</td>\n",
       "      <td>1</td>\n",
       "      <td>False</td>\n",
       "      <td>False</td>\n",
       "      <td>True</td>\n",
       "      <td>1</td>\n",
       "      <td>0</td>\n",
       "    </tr>\n",
       "    <tr>\n",
       "      <th>1</th>\n",
       "      <td>1</td>\n",
       "      <td>1</td>\n",
       "      <td>2</td>\n",
       "      <td>2</td>\n",
       "      <td>0</td>\n",
       "      <td>True</td>\n",
       "      <td>False</td>\n",
       "      <td>False</td>\n",
       "      <td>1</td>\n",
       "      <td>0</td>\n",
       "    </tr>\n",
       "    <tr>\n",
       "      <th>2</th>\n",
       "      <td>1</td>\n",
       "      <td>3</td>\n",
       "      <td>1</td>\n",
       "      <td>0</td>\n",
       "      <td>0</td>\n",
       "      <td>False</td>\n",
       "      <td>False</td>\n",
       "      <td>True</td>\n",
       "      <td>0</td>\n",
       "      <td>1</td>\n",
       "    </tr>\n",
       "    <tr>\n",
       "      <th>3</th>\n",
       "      <td>1</td>\n",
       "      <td>1</td>\n",
       "      <td>2</td>\n",
       "      <td>1</td>\n",
       "      <td>0</td>\n",
       "      <td>False</td>\n",
       "      <td>False</td>\n",
       "      <td>True</td>\n",
       "      <td>1</td>\n",
       "      <td>0</td>\n",
       "    </tr>\n",
       "    <tr>\n",
       "      <th>4</th>\n",
       "      <td>0</td>\n",
       "      <td>3</td>\n",
       "      <td>2</td>\n",
       "      <td>0</td>\n",
       "      <td>1</td>\n",
       "      <td>False</td>\n",
       "      <td>False</td>\n",
       "      <td>True</td>\n",
       "      <td>0</td>\n",
       "      <td>1</td>\n",
       "    </tr>\n",
       "  </tbody>\n",
       "</table>\n",
       "</div>"
      ],
      "text/plain": [
       "   Survived  Pclass Strip_Age Strip_Fare  IsMale  Embarked_C  Embarked_Q  \\\n",
       "0         0       3         1          0       1       False       False   \n",
       "1         1       1         2          2       0        True       False   \n",
       "2         1       3         1          0       0       False       False   \n",
       "3         1       1         2          1       0       False       False   \n",
       "4         0       3         2          0       1       False       False   \n",
       "\n",
       "   Embarked_S  FamilySize  IsAlone  \n",
       "0        True           1        0  \n",
       "1       False           1        0  \n",
       "2        True           0        1  \n",
       "3        True           1        0  \n",
       "4        True           0        1  "
      ]
     },
     "execution_count": 31,
     "metadata": {},
     "output_type": "execute_result"
    }
   ],
   "source": [
    "train_data_new = train_data_new.drop([\"SibSp\", \"Parch\"], axis = 1)\n",
    "train_data_new.head()"
   ]
  },
  {
   "cell_type": "markdown",
   "id": "ebb2dd19",
   "metadata": {
    "papermill": {
     "duration": 0.025099,
     "end_time": "2024-06-13T16:40:22.125973",
     "exception": false,
     "start_time": "2024-06-13T16:40:22.100874",
     "status": "completed"
    },
    "tags": []
   },
   "source": [
    "### Check and Fill NaN Values"
   ]
  },
  {
   "cell_type": "code",
   "execution_count": 32,
   "id": "7b45ee13",
   "metadata": {
    "execution": {
     "iopub.execute_input": "2024-06-13T16:40:22.179599Z",
     "iopub.status.busy": "2024-06-13T16:40:22.179211Z",
     "iopub.status.idle": "2024-06-13T16:40:22.187092Z",
     "shell.execute_reply": "2024-06-13T16:40:22.185897Z"
    },
    "papermill": {
     "duration": 0.037859,
     "end_time": "2024-06-13T16:40:22.189610",
     "exception": false,
     "start_time": "2024-06-13T16:40:22.151751",
     "status": "completed"
    },
    "tags": []
   },
   "outputs": [
    {
     "name": "stdout",
     "output_type": "stream",
     "text": [
      "Index(['Strip_Age'], dtype='object')\n"
     ]
    }
   ],
   "source": [
    "print(train_data_new.columns[train_data_new.isnull().any()])"
   ]
  },
  {
   "cell_type": "markdown",
   "id": "e3d52e37",
   "metadata": {
    "papermill": {
     "duration": 0.026114,
     "end_time": "2024-06-13T16:40:22.242588",
     "exception": false,
     "start_time": "2024-06-13T16:40:22.216474",
     "status": "completed"
    },
    "tags": []
   },
   "source": [
    "Impute the NaN values fot Strip_Age column using KNNImputer"
   ]
  },
  {
   "cell_type": "code",
   "execution_count": 33,
   "id": "f3d08380",
   "metadata": {
    "execution": {
     "iopub.execute_input": "2024-06-13T16:40:22.296273Z",
     "iopub.status.busy": "2024-06-13T16:40:22.295862Z",
     "iopub.status.idle": "2024-06-13T16:40:22.327761Z",
     "shell.execute_reply": "2024-06-13T16:40:22.326246Z"
    },
    "papermill": {
     "duration": 0.062722,
     "end_time": "2024-06-13T16:40:22.331439",
     "exception": false,
     "start_time": "2024-06-13T16:40:22.268717",
     "status": "completed"
    },
    "tags": []
   },
   "outputs": [],
   "source": [
    "imputer = KNNImputer(n_neighbors=5)\n",
    "train_data_new_imputed = pd.DataFrame(imputer.fit_transform(train_data_new), columns=train_data_new.columns)"
   ]
  },
  {
   "cell_type": "code",
   "execution_count": 34,
   "id": "874c9bf7",
   "metadata": {
    "execution": {
     "iopub.execute_input": "2024-06-13T16:40:22.439233Z",
     "iopub.status.busy": "2024-06-13T16:40:22.438819Z",
     "iopub.status.idle": "2024-06-13T16:40:22.458051Z",
     "shell.execute_reply": "2024-06-13T16:40:22.456589Z"
    },
    "papermill": {
     "duration": 0.079889,
     "end_time": "2024-06-13T16:40:22.460457",
     "exception": false,
     "start_time": "2024-06-13T16:40:22.380568",
     "status": "completed"
    },
    "tags": []
   },
   "outputs": [
    {
     "data": {
      "text/html": [
       "<div>\n",
       "<style scoped>\n",
       "    .dataframe tbody tr th:only-of-type {\n",
       "        vertical-align: middle;\n",
       "    }\n",
       "\n",
       "    .dataframe tbody tr th {\n",
       "        vertical-align: top;\n",
       "    }\n",
       "\n",
       "    .dataframe thead th {\n",
       "        text-align: right;\n",
       "    }\n",
       "</style>\n",
       "<table border=\"1\" class=\"dataframe\">\n",
       "  <thead>\n",
       "    <tr style=\"text-align: right;\">\n",
       "      <th></th>\n",
       "      <th>Survived</th>\n",
       "      <th>Pclass</th>\n",
       "      <th>Strip_Age</th>\n",
       "      <th>Strip_Fare</th>\n",
       "      <th>IsMale</th>\n",
       "      <th>Embarked_C</th>\n",
       "      <th>Embarked_Q</th>\n",
       "      <th>Embarked_S</th>\n",
       "      <th>FamilySize</th>\n",
       "      <th>IsAlone</th>\n",
       "    </tr>\n",
       "  </thead>\n",
       "  <tbody>\n",
       "    <tr>\n",
       "      <th>0</th>\n",
       "      <td>0.0</td>\n",
       "      <td>3.0</td>\n",
       "      <td>1.0</td>\n",
       "      <td>0.0</td>\n",
       "      <td>1.0</td>\n",
       "      <td>0.0</td>\n",
       "      <td>0.0</td>\n",
       "      <td>1.0</td>\n",
       "      <td>1.0</td>\n",
       "      <td>0.0</td>\n",
       "    </tr>\n",
       "    <tr>\n",
       "      <th>1</th>\n",
       "      <td>1.0</td>\n",
       "      <td>1.0</td>\n",
       "      <td>2.0</td>\n",
       "      <td>2.0</td>\n",
       "      <td>0.0</td>\n",
       "      <td>1.0</td>\n",
       "      <td>0.0</td>\n",
       "      <td>0.0</td>\n",
       "      <td>1.0</td>\n",
       "      <td>0.0</td>\n",
       "    </tr>\n",
       "    <tr>\n",
       "      <th>2</th>\n",
       "      <td>1.0</td>\n",
       "      <td>3.0</td>\n",
       "      <td>1.0</td>\n",
       "      <td>0.0</td>\n",
       "      <td>0.0</td>\n",
       "      <td>0.0</td>\n",
       "      <td>0.0</td>\n",
       "      <td>1.0</td>\n",
       "      <td>0.0</td>\n",
       "      <td>1.0</td>\n",
       "    </tr>\n",
       "    <tr>\n",
       "      <th>3</th>\n",
       "      <td>1.0</td>\n",
       "      <td>1.0</td>\n",
       "      <td>2.0</td>\n",
       "      <td>1.0</td>\n",
       "      <td>0.0</td>\n",
       "      <td>0.0</td>\n",
       "      <td>0.0</td>\n",
       "      <td>1.0</td>\n",
       "      <td>1.0</td>\n",
       "      <td>0.0</td>\n",
       "    </tr>\n",
       "    <tr>\n",
       "      <th>4</th>\n",
       "      <td>0.0</td>\n",
       "      <td>3.0</td>\n",
       "      <td>2.0</td>\n",
       "      <td>0.0</td>\n",
       "      <td>1.0</td>\n",
       "      <td>0.0</td>\n",
       "      <td>0.0</td>\n",
       "      <td>1.0</td>\n",
       "      <td>0.0</td>\n",
       "      <td>1.0</td>\n",
       "    </tr>\n",
       "  </tbody>\n",
       "</table>\n",
       "</div>"
      ],
      "text/plain": [
       "   Survived  Pclass  Strip_Age  Strip_Fare  IsMale  Embarked_C  Embarked_Q  \\\n",
       "0       0.0     3.0        1.0         0.0     1.0         0.0         0.0   \n",
       "1       1.0     1.0        2.0         2.0     0.0         1.0         0.0   \n",
       "2       1.0     3.0        1.0         0.0     0.0         0.0         0.0   \n",
       "3       1.0     1.0        2.0         1.0     0.0         0.0         0.0   \n",
       "4       0.0     3.0        2.0         0.0     1.0         0.0         0.0   \n",
       "\n",
       "   Embarked_S  FamilySize  IsAlone  \n",
       "0         1.0         1.0      0.0  \n",
       "1         0.0         1.0      0.0  \n",
       "2         1.0         0.0      1.0  \n",
       "3         1.0         1.0      0.0  \n",
       "4         1.0         0.0      1.0  "
      ]
     },
     "execution_count": 34,
     "metadata": {},
     "output_type": "execute_result"
    }
   ],
   "source": [
    "train_data_new_imputed.head()"
   ]
  },
  {
   "cell_type": "markdown",
   "id": "38fa37c5",
   "metadata": {
    "papermill": {
     "duration": 0.030646,
     "end_time": "2024-06-13T16:40:22.517392",
     "exception": false,
     "start_time": "2024-06-13T16:40:22.486746",
     "status": "completed"
    },
    "tags": []
   },
   "source": [
    "Volvemos a comprobar y vemos que no hay ningún valor vacío"
   ]
  },
  {
   "cell_type": "code",
   "execution_count": 35,
   "id": "68b08657",
   "metadata": {
    "execution": {
     "iopub.execute_input": "2024-06-13T16:40:22.577872Z",
     "iopub.status.busy": "2024-06-13T16:40:22.577499Z",
     "iopub.status.idle": "2024-06-13T16:40:22.584927Z",
     "shell.execute_reply": "2024-06-13T16:40:22.583652Z"
    },
    "papermill": {
     "duration": 0.041249,
     "end_time": "2024-06-13T16:40:22.587230",
     "exception": false,
     "start_time": "2024-06-13T16:40:22.545981",
     "status": "completed"
    },
    "tags": []
   },
   "outputs": [
    {
     "name": "stdout",
     "output_type": "stream",
     "text": [
      "Index([], dtype='object')\n"
     ]
    }
   ],
   "source": [
    "print(train_data_new_imputed.columns[train_data_new_imputed.isnull().any()])"
   ]
  },
  {
   "cell_type": "markdown",
   "id": "17a3d7d8",
   "metadata": {
    "papermill": {
     "duration": 0.025667,
     "end_time": "2024-06-13T16:40:22.639525",
     "exception": false,
     "start_time": "2024-06-13T16:40:22.613858",
     "status": "completed"
    },
    "tags": []
   },
   "source": [
    "### Show correlation matrix"
   ]
  },
  {
   "cell_type": "code",
   "execution_count": 36,
   "id": "9414f2de",
   "metadata": {
    "execution": {
     "iopub.execute_input": "2024-06-13T16:40:22.693155Z",
     "iopub.status.busy": "2024-06-13T16:40:22.692734Z",
     "iopub.status.idle": "2024-06-13T16:40:23.333987Z",
     "shell.execute_reply": "2024-06-13T16:40:23.332865Z"
    },
    "papermill": {
     "duration": 0.670912,
     "end_time": "2024-06-13T16:40:23.336548",
     "exception": false,
     "start_time": "2024-06-13T16:40:22.665636",
     "status": "completed"
    },
    "tags": []
   },
   "outputs": [
    {
     "data": {
      "image/png": "[encoded data removed]",
      "text/plain": [
       "<Figure size 1000x800 with 2 Axes>"
      ]
     },
     "metadata": {},
     "output_type": "display_data"
    }
   ],
   "source": [
    "correlation_matrix = train_data_new_imputed.corr()\n",
    "# Visualizar la matriz de correlación utilizando un mapa de calor\n",
    "plt.figure(figsize=(10, 8))\n",
    "sns.heatmap(correlation_matrix, annot=True, cmap='coolwarm', vmin=-1, vmax=1)\n",
    "plt.title(\"Matriz de Correlación\")\n",
    "plt.show()"
   ]
  },
  {
   "cell_type": "markdown",
   "id": "027efd69",
   "metadata": {
    "papermill": {
     "duration": 0.027158,
     "end_time": "2024-06-13T16:40:23.391372",
     "exception": false,
     "start_time": "2024-06-13T16:40:23.364214",
     "status": "completed"
    },
    "tags": []
   },
   "source": [
    "## Do all the previous process to the test"
   ]
  },
  {
   "cell_type": "code",
   "execution_count": 37,
   "id": "344dc45b",
   "metadata": {
    "execution": {
     "iopub.execute_input": "2024-06-13T16:40:23.450856Z",
     "iopub.status.busy": "2024-06-13T16:40:23.449812Z",
     "iopub.status.idle": "2024-06-13T16:40:23.469819Z",
     "shell.execute_reply": "2024-06-13T16:40:23.468412Z"
    },
    "papermill": {
     "duration": 0.051729,
     "end_time": "2024-06-13T16:40:23.472179",
     "exception": false,
     "start_time": "2024-06-13T16:40:23.420450",
     "status": "completed"
    },
    "tags": []
   },
   "outputs": [],
   "source": [
    "test_data = test_data.drop([\"PassengerId\", \"Name\", \"Ticket\", \"Cabin\"], axis = 1)\n",
    "test_data['Strip_Age'] = pd.cut(test_data['Age'], bins=age_bins, labels=age_labels, right=False)\n",
    "test_data['Strip_Fare'] = pd.cut(test_data['Fare'], bins=fare_bins, labels=fare_labels, right=False)\n",
    "test_data = test_data.drop([\"Age\", \"Fare\"], axis = 1)\n",
    "test_data['IsMale'] = np.where(test_data['Sex'] == \"male\", 1, 0)\n",
    "test_data = pd.get_dummies(test_data, columns=[\"Embarked\"])\n",
    "test_data = test_data.drop([\"Sex\"], axis = 1)\n",
    "test_data[\"FamilySize\"] = test_data[\"SibSp\"] + test_data[\"Parch\"]\n",
    "test_data['IsAlone'] = np.where(test_data['FamilySize'] == 0, 1, 0)\n",
    "test_data = test_data.drop([\"SibSp\", \"Parch\"], axis = 1)"
   ]
  },
  {
   "cell_type": "markdown",
   "id": "a8790d30",
   "metadata": {
    "papermill": {
     "duration": 0.028485,
     "end_time": "2024-06-13T16:40:23.528493",
     "exception": false,
     "start_time": "2024-06-13T16:40:23.500008",
     "status": "completed"
    },
    "tags": []
   },
   "source": [
    "Comprobamos si hay algún valor nulo"
   ]
  },
  {
   "cell_type": "code",
   "execution_count": 38,
   "id": "77e4322a",
   "metadata": {
    "execution": {
     "iopub.execute_input": "2024-06-13T16:40:23.587421Z",
     "iopub.status.busy": "2024-06-13T16:40:23.587011Z",
     "iopub.status.idle": "2024-06-13T16:40:23.594149Z",
     "shell.execute_reply": "2024-06-13T16:40:23.593018Z"
    },
    "papermill": {
     "duration": 0.039636,
     "end_time": "2024-06-13T16:40:23.596759",
     "exception": false,
     "start_time": "2024-06-13T16:40:23.557123",
     "status": "completed"
    },
    "tags": []
   },
   "outputs": [
    {
     "name": "stdout",
     "output_type": "stream",
     "text": [
      "Index(['Strip_Age', 'Strip_Fare'], dtype='object')\n"
     ]
    }
   ],
   "source": [
    "print(test_data.columns[test_data.isnull().any()])"
   ]
  },
  {
   "cell_type": "markdown",
   "id": "e5da3ecc",
   "metadata": {
    "papermill": {
     "duration": 0.027664,
     "end_time": "2024-06-13T16:40:23.652186",
     "exception": false,
     "start_time": "2024-06-13T16:40:23.624522",
     "status": "completed"
    },
    "tags": []
   },
   "source": [
    "Imputamos valores"
   ]
  },
  {
   "cell_type": "code",
   "execution_count": 39,
   "id": "dfd89070",
   "metadata": {
    "execution": {
     "iopub.execute_input": "2024-06-13T16:40:23.709224Z",
     "iopub.status.busy": "2024-06-13T16:40:23.708649Z",
     "iopub.status.idle": "2024-06-13T16:40:23.730457Z",
     "shell.execute_reply": "2024-06-13T16:40:23.728999Z"
    },
    "papermill": {
     "duration": 0.054452,
     "end_time": "2024-06-13T16:40:23.734151",
     "exception": false,
     "start_time": "2024-06-13T16:40:23.679699",
     "status": "completed"
    },
    "tags": []
   },
   "outputs": [],
   "source": [
    "test_data = pd.DataFrame(imputer.fit_transform(test_data), columns=test_data.columns)"
   ]
  },
  {
   "cell_type": "markdown",
   "id": "d16d70c8",
   "metadata": {
    "papermill": {
     "duration": 0.049609,
     "end_time": "2024-06-13T16:40:23.832150",
     "exception": false,
     "start_time": "2024-06-13T16:40:23.782541",
     "status": "completed"
    },
    "tags": []
   },
   "source": [
    "Volvemos a comprobar que no haya valores vacíos"
   ]
  },
  {
   "cell_type": "code",
   "execution_count": 40,
   "id": "115c95ad",
   "metadata": {
    "execution": {
     "iopub.execute_input": "2024-06-13T16:40:23.895683Z",
     "iopub.status.busy": "2024-06-13T16:40:23.895304Z",
     "iopub.status.idle": "2024-06-13T16:40:23.902080Z",
     "shell.execute_reply": "2024-06-13T16:40:23.901006Z"
    },
    "papermill": {
     "duration": 0.039362,
     "end_time": "2024-06-13T16:40:23.904627",
     "exception": false,
     "start_time": "2024-06-13T16:40:23.865265",
     "status": "completed"
    },
    "tags": []
   },
   "outputs": [
    {
     "name": "stdout",
     "output_type": "stream",
     "text": [
      "Index([], dtype='object')\n"
     ]
    }
   ],
   "source": [
    "print(test_data.columns[test_data.isnull().any()])"
   ]
  },
  {
   "cell_type": "markdown",
   "id": "c8744c5b",
   "metadata": {
    "papermill": {
     "duration": 0.028505,
     "end_time": "2024-06-13T16:40:23.961467",
     "exception": false,
     "start_time": "2024-06-13T16:40:23.932962",
     "status": "completed"
    },
    "tags": []
   },
   "source": [
    "#  MODELOS"
   ]
  },
  {
   "cell_type": "markdown",
   "id": "e7e41a8c",
   "metadata": {
    "papermill": {
     "duration": 0.028557,
     "end_time": "2024-06-13T16:40:24.017836",
     "exception": false,
     "start_time": "2024-06-13T16:40:23.989279",
     "status": "completed"
    },
    "tags": []
   },
   "source": [
    "## Modelo 0 Con Datos Preprocesados"
   ]
  },
  {
   "cell_type": "markdown",
   "id": "555b6dee",
   "metadata": {
    "papermill": {
     "duration": 0.027959,
     "end_time": "2024-06-13T16:40:24.073566",
     "exception": false,
     "start_time": "2024-06-13T16:40:24.045607",
     "status": "completed"
    },
    "tags": []
   },
   "source": [
    "Ejecutamos el mismo modelo que la primera vez para ver si se ha mejorado algo"
   ]
  },
  {
   "cell_type": "markdown",
   "id": "e0288473",
   "metadata": {
    "papermill": {
     "duration": 0.027598,
     "end_time": "2024-06-13T16:40:24.128886",
     "exception": false,
     "start_time": "2024-06-13T16:40:24.101288",
     "status": "completed"
    },
    "tags": []
   },
   "source": [
    "División de los datos"
   ]
  },
  {
   "cell_type": "code",
   "execution_count": 41,
   "id": "e4c3334e",
   "metadata": {
    "execution": {
     "iopub.execute_input": "2024-06-13T16:40:24.187667Z",
     "iopub.status.busy": "2024-06-13T16:40:24.187288Z",
     "iopub.status.idle": "2024-06-13T16:40:24.197964Z",
     "shell.execute_reply": "2024-06-13T16:40:24.196508Z"
    },
    "papermill": {
     "duration": 0.043075,
     "end_time": "2024-06-13T16:40:24.200614",
     "exception": false,
     "start_time": "2024-06-13T16:40:24.157539",
     "status": "completed"
    },
    "tags": []
   },
   "outputs": [],
   "source": [
    "# División de datos en conjuntos de entrenamiento y prueba\n",
    "X = train_data_new_imputed.drop('Survived', axis=1)  # Suponiendo que no hay columnas con NaN\n",
    "y = train_data_new_imputed['Survived']\n",
    "\n",
    "X_train, X_test, y_train, y_test = train_test_split(X, y, test_size=0.2, random_state=42, stratify=y)\n"
   ]
  },
  {
   "cell_type": "markdown",
   "id": "b6bb27c1",
   "metadata": {
    "papermill": {
     "duration": 0.02852,
     "end_time": "2024-06-13T16:40:24.257282",
     "exception": false,
     "start_time": "2024-06-13T16:40:24.228762",
     "status": "completed"
    },
    "tags": []
   },
   "source": [
    "Creación del modelo"
   ]
  },
  {
   "cell_type": "code",
   "execution_count": 42,
   "id": "6027fc49",
   "metadata": {
    "execution": {
     "iopub.execute_input": "2024-06-13T16:40:24.315629Z",
     "iopub.status.busy": "2024-06-13T16:40:24.315240Z",
     "iopub.status.idle": "2024-06-13T16:40:24.320826Z",
     "shell.execute_reply": "2024-06-13T16:40:24.319529Z"
    },
    "papermill": {
     "duration": 0.037427,
     "end_time": "2024-06-13T16:40:24.323213",
     "exception": false,
     "start_time": "2024-06-13T16:40:24.285786",
     "status": "completed"
    },
    "tags": []
   },
   "outputs": [],
   "source": [
    "model = RandomForestClassifier(n_estimators=100, max_depth=5, random_state=1)"
   ]
  },
  {
   "cell_type": "code",
   "execution_count": 43,
   "id": "420d983b",
   "metadata": {
    "execution": {
     "iopub.execute_input": "2024-06-13T16:40:24.381405Z",
     "iopub.status.busy": "2024-06-13T16:40:24.381022Z",
     "iopub.status.idle": "2024-06-13T16:40:24.584894Z",
     "shell.execute_reply": "2024-06-13T16:40:24.583697Z"
    },
    "papermill": {
     "duration": 0.236414,
     "end_time": "2024-06-13T16:40:24.587683",
     "exception": false,
     "start_time": "2024-06-13T16:40:24.351269",
     "status": "completed"
    },
    "tags": []
   },
   "outputs": [],
   "source": [
    "model.fit(X_train, y_train)\n",
    "predictions = model.predict(X_test)\n",
    "accuracy = accuracy_score(y_test, predictions)"
   ]
  },
  {
   "cell_type": "code",
   "execution_count": 44,
   "id": "463b446e",
   "metadata": {
    "execution": {
     "iopub.execute_input": "2024-06-13T16:40:24.645324Z",
     "iopub.status.busy": "2024-06-13T16:40:24.644867Z",
     "iopub.status.idle": "2024-06-13T16:40:24.651187Z",
     "shell.execute_reply": "2024-06-13T16:40:24.649785Z"
    },
    "papermill": {
     "duration": 0.038002,
     "end_time": "2024-06-13T16:40:24.653485",
     "exception": false,
     "start_time": "2024-06-13T16:40:24.615483",
     "status": "completed"
    },
    "tags": []
   },
   "outputs": [
    {
     "name": "stdout",
     "output_type": "stream",
     "text": [
      "Accuracy:  0.8044692737430168\n"
     ]
    }
   ],
   "source": [
    "print(\"Accuracy: \", accuracy)"
   ]
  },
  {
   "cell_type": "markdown",
   "id": "6b38d949",
   "metadata": {
    "papermill": {
     "duration": 0.027716,
     "end_time": "2024-06-13T16:40:24.709296",
     "exception": false,
     "start_time": "2024-06-13T16:40:24.681580",
     "status": "completed"
    },
    "tags": []
   },
   "source": [
    "Hemos mejorado algo. Así que vamos a explorar nuevos modelos e intentar ajustarlos"
   ]
  },
  {
   "cell_type": "markdown",
   "id": "519725f8",
   "metadata": {
    "papermill": {
     "duration": 0.027966,
     "end_time": "2024-06-13T16:40:24.765144",
     "exception": false,
     "start_time": "2024-06-13T16:40:24.737178",
     "status": "completed"
    },
    "tags": []
   },
   "source": [
    "### Modelo 1"
   ]
  },
  {
   "cell_type": "code",
   "execution_count": 45,
   "id": "8f70a555",
   "metadata": {
    "execution": {
     "iopub.execute_input": "2024-06-13T16:40:24.823922Z",
     "iopub.status.busy": "2024-06-13T16:40:24.823519Z",
     "iopub.status.idle": "2024-06-13T16:40:24.829146Z",
     "shell.execute_reply": "2024-06-13T16:40:24.827518Z"
    },
    "papermill": {
     "duration": 0.038183,
     "end_time": "2024-06-13T16:40:24.831787",
     "exception": false,
     "start_time": "2024-06-13T16:40:24.793604",
     "status": "completed"
    },
    "tags": []
   },
   "outputs": [],
   "source": [
    "# Definición del modelo Random Forest\n",
    "model = RandomForestClassifier()"
   ]
  },
  {
   "cell_type": "code",
   "execution_count": 46,
   "id": "252d5217",
   "metadata": {
    "execution": {
     "iopub.execute_input": "2024-06-13T16:40:24.890945Z",
     "iopub.status.busy": "2024-06-13T16:40:24.890537Z",
     "iopub.status.idle": "2024-06-13T16:41:04.595156Z",
     "shell.execute_reply": "2024-06-13T16:41:04.593905Z"
    },
    "papermill": {
     "duration": 39.764234,
     "end_time": "2024-06-13T16:41:04.624344",
     "exception": false,
     "start_time": "2024-06-13T16:40:24.860110",
     "status": "completed"
    },
    "tags": []
   },
   "outputs": [
    {
     "data": {
      "text/html": [
       "<style>#sk-container-id-1 {color: black;background-color: white;}#sk-container-id-1 pre{padding: 0;}#sk-container-id-1 div.sk-toggleable {background-color: white;}#sk-container-id-1 label.sk-toggleable__label {cursor: pointer;display: block;width: 100%;margin-bottom: 0;padding: 0.3em;box-sizing: border-box;text-align: center;}#sk-container-id-1 label.sk-toggleable__label-arrow:before {content: \"▸\";float: left;margin-right: 0.25em;color: #696969;}#sk-container-id-1 label.sk-toggleable__label-arrow:hover:before {color: black;}#sk-container-id-1 div.sk-estimator:hover label.sk-toggleable__label-arrow:before {color: black;}#sk-container-id-1 div.sk-toggleable__content {max-height: 0;max-width: 0;overflow: hidden;text-align: left;background-color: #f0f8ff;}#sk-container-id-1 div.sk-toggleable__content pre {margin: 0.2em;color: black;border-radius: 0.25em;background-color: #f0f8ff;}#sk-container-id-1 input.sk-toggleable__control:checked~div.sk-toggleable__content {max-height: 200px;max-width: 100%;overflow: auto;}#sk-container-id-1 input.sk-toggleable__control:checked~label.sk-toggleable__label-arrow:before {content: \"▾\";}#sk-container-id-1 div.sk-estimator input.sk-toggleable__control:checked~label.sk-toggleable__label {background-color: #d4ebff;}#sk-container-id-1 div.sk-label input.sk-toggleable__control:checked~label.sk-toggleable__label {background-color: #d4ebff;}#sk-container-id-1 input.sk-hidden--visually {border: 0;clip: rect(1px 1px 1px 1px);clip: rect(1px, 1px, 1px, 1px);height: 1px;margin: -1px;overflow: hidden;padding: 0;position: absolute;width: 1px;}#sk-container-id-1 div.sk-estimator {font-family: monospace;background-color: #f0f8ff;border: 1px dotted black;border-radius: 0.25em;box-sizing: border-box;margin-bottom: 0.5em;}#sk-container-id-1 div.sk-estimator:hover {background-color: #d4ebff;}#sk-container-id-1 div.sk-parallel-item::after {content: \"\";width: 100%;border-bottom: 1px solid gray;flex-grow: 1;}#sk-container-id-1 div.sk-label:hover label.sk-toggleable__label {background-color: #d4ebff;}#sk-container-id-1 div.sk-serial::before {content: \"\";position: absolute;border-left: 1px solid gray;box-sizing: border-box;top: 0;bottom: 0;left: 50%;z-index: 0;}#sk-container-id-1 div.sk-serial {display: flex;flex-direction: column;align-items: center;background-color: white;padding-right: 0.2em;padding-left: 0.2em;position: relative;}#sk-container-id-1 div.sk-item {position: relative;z-index: 1;}#sk-container-id-1 div.sk-parallel {display: flex;align-items: stretch;justify-content: center;background-color: white;position: relative;}#sk-container-id-1 div.sk-item::before, #sk-container-id-1 div.sk-parallel-item::before {content: \"\";position: absolute;border-left: 1px solid gray;box-sizing: border-box;top: 0;bottom: 0;left: 50%;z-index: -1;}#sk-container-id-1 div.sk-parallel-item {display: flex;flex-direction: column;z-index: 1;position: relative;background-color: white;}#sk-container-id-1 div.sk-parallel-item:first-child::after {align-self: flex-end;width: 50%;}#sk-container-id-1 div.sk-parallel-item:last-child::after {align-self: flex-start;width: 50%;}#sk-container-id-1 div.sk-parallel-item:only-child::after {width: 0;}#sk-container-id-1 div.sk-dashed-wrapped {border: 1px dashed gray;margin: 0 0.4em 0.5em 0.4em;box-sizing: border-box;padding-bottom: 0.4em;background-color: white;}#sk-container-id-1 div.sk-label label {font-family: monospace;font-weight: bold;display: inline-block;line-height: 1.2em;}#sk-container-id-1 div.sk-label-container {text-align: center;}#sk-container-id-1 div.sk-container {/* jupyter's `normalize.less` sets `[hidden] { display: none; }` but bootstrap.min.css set `[hidden] { display: none !important; }` so we also need the `!important` here to be able to override the default hidden behavior on the sphinx rendered scikit-learn.org. See: https://github.com/scikit-learn/scikit-learn/issues/21755 */display: inline-block !important;position: relative;}#sk-container-id-1 div.sk-text-repr-fallback {display: none;}</style><div id=\"sk-container-id-1\" class=\"sk-top-container\"><div class=\"sk-text-repr-fallback\"><pre>GridSearchCV(cv=5, estimator=RandomForestClassifier(),\n",
       "             param_grid={&#x27;max_depth&#x27;: [7, 10, 15],\n",
       "                         &#x27;min_samples_split&#x27;: [5, 10, 15],\n",
       "                         &#x27;n_estimators&#x27;: [100, 150, 200]},\n",
       "             scoring=&#x27;accuracy&#x27;)</pre><b>In a Jupyter environment, please rerun this cell to show the HTML representation or trust the notebook. <br />On GitHub, the HTML representation is unable to render, please try loading this page with nbviewer.org.</b></div><div class=\"sk-container\" hidden><div class=\"sk-item sk-dashed-wrapped\"><div class=\"sk-label-container\"><div class=\"sk-label sk-toggleable\"><input class=\"sk-toggleable__control sk-hidden--visually\" id=\"sk-estimator-id-1\" type=\"checkbox\" ><label for=\"sk-estimator-id-1\" class=\"sk-toggleable__label sk-toggleable__label-arrow\">GridSearchCV</label><div class=\"sk-toggleable__content\"><pre>GridSearchCV(cv=5, estimator=RandomForestClassifier(),\n",
       "             param_grid={&#x27;max_depth&#x27;: [7, 10, 15],\n",
       "                         &#x27;min_samples_split&#x27;: [5, 10, 15],\n",
       "                         &#x27;n_estimators&#x27;: [100, 150, 200]},\n",
       "             scoring=&#x27;accuracy&#x27;)</pre></div></div></div><div class=\"sk-parallel\"><div class=\"sk-parallel-item\"><div class=\"sk-item\"><div class=\"sk-label-container\"><div class=\"sk-label sk-toggleable\"><input class=\"sk-toggleable__control sk-hidden--visually\" id=\"sk-estimator-id-2\" type=\"checkbox\" ><label for=\"sk-estimator-id-2\" class=\"sk-toggleable__label sk-toggleable__label-arrow\">estimator: RandomForestClassifier</label><div class=\"sk-toggleable__content\"><pre>RandomForestClassifier()</pre></div></div></div><div class=\"sk-serial\"><div class=\"sk-item\"><div class=\"sk-estimator sk-toggleable\"><input class=\"sk-toggleable__control sk-hidden--visually\" id=\"sk-estimator-id-3\" type=\"checkbox\" ><label for=\"sk-estimator-id-3\" class=\"sk-toggleable__label sk-toggleable__label-arrow\">RandomForestClassifier</label><div class=\"sk-toggleable__content\"><pre>RandomForestClassifier()</pre></div></div></div></div></div></div></div></div></div></div>"
      ],
      "text/plain": [
       "GridSearchCV(cv=5, estimator=RandomForestClassifier(),\n",
       "             param_grid={'max_depth': [7, 10, 15],\n",
       "                         'min_samples_split': [5, 10, 15],\n",
       "                         'n_estimators': [100, 150, 200]},\n",
       "             scoring='accuracy')"
      ]
     },
     "execution_count": 46,
     "metadata": {},
     "output_type": "execute_result"
    }
   ],
   "source": [
    "# Búsqueda de hiperparámetros con validación cruzada (GridSearchCV)\n",
    "param_grid = {\n",
    "    'n_estimators': [100, 150, 200],\n",
    "    'max_depth': [7, 10, 15],\n",
    "    'min_samples_split': [5, 10, 15]\n",
    "}\n",
    "\n",
    "grid_search = GridSearchCV(estimator=model,\n",
    "                          param_grid=param_grid,\n",
    "                          scoring='accuracy',\n",
    "                          cv=5)\n",
    "\n",
    "\n",
    "grid_search.fit(X_train, y_train)"
   ]
  },
  {
   "cell_type": "code",
   "execution_count": 47,
   "id": "9ca63479",
   "metadata": {
    "execution": {
     "iopub.execute_input": "2024-06-13T16:41:04.683096Z",
     "iopub.status.busy": "2024-06-13T16:41:04.682650Z",
     "iopub.status.idle": "2024-06-13T16:41:04.691021Z",
     "shell.execute_reply": "2024-06-13T16:41:04.689631Z"
    },
    "papermill": {
     "duration": 0.040473,
     "end_time": "2024-06-13T16:41:04.693354",
     "exception": false,
     "start_time": "2024-06-13T16:41:04.652881",
     "status": "completed"
    },
    "tags": []
   },
   "outputs": [
    {
     "name": "stdout",
     "output_type": "stream",
     "text": [
      "Mejores parámetros encontrados:\n",
      "{'max_depth': 15, 'min_samples_split': 15, 'n_estimators': 150}\n",
      "Mejor puntuación de validación cruzada: 0.8315177779966512\n"
     ]
    }
   ],
   "source": [
    "# Obtención de los hiperparámetros óptimos\n",
    "results = pd.DataFrame(grid_search.cv_results_)\n",
    "best_params = grid_search.best_params_\n",
    "# Mostrar los resultados\n",
    "print(\"Mejores parámetros encontrados:\")\n",
    "print(best_params)\n",
    "print(\"Mejor puntuación de validación cruzada:\", grid_search.best_score_)"
   ]
  },
  {
   "cell_type": "markdown",
   "id": "0d8ce6b8",
   "metadata": {
    "papermill": {
     "duration": 0.03236,
     "end_time": "2024-06-13T16:41:04.754089",
     "exception": false,
     "start_time": "2024-06-13T16:41:04.721729",
     "status": "completed"
    },
    "tags": []
   },
   "source": [
    "Analisis de todos los hiperparámetros"
   ]
  },
  {
   "cell_type": "code",
   "execution_count": 48,
   "id": "6cc26bda",
   "metadata": {
    "execution": {
     "iopub.execute_input": "2024-06-13T16:41:04.824126Z",
     "iopub.status.busy": "2024-06-13T16:41:04.823593Z",
     "iopub.status.idle": "2024-06-13T16:41:05.338231Z",
     "shell.execute_reply": "2024-06-13T16:41:05.337028Z"
    },
    "papermill": {
     "duration": 0.549291,
     "end_time": "2024-06-13T16:41:05.341271",
     "exception": false,
     "start_time": "2024-06-13T16:41:04.791980",
     "status": "completed"
    },
    "tags": []
   },
   "outputs": [
    {
     "data": {
      "image/png": "[encoded data removed]",
      "text/plain": [
       "<Figure size 1000x600 with 1 Axes>"
      ]
     },
     "metadata": {},
     "output_type": "display_data"
    }
   ],
   "source": [
    "# Dibujar la gráfica con los parámetros y su precisión\n",
    "plt.figure(figsize=(10, 6))\n",
    "sns.scatterplot(data=results, x=results.index, y='mean_test_score', hue='param_n_estimators', style='param_max_depth', s=100)\n",
    "\n",
    "plt.xlabel('Índice de configuración de parámetros')\n",
    "plt.ylabel('Precisión media (mean_test_score)')\n",
    "plt.title('Precisión del modelo Random Forest con diferentes configuraciones de parámetros')\n",
    "plt.legend(title='n_estimators')\n",
    "plt.show()"
   ]
  },
  {
   "cell_type": "code",
   "execution_count": 49,
   "id": "1ea31214",
   "metadata": {
    "execution": {
     "iopub.execute_input": "2024-06-13T16:41:05.403235Z",
     "iopub.status.busy": "2024-06-13T16:41:05.402396Z",
     "iopub.status.idle": "2024-06-13T16:41:05.785528Z",
     "shell.execute_reply": "2024-06-13T16:41:05.784234Z"
    },
    "papermill": {
     "duration": 0.417705,
     "end_time": "2024-06-13T16:41:05.788480",
     "exception": false,
     "start_time": "2024-06-13T16:41:05.370775",
     "status": "completed"
    },
    "tags": []
   },
   "outputs": [
    {
     "data": {
      "text/html": [
       "<style>#sk-container-id-2 {color: black;background-color: white;}#sk-container-id-2 pre{padding: 0;}#sk-container-id-2 div.sk-toggleable {background-color: white;}#sk-container-id-2 label.sk-toggleable__label {cursor: pointer;display: block;width: 100%;margin-bottom: 0;padding: 0.3em;box-sizing: border-box;text-align: center;}#sk-container-id-2 label.sk-toggleable__label-arrow:before {content: \"▸\";float: left;margin-right: 0.25em;color: #696969;}#sk-container-id-2 label.sk-toggleable__label-arrow:hover:before {color: black;}#sk-container-id-2 div.sk-estimator:hover label.sk-toggleable__label-arrow:before {color: black;}#sk-container-id-2 div.sk-toggleable__content {max-height: 0;max-width: 0;overflow: hidden;text-align: left;background-color: #f0f8ff;}#sk-container-id-2 div.sk-toggleable__content pre {margin: 0.2em;color: black;border-radius: 0.25em;background-color: #f0f8ff;}#sk-container-id-2 input.sk-toggleable__control:checked~div.sk-toggleable__content {max-height: 200px;max-width: 100%;overflow: auto;}#sk-container-id-2 input.sk-toggleable__control:checked~label.sk-toggleable__label-arrow:before {content: \"▾\";}#sk-container-id-2 div.sk-estimator input.sk-toggleable__control:checked~label.sk-toggleable__label {background-color: #d4ebff;}#sk-container-id-2 div.sk-label input.sk-toggleable__control:checked~label.sk-toggleable__label {background-color: #d4ebff;}#sk-container-id-2 input.sk-hidden--visually {border: 0;clip: rect(1px 1px 1px 1px);clip: rect(1px, 1px, 1px, 1px);height: 1px;margin: -1px;overflow: hidden;padding: 0;position: absolute;width: 1px;}#sk-container-id-2 div.sk-estimator {font-family: monospace;background-color: #f0f8ff;border: 1px dotted black;border-radius: 0.25em;box-sizing: border-box;margin-bottom: 0.5em;}#sk-container-id-2 div.sk-estimator:hover {background-color: #d4ebff;}#sk-container-id-2 div.sk-parallel-item::after {content: \"\";width: 100%;border-bottom: 1px solid gray;flex-grow: 1;}#sk-container-id-2 div.sk-label:hover label.sk-toggleable__label {background-color: #d4ebff;}#sk-container-id-2 div.sk-serial::before {content: \"\";position: absolute;border-left: 1px solid gray;box-sizing: border-box;top: 0;bottom: 0;left: 50%;z-index: 0;}#sk-container-id-2 div.sk-serial {display: flex;flex-direction: column;align-items: center;background-color: white;padding-right: 0.2em;padding-left: 0.2em;position: relative;}#sk-container-id-2 div.sk-item {position: relative;z-index: 1;}#sk-container-id-2 div.sk-parallel {display: flex;align-items: stretch;justify-content: center;background-color: white;position: relative;}#sk-container-id-2 div.sk-item::before, #sk-container-id-2 div.sk-parallel-item::before {content: \"\";position: absolute;border-left: 1px solid gray;box-sizing: border-box;top: 0;bottom: 0;left: 50%;z-index: -1;}#sk-container-id-2 div.sk-parallel-item {display: flex;flex-direction: column;z-index: 1;position: relative;background-color: white;}#sk-container-id-2 div.sk-parallel-item:first-child::after {align-self: flex-end;width: 50%;}#sk-container-id-2 div.sk-parallel-item:last-child::after {align-self: flex-start;width: 50%;}#sk-container-id-2 div.sk-parallel-item:only-child::after {width: 0;}#sk-container-id-2 div.sk-dashed-wrapped {border: 1px dashed gray;margin: 0 0.4em 0.5em 0.4em;box-sizing: border-box;padding-bottom: 0.4em;background-color: white;}#sk-container-id-2 div.sk-label label {font-family: monospace;font-weight: bold;display: inline-block;line-height: 1.2em;}#sk-container-id-2 div.sk-label-container {text-align: center;}#sk-container-id-2 div.sk-container {/* jupyter's `normalize.less` sets `[hidden] { display: none; }` but bootstrap.min.css set `[hidden] { display: none !important; }` so we also need the `!important` here to be able to override the default hidden behavior on the sphinx rendered scikit-learn.org. See: https://github.com/scikit-learn/scikit-learn/issues/21755 */display: inline-block !important;position: relative;}#sk-container-id-2 div.sk-text-repr-fallback {display: none;}</style><div id=\"sk-container-id-2\" class=\"sk-top-container\"><div class=\"sk-text-repr-fallback\"><pre>RandomForestClassifier(max_depth=7, min_samples_split=10, n_estimators=200)</pre><b>In a Jupyter environment, please rerun this cell to show the HTML representation or trust the notebook. <br />On GitHub, the HTML representation is unable to render, please try loading this page with nbviewer.org.</b></div><div class=\"sk-container\" hidden><div class=\"sk-item\"><div class=\"sk-estimator sk-toggleable\"><input class=\"sk-toggleable__control sk-hidden--visually\" id=\"sk-estimator-id-4\" type=\"checkbox\" checked><label for=\"sk-estimator-id-4\" class=\"sk-toggleable__label sk-toggleable__label-arrow\">RandomForestClassifier</label><div class=\"sk-toggleable__content\"><pre>RandomForestClassifier(max_depth=7, min_samples_split=10, n_estimators=200)</pre></div></div></div></div></div>"
      ],
      "text/plain": [
       "RandomForestClassifier(max_depth=7, min_samples_split=10, n_estimators=200)"
      ]
     },
     "execution_count": 49,
     "metadata": {},
     "output_type": "execute_result"
    }
   ],
   "source": [
    "# Entrenamiento del modelo con los hiperparámetros óptimos\n",
    "model.set_params(n_estimators = 200, max_depth = 7, min_samples_split = 10)  # Ejemplo de hiperparámetros óptimos\n",
    "model.fit(X_train, y_train)"
   ]
  },
  {
   "cell_type": "code",
   "execution_count": 50,
   "id": "5192014b",
   "metadata": {
    "execution": {
     "iopub.execute_input": "2024-06-13T16:41:05.857310Z",
     "iopub.status.busy": "2024-06-13T16:41:05.855962Z",
     "iopub.status.idle": "2024-06-13T16:41:05.888726Z",
     "shell.execute_reply": "2024-06-13T16:41:05.887449Z"
    },
    "papermill": {
     "duration": 0.067262,
     "end_time": "2024-06-13T16:41:05.891504",
     "exception": false,
     "start_time": "2024-06-13T16:41:05.824242",
     "status": "completed"
    },
    "tags": []
   },
   "outputs": [
    {
     "name": "stdout",
     "output_type": "stream",
     "text": [
      "Accuracy en el conjunto de prueba: 0.8324022346368715\n",
      "Precisión: 0.8679245283018868\n",
      "Sensibilidad: 0.6666666666666666\n",
      "Puntaje F1: 0.7540983606557377\n"
     ]
    }
   ],
   "source": [
    "# Evaluación del modelo en el conjunto de prueba\n",
    "y_pred = model.predict(X_test)\n",
    "\n",
    "accuracy = accuracy_score(y_test, y_pred)\n",
    "precision = precision_score(y_test, y_pred)\n",
    "recall = recall_score(y_test, y_pred)\n",
    "f1 = f1_score(y_test, y_pred)\n",
    "\n",
    "print(\"Accuracy en el conjunto de prueba:\", accuracy)\n",
    "print(\"Precisión:\", precision)\n",
    "print(\"Sensibilidad:\", recall)\n",
    "print(\"Puntaje F1:\", f1)"
   ]
  },
  {
   "cell_type": "markdown",
   "id": "c45d47ce",
   "metadata": {
    "papermill": {
     "duration": 0.029431,
     "end_time": "2024-06-13T16:41:05.957010",
     "exception": false,
     "start_time": "2024-06-13T16:41:05.927579",
     "status": "completed"
    },
    "tags": []
   },
   "source": [
    "Otros análisis"
   ]
  },
  {
   "cell_type": "markdown",
   "id": "09787cdf",
   "metadata": {
    "papermill": {
     "duration": 0.029519,
     "end_time": "2024-06-13T16:41:06.019327",
     "exception": false,
     "start_time": "2024-06-13T16:41:05.989808",
     "status": "completed"
    },
    "tags": []
   },
   "source": [
    "# Modelo 2"
   ]
  },
  {
   "cell_type": "markdown",
   "id": "00edfafe",
   "metadata": {
    "papermill": {
     "duration": 0.029993,
     "end_time": "2024-06-13T16:41:06.079259",
     "exception": false,
     "start_time": "2024-06-13T16:41:06.049266",
     "status": "completed"
    },
    "tags": []
   },
   "source": [
    "Usamos otra cosa que no sea RF"
   ]
  },
  {
   "cell_type": "code",
   "execution_count": 51,
   "id": "4f752b3b",
   "metadata": {
    "execution": {
     "iopub.execute_input": "2024-06-13T16:41:06.141285Z",
     "iopub.status.busy": "2024-06-13T16:41:06.140868Z",
     "iopub.status.idle": "2024-06-13T16:41:06.146029Z",
     "shell.execute_reply": "2024-06-13T16:41:06.144787Z"
    },
    "papermill": {
     "duration": 0.038756,
     "end_time": "2024-06-13T16:41:06.148481",
     "exception": false,
     "start_time": "2024-06-13T16:41:06.109725",
     "status": "completed"
    },
    "tags": []
   },
   "outputs": [],
   "source": [
    "from sklearn.neighbors import KNeighborsClassifier\n",
    "from sklearn.metrics import accuracy_score, classification_report, confusion_matrix\n"
   ]
  },
  {
   "cell_type": "code",
   "execution_count": 52,
   "id": "21d69e73",
   "metadata": {
    "execution": {
     "iopub.execute_input": "2024-06-13T16:41:06.212369Z",
     "iopub.status.busy": "2024-06-13T16:41:06.211966Z",
     "iopub.status.idle": "2024-06-13T16:41:06.217544Z",
     "shell.execute_reply": "2024-06-13T16:41:06.216278Z"
    },
    "papermill": {
     "duration": 0.039825,
     "end_time": "2024-06-13T16:41:06.219900",
     "exception": false,
     "start_time": "2024-06-13T16:41:06.180075",
     "status": "completed"
    },
    "tags": []
   },
   "outputs": [],
   "source": [
    "param_grid2 = {\n",
    "    'n_neighbors': [2, 3, 5, 7],\n",
    "    'weights': ['uniform', 'distance'],\n",
    "    'metric': ['euclidean', 'manhattan', 'minkowski']\n",
    "}"
   ]
  },
  {
   "cell_type": "code",
   "execution_count": 53,
   "id": "7cc0c8c3",
   "metadata": {
    "execution": {
     "iopub.execute_input": "2024-06-13T16:41:06.282244Z",
     "iopub.status.busy": "2024-06-13T16:41:06.281813Z",
     "iopub.status.idle": "2024-06-13T16:41:06.287483Z",
     "shell.execute_reply": "2024-06-13T16:41:06.286208Z"
    },
    "papermill": {
     "duration": 0.040124,
     "end_time": "2024-06-13T16:41:06.289851",
     "exception": false,
     "start_time": "2024-06-13T16:41:06.249727",
     "status": "completed"
    },
    "tags": []
   },
   "outputs": [],
   "source": [
    "# Crear el modelo KNN\n",
    "knn = KNeighborsClassifier()\n",
    "\n",
    "# Configurar el GridSearchCV\n",
    "grid_search2 = GridSearchCV(estimator=knn, param_grid=param_grid2, cv=5, n_jobs=-1, verbose=2)\n"
   ]
  },
  {
   "cell_type": "code",
   "execution_count": 54,
   "id": "03392fd2",
   "metadata": {
    "execution": {
     "iopub.execute_input": "2024-06-13T16:41:06.351453Z",
     "iopub.status.busy": "2024-06-13T16:41:06.351033Z",
     "iopub.status.idle": "2024-06-13T16:41:08.979801Z",
     "shell.execute_reply": "2024-06-13T16:41:08.978356Z"
    },
    "papermill": {
     "duration": 2.662998,
     "end_time": "2024-06-13T16:41:08.982529",
     "exception": false,
     "start_time": "2024-06-13T16:41:06.319531",
     "status": "completed"
    },
    "tags": []
   },
   "outputs": [
    {
     "name": "stdout",
     "output_type": "stream",
     "text": [
      "Fitting 5 folds for each of 24 candidates, totalling 120 fits\n"
     ]
    },
    {
     "data": {
      "text/html": [
       "<style>#sk-container-id-3 {color: black;background-color: white;}#sk-container-id-3 pre{padding: 0;}#sk-container-id-3 div.sk-toggleable {background-color: white;}#sk-container-id-3 label.sk-toggleable__label {cursor: pointer;display: block;width: 100%;margin-bottom: 0;padding: 0.3em;box-sizing: border-box;text-align: center;}#sk-container-id-3 label.sk-toggleable__label-arrow:before {content: \"▸\";float: left;margin-right: 0.25em;color: #696969;}#sk-container-id-3 label.sk-toggleable__label-arrow:hover:before {color: black;}#sk-container-id-3 div.sk-estimator:hover label.sk-toggleable__label-arrow:before {color: black;}#sk-container-id-3 div.sk-toggleable__content {max-height: 0;max-width: 0;overflow: hidden;text-align: left;background-color: #f0f8ff;}#sk-container-id-3 div.sk-toggleable__content pre {margin: 0.2em;color: black;border-radius: 0.25em;background-color: #f0f8ff;}#sk-container-id-3 input.sk-toggleable__control:checked~div.sk-toggleable__content {max-height: 200px;max-width: 100%;overflow: auto;}#sk-container-id-3 input.sk-toggleable__control:checked~label.sk-toggleable__label-arrow:before {content: \"▾\";}#sk-container-id-3 div.sk-estimator input.sk-toggleable__control:checked~label.sk-toggleable__label {background-color: #d4ebff;}#sk-container-id-3 div.sk-label input.sk-toggleable__control:checked~label.sk-toggleable__label {background-color: #d4ebff;}#sk-container-id-3 input.sk-hidden--visually {border: 0;clip: rect(1px 1px 1px 1px);clip: rect(1px, 1px, 1px, 1px);height: 1px;margin: -1px;overflow: hidden;padding: 0;position: absolute;width: 1px;}#sk-container-id-3 div.sk-estimator {font-family: monospace;background-color: #f0f8ff;border: 1px dotted black;border-radius: 0.25em;box-sizing: border-box;margin-bottom: 0.5em;}#sk-container-id-3 div.sk-estimator:hover {background-color: #d4ebff;}#sk-container-id-3 div.sk-parallel-item::after {content: \"\";width: 100%;border-bottom: 1px solid gray;flex-grow: 1;}#sk-container-id-3 div.sk-label:hover label.sk-toggleable__label {background-color: #d4ebff;}#sk-container-id-3 div.sk-serial::before {content: \"\";position: absolute;border-left: 1px solid gray;box-sizing: border-box;top: 0;bottom: 0;left: 50%;z-index: 0;}#sk-container-id-3 div.sk-serial {display: flex;flex-direction: column;align-items: center;background-color: white;padding-right: 0.2em;padding-left: 0.2em;position: relative;}#sk-container-id-3 div.sk-item {position: relative;z-index: 1;}#sk-container-id-3 div.sk-parallel {display: flex;align-items: stretch;justify-content: center;background-color: white;position: relative;}#sk-container-id-3 div.sk-item::before, #sk-container-id-3 div.sk-parallel-item::before {content: \"\";position: absolute;border-left: 1px solid gray;box-sizing: border-box;top: 0;bottom: 0;left: 50%;z-index: -1;}#sk-container-id-3 div.sk-parallel-item {display: flex;flex-direction: column;z-index: 1;position: relative;background-color: white;}#sk-container-id-3 div.sk-parallel-item:first-child::after {align-self: flex-end;width: 50%;}#sk-container-id-3 div.sk-parallel-item:last-child::after {align-self: flex-start;width: 50%;}#sk-container-id-3 div.sk-parallel-item:only-child::after {width: 0;}#sk-container-id-3 div.sk-dashed-wrapped {border: 1px dashed gray;margin: 0 0.4em 0.5em 0.4em;box-sizing: border-box;padding-bottom: 0.4em;background-color: white;}#sk-container-id-3 div.sk-label label {font-family: monospace;font-weight: bold;display: inline-block;line-height: 1.2em;}#sk-container-id-3 div.sk-label-container {text-align: center;}#sk-container-id-3 div.sk-container {/* jupyter's `normalize.less` sets `[hidden] { display: none; }` but bootstrap.min.css set `[hidden] { display: none !important; }` so we also need the `!important` here to be able to override the default hidden behavior on the sphinx rendered scikit-learn.org. See: https://github.com/scikit-learn/scikit-learn/issues/21755 */display: inline-block !important;position: relative;}#sk-container-id-3 div.sk-text-repr-fallback {display: none;}</style><div id=\"sk-container-id-3\" class=\"sk-top-container\"><div class=\"sk-text-repr-fallback\"><pre>GridSearchCV(cv=5, estimator=KNeighborsClassifier(), n_jobs=-1,\n",
       "             param_grid={&#x27;metric&#x27;: [&#x27;euclidean&#x27;, &#x27;manhattan&#x27;, &#x27;minkowski&#x27;],\n",
       "                         &#x27;n_neighbors&#x27;: [2, 3, 5, 7],\n",
       "                         &#x27;weights&#x27;: [&#x27;uniform&#x27;, &#x27;distance&#x27;]},\n",
       "             verbose=2)</pre><b>In a Jupyter environment, please rerun this cell to show the HTML representation or trust the notebook. <br />On GitHub, the HTML representation is unable to render, please try loading this page with nbviewer.org.</b></div><div class=\"sk-container\" hidden><div class=\"sk-item sk-dashed-wrapped\"><div class=\"sk-label-container\"><div class=\"sk-label sk-toggleable\"><input class=\"sk-toggleable__control sk-hidden--visually\" id=\"sk-estimator-id-5\" type=\"checkbox\" ><label for=\"sk-estimator-id-5\" class=\"sk-toggleable__label sk-toggleable__label-arrow\">GridSearchCV</label><div class=\"sk-toggleable__content\"><pre>GridSearchCV(cv=5, estimator=KNeighborsClassifier(), n_jobs=-1,\n",
       "             param_grid={&#x27;metric&#x27;: [&#x27;euclidean&#x27;, &#x27;manhattan&#x27;, &#x27;minkowski&#x27;],\n",
       "                         &#x27;n_neighbors&#x27;: [2, 3, 5, 7],\n",
       "                         &#x27;weights&#x27;: [&#x27;uniform&#x27;, &#x27;distance&#x27;]},\n",
       "             verbose=2)</pre></div></div></div><div class=\"sk-parallel\"><div class=\"sk-parallel-item\"><div class=\"sk-item\"><div class=\"sk-label-container\"><div class=\"sk-label sk-toggleable\"><input class=\"sk-toggleable__control sk-hidden--visually\" id=\"sk-estimator-id-6\" type=\"checkbox\" ><label for=\"sk-estimator-id-6\" class=\"sk-toggleable__label sk-toggleable__label-arrow\">estimator: KNeighborsClassifier</label><div class=\"sk-toggleable__content\"><pre>KNeighborsClassifier()</pre></div></div></div><div class=\"sk-serial\"><div class=\"sk-item\"><div class=\"sk-estimator sk-toggleable\"><input class=\"sk-toggleable__control sk-hidden--visually\" id=\"sk-estimator-id-7\" type=\"checkbox\" ><label for=\"sk-estimator-id-7\" class=\"sk-toggleable__label sk-toggleable__label-arrow\">KNeighborsClassifier</label><div class=\"sk-toggleable__content\"><pre>KNeighborsClassifier()</pre></div></div></div></div></div></div></div></div></div></div>"
      ],
      "text/plain": [
       "GridSearchCV(cv=5, estimator=KNeighborsClassifier(), n_jobs=-1,\n",
       "             param_grid={'metric': ['euclidean', 'manhattan', 'minkowski'],\n",
       "                         'n_neighbors': [2, 3, 5, 7],\n",
       "                         'weights': ['uniform', 'distance']},\n",
       "             verbose=2)"
      ]
     },
     "execution_count": 54,
     "metadata": {},
     "output_type": "execute_result"
    }
   ],
   "source": [
    "# Entrenar el modelo\n",
    "grid_search2.fit(X_train, y_train)\n"
   ]
  },
  {
   "cell_type": "code",
   "execution_count": 55,
   "id": "bbaeefdd",
   "metadata": {
    "execution": {
     "iopub.execute_input": "2024-06-13T16:41:09.045996Z",
     "iopub.status.busy": "2024-06-13T16:41:09.045573Z",
     "iopub.status.idle": "2024-06-13T16:41:09.065656Z",
     "shell.execute_reply": "2024-06-13T16:41:09.064331Z"
    },
    "papermill": {
     "duration": 0.054681,
     "end_time": "2024-06-13T16:41:09.068189",
     "exception": false,
     "start_time": "2024-06-13T16:41:09.013508",
     "status": "completed"
    },
    "tags": []
   },
   "outputs": [
    {
     "name": "stdout",
     "output_type": "stream",
     "text": [
      "Mejores hiperparámetros: {'metric': 'manhattan', 'n_neighbors': 7, 'weights': 'uniform'} Accuracy:  0.7964247020585049\n"
     ]
    }
   ],
   "source": [
    "# Obtener los mejores hiperparámetros\n",
    "print(f'Mejores hiperparámetros: {grid_search2.best_params_}', \"Accuracy: \", grid_search2.best_score_)\n",
    "\n",
    "# Realizar predicciones con el mejor modelo\n",
    "best_knn = grid_search2.best_estimator_\n",
    "y_pred2 = best_knn.predict(X_test)"
   ]
  },
  {
   "cell_type": "code",
   "execution_count": 56,
   "id": "f5f4e53f",
   "metadata": {
    "execution": {
     "iopub.execute_input": "2024-06-13T16:41:09.132509Z",
     "iopub.status.busy": "2024-06-13T16:41:09.132130Z",
     "iopub.status.idle": "2024-06-13T16:41:09.139976Z",
     "shell.execute_reply": "2024-06-13T16:41:09.138791Z"
    },
    "papermill": {
     "duration": 0.041951,
     "end_time": "2024-06-13T16:41:09.142303",
     "exception": false,
     "start_time": "2024-06-13T16:41:09.100352",
     "status": "completed"
    },
    "tags": []
   },
   "outputs": [
    {
     "name": "stdout",
     "output_type": "stream",
     "text": [
      "Precisión del modelo: 0.75\n"
     ]
    }
   ],
   "source": [
    "# Calcular la precisión del modelo\n",
    "accuracy2 = accuracy_score(y_test, y_pred2)\n",
    "print(f'Precisión del modelo: {accuracy2:.2f}')"
   ]
  },
  {
   "cell_type": "code",
   "execution_count": 57,
   "id": "25eda421",
   "metadata": {
    "execution": {
     "iopub.execute_input": "2024-06-13T16:41:09.208605Z",
     "iopub.status.busy": "2024-06-13T16:41:09.206799Z",
     "iopub.status.idle": "2024-06-13T16:41:09.222894Z",
     "shell.execute_reply": "2024-06-13T16:41:09.221336Z"
    },
    "papermill": {
     "duration": 0.052715,
     "end_time": "2024-06-13T16:41:09.225394",
     "exception": false,
     "start_time": "2024-06-13T16:41:09.172679",
     "status": "completed"
    },
    "tags": []
   },
   "outputs": [
    {
     "name": "stdout",
     "output_type": "stream",
     "text": [
      "Reporte de clasificación:\n",
      "              precision    recall  f1-score   support\n",
      "\n",
      "         0.0       0.80      0.79      0.79       110\n",
      "         1.0       0.67      0.68      0.68        69\n",
      "\n",
      "    accuracy                           0.75       179\n",
      "   macro avg       0.73      0.74      0.74       179\n",
      "weighted avg       0.75      0.75      0.75       179\n",
      "\n"
     ]
    }
   ],
   "source": [
    "# Mostrar el reporte de clasificación\n",
    "print('Reporte de clasificación:')\n",
    "print(classification_report(y_test, y_pred2))"
   ]
  },
  {
   "cell_type": "code",
   "execution_count": 58,
   "id": "10e10a44",
   "metadata": {
    "execution": {
     "iopub.execute_input": "2024-06-13T16:41:09.288868Z",
     "iopub.status.busy": "2024-06-13T16:41:09.287902Z",
     "iopub.status.idle": "2024-06-13T16:41:09.303563Z",
     "shell.execute_reply": "2024-06-13T16:41:09.302554Z"
    },
    "papermill": {
     "duration": 0.050492,
     "end_time": "2024-06-13T16:41:09.306025",
     "exception": false,
     "start_time": "2024-06-13T16:41:09.255533",
     "status": "completed"
    },
    "tags": []
   },
   "outputs": [
    {
     "name": "stdout",
     "output_type": "stream",
     "text": [
      "Accuracy en el conjunto de prueba: 0.7486033519553073\n",
      "Precisión: 0.6714285714285714\n",
      "Sensibilidad: 0.6811594202898551\n",
      "Puntaje F1: 0.6762589928057554\n"
     ]
    }
   ],
   "source": [
    "accuracy2 = accuracy_score(y_test, y_pred2)\n",
    "precision2 = precision_score(y_test, y_pred2)\n",
    "recall2 = recall_score(y_test, y_pred2)\n",
    "f12 = f1_score(y_test, y_pred2)\n",
    "\n",
    "print(\"Accuracy en el conjunto de prueba:\", accuracy2)\n",
    "print(\"Precisión:\", precision2)\n",
    "print(\"Sensibilidad:\", recall2)\n",
    "print(\"Puntaje F1:\", f12)"
   ]
  },
  {
   "cell_type": "markdown",
   "id": "a24a9351",
   "metadata": {
    "papermill": {
     "duration": 0.030595,
     "end_time": "2024-06-13T16:41:09.366772",
     "exception": false,
     "start_time": "2024-06-13T16:41:09.336177",
     "status": "completed"
    },
    "tags": []
   },
   "source": [
    "# Modelo 3"
   ]
  },
  {
   "cell_type": "code",
   "execution_count": 59,
   "id": "5d07d483",
   "metadata": {
    "execution": {
     "iopub.execute_input": "2024-06-13T16:41:09.429748Z",
     "iopub.status.busy": "2024-06-13T16:41:09.429294Z",
     "iopub.status.idle": "2024-06-13T16:41:09.434594Z",
     "shell.execute_reply": "2024-06-13T16:41:09.433505Z"
    },
    "papermill": {
     "duration": 0.040283,
     "end_time": "2024-06-13T16:41:09.437511",
     "exception": false,
     "start_time": "2024-06-13T16:41:09.397228",
     "status": "completed"
    },
    "tags": []
   },
   "outputs": [],
   "source": [
    "from sklearn.ensemble import AdaBoostClassifier\n",
    "from sklearn.tree import DecisionTreeClassifier"
   ]
  },
  {
   "cell_type": "code",
   "execution_count": 60,
   "id": "f789de84",
   "metadata": {
    "execution": {
     "iopub.execute_input": "2024-06-13T16:41:09.501293Z",
     "iopub.status.busy": "2024-06-13T16:41:09.500867Z",
     "iopub.status.idle": "2024-06-13T16:41:09.506737Z",
     "shell.execute_reply": "2024-06-13T16:41:09.505535Z"
    },
    "papermill": {
     "duration": 0.040578,
     "end_time": "2024-06-13T16:41:09.509188",
     "exception": false,
     "start_time": "2024-06-13T16:41:09.468610",
     "status": "completed"
    },
    "tags": []
   },
   "outputs": [],
   "source": [
    "param_grid3 = {\n",
    "    'n_estimators': [50, 100, 200],\n",
    "    'learning_rate': [0.01, 0.1, 1, 10],\n",
    "    'base_estimator__max_depth': [1, 2, 3, 4, 5]\n",
    "}"
   ]
  },
  {
   "cell_type": "code",
   "execution_count": 61,
   "id": "b883a5d1",
   "metadata": {
    "_kg_hide-output": false,
    "execution": {
     "iopub.execute_input": "2024-06-13T16:41:09.571843Z",
     "iopub.status.busy": "2024-06-13T16:41:09.571417Z",
     "iopub.status.idle": "2024-06-13T16:41:42.894130Z",
     "shell.execute_reply": "2024-06-13T16:41:42.892707Z"
    },
    "papermill": {
     "duration": 33.357115,
     "end_time": "2024-06-13T16:41:42.896919",
     "exception": false,
     "start_time": "2024-06-13T16:41:09.539804",
     "status": "completed"
    },
    "tags": []
   },
   "outputs": [
    {
     "name": "stdout",
     "output_type": "stream",
     "text": [
      "Fitting 5 folds for each of 60 candidates, totalling 300 fits\n"
     ]
    },
    {
     "name": "stderr",
     "output_type": "stream",
     "text": [
      "/opt/conda/lib/python3.10/site-packages/sklearn/model_selection/_validation.py:674: FutureWarning: Parameter 'base_estimator' of AdaBoostClassifier is deprecated in favor of 'estimator'. See AdaBoostClassifier's docstring for more details.\n",
      "  estimator = estimator.set_params(**cloned_parameters)\n",
      "/opt/conda/lib/python3.10/site-packages/sklearn/model_selection/_validation.py:674: FutureWarning: Parameter 'base_estimator' of AdaBoostClassifier is deprecated in favor of 'estimator'. See AdaBoostClassifier's docstring for more details.\n",
      "  estimator = estimator.set_params(**cloned_parameters)\n",
      "/opt/conda/lib/python3.10/site-packages/sklearn/model_selection/_validation.py:674: FutureWarning: Parameter 'base_estimator' of AdaBoostClassifier is deprecated in favor of 'estimator'. See AdaBoostClassifier's docstring for more details.\n",
      "  estimator = estimator.set_params(**cloned_parameters)\n",
      "/opt/conda/lib/python3.10/site-packages/sklearn/model_selection/_validation.py:674: FutureWarning: Parameter 'base_estimator' of AdaBoostClassifier is deprecated in favor of 'estimator'. See AdaBoostClassifier's docstring for more details.\n",
      "  estimator = estimator.set_params(**cloned_parameters)\n",
      "/opt/conda/lib/python3.10/site-packages/sklearn/model_selection/_validation.py:674: FutureWarning: Parameter 'base_estimator' of AdaBoostClassifier is deprecated in favor of 'estimator'. See AdaBoostClassifier's docstring for more details.\n",
      "  estimator = estimator.set_params(**cloned_parameters)\n",
      "/opt/conda/lib/python3.10/site-packages/sklearn/model_selection/_validation.py:674: FutureWarning: Parameter 'base_estimator' of AdaBoostClassifier is deprecated in favor of 'estimator'. See AdaBoostClassifier's docstring for more details.\n",
      "  estimator = estimator.set_params(**cloned_parameters)\n",
      "/opt/conda/lib/python3.10/site-packages/sklearn/model_selection/_validation.py:674: FutureWarning: Parameter 'base_estimator' of AdaBoostClassifier is deprecated in favor of 'estimator'. See AdaBoostClassifier's docstring for more details.\n",
      "  estimator = estimator.set_params(**cloned_parameters)\n",
      "/opt/conda/lib/python3.10/site-packages/sklearn/model_selection/_validation.py:674: FutureWarning: Parameter 'base_estimator' of AdaBoostClassifier is deprecated in favor of 'estimator'. See AdaBoostClassifier's docstring for more details.\n",
      "  estimator = estimator.set_params(**cloned_parameters)\n",
      "/opt/conda/lib/python3.10/site-packages/sklearn/model_selection/_validation.py:674: FutureWarning: Parameter 'base_estimator' of AdaBoostClassifier is deprecated in favor of 'estimator'. See AdaBoostClassifier's docstring for more details.\n",
      "  estimator = estimator.set_params(**cloned_parameters)\n",
      "/opt/conda/lib/python3.10/site-packages/sklearn/model_selection/_validation.py:674: FutureWarning: Parameter 'base_estimator' of AdaBoostClassifier is deprecated in favor of 'estimator'. See AdaBoostClassifier's docstring for more details.\n",
      "  estimator = estimator.set_params(**cloned_parameters)\n",
      "/opt/conda/lib/python3.10/site-packages/sklearn/model_selection/_validation.py:674: FutureWarning: Parameter 'base_estimator' of AdaBoostClassifier is deprecated in favor of 'estimator'. See AdaBoostClassifier's docstring for more details.\n",
      "  estimator = estimator.set_params(**cloned_parameters)\n",
      "/opt/conda/lib/python3.10/site-packages/sklearn/model_selection/_validation.py:674: FutureWarning: Parameter 'base_estimator' of AdaBoostClassifier is deprecated in favor of 'estimator'. See AdaBoostClassifier's docstring for more details.\n",
      "  estimator = estimator.set_params(**cloned_parameters)\n",
      "/opt/conda/lib/python3.10/site-packages/sklearn/model_selection/_validation.py:674: FutureWarning: Parameter 'base_estimator' of AdaBoostClassifier is deprecated in favor of 'estimator'. See AdaBoostClassifier's docstring for more details.\n",
      "  estimator = estimator.set_params(**cloned_parameters)\n",
      "/opt/conda/lib/python3.10/site-packages/sklearn/model_selection/_validation.py:674: FutureWarning: Parameter 'base_estimator' of AdaBoostClassifier is deprecated in favor of 'estimator'. See AdaBoostClassifier's docstring for more details.\n",
      "  estimator = estimator.set_params(**cloned_parameters)\n",
      "/opt/conda/lib/python3.10/site-packages/sklearn/model_selection/_validation.py:674: FutureWarning: Parameter 'base_estimator' of AdaBoostClassifier is deprecated in favor of 'estimator'. See AdaBoostClassifier's docstring for more details.\n",
      "  estimator = estimator.set_params(**cloned_parameters)\n",
      "/opt/conda/lib/python3.10/site-packages/sklearn/model_selection/_validation.py:674: FutureWarning: Parameter 'base_estimator' of AdaBoostClassifier is deprecated in favor of 'estimator'. See AdaBoostClassifier's docstring for more details.\n",
      "  estimator = estimator.set_params(**cloned_parameters)\n",
      "/opt/conda/lib/python3.10/site-packages/sklearn/model_selection/_validation.py:674: FutureWarning: Parameter 'base_estimator' of AdaBoostClassifier is deprecated in favor of 'estimator'. See AdaBoostClassifier's docstring for more details.\n",
      "  estimator = estimator.set_params(**cloned_parameters)\n",
      "/opt/conda/lib/python3.10/site-packages/sklearn/model_selection/_validation.py:674: FutureWarning: Parameter 'base_estimator' of AdaBoostClassifier is deprecated in favor of 'estimator'. See AdaBoostClassifier's docstring for more details.\n",
      "  estimator = estimator.set_params(**cloned_parameters)\n",
      "/opt/conda/lib/python3.10/site-packages/sklearn/model_selection/_validation.py:674: FutureWarning: Parameter 'base_estimator' of AdaBoostClassifier is deprecated in favor of 'estimator'. See AdaBoostClassifier's docstring for more details.\n",
      "  estimator = estimator.set_params(**cloned_parameters)\n",
      "/opt/conda/lib/python3.10/site-packages/sklearn/model_selection/_validation.py:674: FutureWarning: Parameter 'base_estimator' of AdaBoostClassifier is deprecated in favor of 'estimator'. See AdaBoostClassifier's docstring for more details.\n",
      "  estimator = estimator.set_params(**cloned_parameters)\n",
      "/opt/conda/lib/python3.10/site-packages/sklearn/model_selection/_validation.py:674: FutureWarning: Parameter 'base_estimator' of AdaBoostClassifier is deprecated in favor of 'estimator'. See AdaBoostClassifier's docstring for more details.\n",
      "  estimator = estimator.set_params(**cloned_parameters)\n",
      "/opt/conda/lib/python3.10/site-packages/sklearn/model_selection/_validation.py:674: FutureWarning: Parameter 'base_estimator' of AdaBoostClassifier is deprecated in favor of 'estimator'. See AdaBoostClassifier's docstring for more details.\n",
      "  estimator = estimator.set_params(**cloned_parameters)\n",
      "/opt/conda/lib/python3.10/site-packages/sklearn/model_selection/_validation.py:674: FutureWarning: Parameter 'base_estimator' of AdaBoostClassifier is deprecated in favor of 'estimator'. See AdaBoostClassifier's docstring for more details.\n",
      "  estimator = estimator.set_params(**cloned_parameters)\n",
      "/opt/conda/lib/python3.10/site-packages/sklearn/model_selection/_validation.py:674: FutureWarning: Parameter 'base_estimator' of AdaBoostClassifier is deprecated in favor of 'estimator'. See AdaBoostClassifier's docstring for more details.\n",
      "  estimator = estimator.set_params(**cloned_parameters)\n",
      "/opt/conda/lib/python3.10/site-packages/sklearn/model_selection/_validation.py:674: FutureWarning: Parameter 'base_estimator' of AdaBoostClassifier is deprecated in favor of 'estimator'. See AdaBoostClassifier's docstring for more details.\n",
      "  estimator = estimator.set_params(**cloned_parameters)\n",
      "/opt/conda/lib/python3.10/site-packages/sklearn/model_selection/_validation.py:674: FutureWarning: Parameter 'base_estimator' of AdaBoostClassifier is deprecated in favor of 'estimator'. See AdaBoostClassifier's docstring for more details.\n",
      "  estimator = estimator.set_params(**cloned_parameters)\n",
      "/opt/conda/lib/python3.10/site-packages/sklearn/model_selection/_validation.py:674: FutureWarning: Parameter 'base_estimator' of AdaBoostClassifier is deprecated in favor of 'estimator'. See AdaBoostClassifier's docstring for more details.\n",
      "  estimator = estimator.set_params(**cloned_parameters)\n",
      "/opt/conda/lib/python3.10/site-packages/sklearn/model_selection/_validation.py:674: FutureWarning: Parameter 'base_estimator' of AdaBoostClassifier is deprecated in favor of 'estimator'. See AdaBoostClassifier's docstring for more details.\n",
      "  estimator = estimator.set_params(**cloned_parameters)\n",
      "/opt/conda/lib/python3.10/site-packages/sklearn/model_selection/_validation.py:674: FutureWarning: Parameter 'base_estimator' of AdaBoostClassifier is deprecated in favor of 'estimator'. See AdaBoostClassifier's docstring for more details.\n",
      "  estimator = estimator.set_params(**cloned_parameters)\n",
      "/opt/conda/lib/python3.10/site-packages/sklearn/model_selection/_validation.py:674: FutureWarning: Parameter 'base_estimator' of AdaBoostClassifier is deprecated in favor of 'estimator'. See AdaBoostClassifier's docstring for more details.\n",
      "  estimator = estimator.set_params(**cloned_parameters)\n",
      "/opt/conda/lib/python3.10/site-packages/sklearn/model_selection/_validation.py:674: FutureWarning: Parameter 'base_estimator' of AdaBoostClassifier is deprecated in favor of 'estimator'. See AdaBoostClassifier's docstring for more details.\n",
      "  estimator = estimator.set_params(**cloned_parameters)\n",
      "/opt/conda/lib/python3.10/site-packages/sklearn/model_selection/_validation.py:674: FutureWarning: Parameter 'base_estimator' of AdaBoostClassifier is deprecated in favor of 'estimator'. See AdaBoostClassifier's docstring for more details.\n",
      "  estimator = estimator.set_params(**cloned_parameters)\n",
      "/opt/conda/lib/python3.10/site-packages/sklearn/model_selection/_validation.py:674: FutureWarning: Parameter 'base_estimator' of AdaBoostClassifier is deprecated in favor of 'estimator'. See AdaBoostClassifier's docstring for more details.\n",
      "  estimator = estimator.set_params(**cloned_parameters)\n",
      "/opt/conda/lib/python3.10/site-packages/sklearn/model_selection/_validation.py:674: FutureWarning: Parameter 'base_estimator' of AdaBoostClassifier is deprecated in favor of 'estimator'. See AdaBoostClassifier's docstring for more details.\n",
      "  estimator = estimator.set_params(**cloned_parameters)\n",
      "/opt/conda/lib/python3.10/site-packages/sklearn/model_selection/_validation.py:674: FutureWarning: Parameter 'base_estimator' of AdaBoostClassifier is deprecated in favor of 'estimator'. See AdaBoostClassifier's docstring for more details.\n",
      "  estimator = estimator.set_params(**cloned_parameters)\n",
      "/opt/conda/lib/python3.10/site-packages/sklearn/model_selection/_validation.py:674: FutureWarning: Parameter 'base_estimator' of AdaBoostClassifier is deprecated in favor of 'estimator'. See AdaBoostClassifier's docstring for more details.\n",
      "  estimator = estimator.set_params(**cloned_parameters)\n",
      "/opt/conda/lib/python3.10/site-packages/sklearn/model_selection/_validation.py:674: FutureWarning: Parameter 'base_estimator' of AdaBoostClassifier is deprecated in favor of 'estimator'. See AdaBoostClassifier's docstring for more details.\n",
      "  estimator = estimator.set_params(**cloned_parameters)\n",
      "/opt/conda/lib/python3.10/site-packages/sklearn/model_selection/_validation.py:674: FutureWarning: Parameter 'base_estimator' of AdaBoostClassifier is deprecated in favor of 'estimator'. See AdaBoostClassifier's docstring for more details.\n",
      "  estimator = estimator.set_params(**cloned_parameters)\n",
      "/opt/conda/lib/python3.10/site-packages/sklearn/model_selection/_validation.py:674: FutureWarning: Parameter 'base_estimator' of AdaBoostClassifier is deprecated in favor of 'estimator'. See AdaBoostClassifier's docstring for more details.\n",
      "  estimator = estimator.set_params(**cloned_parameters)\n",
      "/opt/conda/lib/python3.10/site-packages/sklearn/model_selection/_validation.py:674: FutureWarning: Parameter 'base_estimator' of AdaBoostClassifier is deprecated in favor of 'estimator'. See AdaBoostClassifier's docstring for more details.\n",
      "  estimator = estimator.set_params(**cloned_parameters)\n",
      "/opt/conda/lib/python3.10/site-packages/sklearn/model_selection/_validation.py:674: FutureWarning: Parameter 'base_estimator' of AdaBoostClassifier is deprecated in favor of 'estimator'. See AdaBoostClassifier's docstring for more details.\n",
      "  estimator = estimator.set_params(**cloned_parameters)\n",
      "/opt/conda/lib/python3.10/site-packages/sklearn/model_selection/_validation.py:674: FutureWarning: Parameter 'base_estimator' of AdaBoostClassifier is deprecated in favor of 'estimator'. See AdaBoostClassifier's docstring for more details.\n",
      "  estimator = estimator.set_params(**cloned_parameters)\n",
      "/opt/conda/lib/python3.10/site-packages/sklearn/model_selection/_validation.py:674: FutureWarning: Parameter 'base_estimator' of AdaBoostClassifier is deprecated in favor of 'estimator'. See AdaBoostClassifier's docstring for more details.\n",
      "  estimator = estimator.set_params(**cloned_parameters)\n",
      "/opt/conda/lib/python3.10/site-packages/sklearn/model_selection/_validation.py:674: FutureWarning: Parameter 'base_estimator' of AdaBoostClassifier is deprecated in favor of 'estimator'. See AdaBoostClassifier's docstring for more details.\n",
      "  estimator = estimator.set_params(**cloned_parameters)\n",
      "/opt/conda/lib/python3.10/site-packages/sklearn/model_selection/_validation.py:674: FutureWarning: Parameter 'base_estimator' of AdaBoostClassifier is deprecated in favor of 'estimator'. See AdaBoostClassifier's docstring for more details.\n",
      "  estimator = estimator.set_params(**cloned_parameters)\n",
      "/opt/conda/lib/python3.10/site-packages/sklearn/model_selection/_validation.py:674: FutureWarning: Parameter 'base_estimator' of AdaBoostClassifier is deprecated in favor of 'estimator'. See AdaBoostClassifier's docstring for more details.\n",
      "  estimator = estimator.set_params(**cloned_parameters)\n",
      "/opt/conda/lib/python3.10/site-packages/sklearn/model_selection/_validation.py:674: FutureWarning: Parameter 'base_estimator' of AdaBoostClassifier is deprecated in favor of 'estimator'. See AdaBoostClassifier's docstring for more details.\n",
      "  estimator = estimator.set_params(**cloned_parameters)\n",
      "/opt/conda/lib/python3.10/site-packages/sklearn/model_selection/_validation.py:674: FutureWarning: Parameter 'base_estimator' of AdaBoostClassifier is deprecated in favor of 'estimator'. See AdaBoostClassifier's docstring for more details.\n",
      "  estimator = estimator.set_params(**cloned_parameters)\n",
      "/opt/conda/lib/python3.10/site-packages/sklearn/model_selection/_validation.py:674: FutureWarning: Parameter 'base_estimator' of AdaBoostClassifier is deprecated in favor of 'estimator'. See AdaBoostClassifier's docstring for more details.\n",
      "  estimator = estimator.set_params(**cloned_parameters)\n",
      "/opt/conda/lib/python3.10/site-packages/sklearn/model_selection/_validation.py:674: FutureWarning: Parameter 'base_estimator' of AdaBoostClassifier is deprecated in favor of 'estimator'. See AdaBoostClassifier's docstring for more details.\n",
      "  estimator = estimator.set_params(**cloned_parameters)\n",
      "/opt/conda/lib/python3.10/site-packages/sklearn/model_selection/_validation.py:674: FutureWarning: Parameter 'base_estimator' of AdaBoostClassifier is deprecated in favor of 'estimator'. See AdaBoostClassifier's docstring for more details.\n",
      "  estimator = estimator.set_params(**cloned_parameters)\n",
      "/opt/conda/lib/python3.10/site-packages/sklearn/model_selection/_validation.py:674: FutureWarning: Parameter 'base_estimator' of AdaBoostClassifier is deprecated in favor of 'estimator'. See AdaBoostClassifier's docstring for more details.\n",
      "  estimator = estimator.set_params(**cloned_parameters)\n",
      "/opt/conda/lib/python3.10/site-packages/sklearn/model_selection/_validation.py:674: FutureWarning: Parameter 'base_estimator' of AdaBoostClassifier is deprecated in favor of 'estimator'. See AdaBoostClassifier's docstring for more details.\n",
      "  estimator = estimator.set_params(**cloned_parameters)\n",
      "/opt/conda/lib/python3.10/site-packages/sklearn/model_selection/_validation.py:674: FutureWarning: Parameter 'base_estimator' of AdaBoostClassifier is deprecated in favor of 'estimator'. See AdaBoostClassifier's docstring for more details.\n",
      "  estimator = estimator.set_params(**cloned_parameters)\n",
      "/opt/conda/lib/python3.10/site-packages/sklearn/model_selection/_validation.py:674: FutureWarning: Parameter 'base_estimator' of AdaBoostClassifier is deprecated in favor of 'estimator'. See AdaBoostClassifier's docstring for more details.\n",
      "  estimator = estimator.set_params(**cloned_parameters)\n",
      "/opt/conda/lib/python3.10/site-packages/sklearn/model_selection/_validation.py:674: FutureWarning: Parameter 'base_estimator' of AdaBoostClassifier is deprecated in favor of 'estimator'. See AdaBoostClassifier's docstring for more details.\n",
      "  estimator = estimator.set_params(**cloned_parameters)\n",
      "/opt/conda/lib/python3.10/site-packages/sklearn/model_selection/_validation.py:674: FutureWarning: Parameter 'base_estimator' of AdaBoostClassifier is deprecated in favor of 'estimator'. See AdaBoostClassifier's docstring for more details.\n",
      "  estimator = estimator.set_params(**cloned_parameters)\n",
      "/opt/conda/lib/python3.10/site-packages/sklearn/model_selection/_validation.py:674: FutureWarning: Parameter 'base_estimator' of AdaBoostClassifier is deprecated in favor of 'estimator'. See AdaBoostClassifier's docstring for more details.\n",
      "  estimator = estimator.set_params(**cloned_parameters)\n",
      "/opt/conda/lib/python3.10/site-packages/sklearn/model_selection/_validation.py:674: FutureWarning: Parameter 'base_estimator' of AdaBoostClassifier is deprecated in favor of 'estimator'. See AdaBoostClassifier's docstring for more details.\n",
      "  estimator = estimator.set_params(**cloned_parameters)\n",
      "/opt/conda/lib/python3.10/site-packages/sklearn/model_selection/_validation.py:674: FutureWarning: Parameter 'base_estimator' of AdaBoostClassifier is deprecated in favor of 'estimator'. See AdaBoostClassifier's docstring for more details.\n",
      "  estimator = estimator.set_params(**cloned_parameters)\n",
      "/opt/conda/lib/python3.10/site-packages/sklearn/model_selection/_validation.py:674: FutureWarning: Parameter 'base_estimator' of AdaBoostClassifier is deprecated in favor of 'estimator'. See AdaBoostClassifier's docstring for more details.\n",
      "  estimator = estimator.set_params(**cloned_parameters)\n",
      "/opt/conda/lib/python3.10/site-packages/sklearn/model_selection/_validation.py:674: FutureWarning: Parameter 'base_estimator' of AdaBoostClassifier is deprecated in favor of 'estimator'. See AdaBoostClassifier's docstring for more details.\n",
      "  estimator = estimator.set_params(**cloned_parameters)\n",
      "/opt/conda/lib/python3.10/site-packages/sklearn/model_selection/_validation.py:674: FutureWarning: Parameter 'base_estimator' of AdaBoostClassifier is deprecated in favor of 'estimator'. See AdaBoostClassifier's docstring for more details.\n",
      "  estimator = estimator.set_params(**cloned_parameters)\n",
      "/opt/conda/lib/python3.10/site-packages/sklearn/model_selection/_validation.py:674: FutureWarning: Parameter 'base_estimator' of AdaBoostClassifier is deprecated in favor of 'estimator'. See AdaBoostClassifier's docstring for more details.\n",
      "  estimator = estimator.set_params(**cloned_parameters)\n",
      "/opt/conda/lib/python3.10/site-packages/sklearn/model_selection/_validation.py:674: FutureWarning: Parameter 'base_estimator' of AdaBoostClassifier is deprecated in favor of 'estimator'. See AdaBoostClassifier's docstring for more details.\n",
      "  estimator = estimator.set_params(**cloned_parameters)\n",
      "/opt/conda/lib/python3.10/site-packages/sklearn/model_selection/_validation.py:674: FutureWarning: Parameter 'base_estimator' of AdaBoostClassifier is deprecated in favor of 'estimator'. See AdaBoostClassifier's docstring for more details.\n",
      "  estimator = estimator.set_params(**cloned_parameters)\n",
      "/opt/conda/lib/python3.10/site-packages/sklearn/model_selection/_validation.py:674: FutureWarning: Parameter 'base_estimator' of AdaBoostClassifier is deprecated in favor of 'estimator'. See AdaBoostClassifier's docstring for more details.\n",
      "  estimator = estimator.set_params(**cloned_parameters)\n",
      "/opt/conda/lib/python3.10/site-packages/sklearn/model_selection/_validation.py:674: FutureWarning: Parameter 'base_estimator' of AdaBoostClassifier is deprecated in favor of 'estimator'. See AdaBoostClassifier's docstring for more details.\n",
      "  estimator = estimator.set_params(**cloned_parameters)\n",
      "/opt/conda/lib/python3.10/site-packages/sklearn/model_selection/_validation.py:674: FutureWarning: Parameter 'base_estimator' of AdaBoostClassifier is deprecated in favor of 'estimator'. See AdaBoostClassifier's docstring for more details.\n",
      "  estimator = estimator.set_params(**cloned_parameters)\n",
      "/opt/conda/lib/python3.10/site-packages/sklearn/model_selection/_validation.py:674: FutureWarning: Parameter 'base_estimator' of AdaBoostClassifier is deprecated in favor of 'estimator'. See AdaBoostClassifier's docstring for more details.\n",
      "  estimator = estimator.set_params(**cloned_parameters)\n",
      "/opt/conda/lib/python3.10/site-packages/sklearn/model_selection/_validation.py:674: FutureWarning: Parameter 'base_estimator' of AdaBoostClassifier is deprecated in favor of 'estimator'. See AdaBoostClassifier's docstring for more details.\n",
      "  estimator = estimator.set_params(**cloned_parameters)\n",
      "/opt/conda/lib/python3.10/site-packages/sklearn/model_selection/_validation.py:674: FutureWarning: Parameter 'base_estimator' of AdaBoostClassifier is deprecated in favor of 'estimator'. See AdaBoostClassifier's docstring for more details.\n",
      "  estimator = estimator.set_params(**cloned_parameters)\n",
      "/opt/conda/lib/python3.10/site-packages/sklearn/model_selection/_validation.py:674: FutureWarning: Parameter 'base_estimator' of AdaBoostClassifier is deprecated in favor of 'estimator'. See AdaBoostClassifier's docstring for more details.\n",
      "  estimator = estimator.set_params(**cloned_parameters)\n",
      "/opt/conda/lib/python3.10/site-packages/sklearn/model_selection/_validation.py:674: FutureWarning: Parameter 'base_estimator' of AdaBoostClassifier is deprecated in favor of 'estimator'. See AdaBoostClassifier's docstring for more details.\n",
      "  estimator = estimator.set_params(**cloned_parameters)\n",
      "/opt/conda/lib/python3.10/site-packages/sklearn/model_selection/_validation.py:674: FutureWarning: Parameter 'base_estimator' of AdaBoostClassifier is deprecated in favor of 'estimator'. See AdaBoostClassifier's docstring for more details.\n",
      "  estimator = estimator.set_params(**cloned_parameters)\n",
      "/opt/conda/lib/python3.10/site-packages/sklearn/model_selection/_validation.py:674: FutureWarning: Parameter 'base_estimator' of AdaBoostClassifier is deprecated in favor of 'estimator'. See AdaBoostClassifier's docstring for more details.\n",
      "  estimator = estimator.set_params(**cloned_parameters)\n",
      "/opt/conda/lib/python3.10/site-packages/sklearn/model_selection/_validation.py:674: FutureWarning: Parameter 'base_estimator' of AdaBoostClassifier is deprecated in favor of 'estimator'. See AdaBoostClassifier's docstring for more details.\n",
      "  estimator = estimator.set_params(**cloned_parameters)\n",
      "/opt/conda/lib/python3.10/site-packages/sklearn/model_selection/_validation.py:674: FutureWarning: Parameter 'base_estimator' of AdaBoostClassifier is deprecated in favor of 'estimator'. See AdaBoostClassifier's docstring for more details.\n",
      "  estimator = estimator.set_params(**cloned_parameters)\n",
      "/opt/conda/lib/python3.10/site-packages/sklearn/model_selection/_validation.py:674: FutureWarning: Parameter 'base_estimator' of AdaBoostClassifier is deprecated in favor of 'estimator'. See AdaBoostClassifier's docstring for more details.\n",
      "  estimator = estimator.set_params(**cloned_parameters)\n",
      "/opt/conda/lib/python3.10/site-packages/sklearn/model_selection/_validation.py:674: FutureWarning: Parameter 'base_estimator' of AdaBoostClassifier is deprecated in favor of 'estimator'. See AdaBoostClassifier's docstring for more details.\n",
      "  estimator = estimator.set_params(**cloned_parameters)\n",
      "/opt/conda/lib/python3.10/site-packages/sklearn/model_selection/_validation.py:674: FutureWarning: Parameter 'base_estimator' of AdaBoostClassifier is deprecated in favor of 'estimator'. See AdaBoostClassifier's docstring for more details.\n",
      "  estimator = estimator.set_params(**cloned_parameters)\n",
      "/opt/conda/lib/python3.10/site-packages/sklearn/model_selection/_validation.py:674: FutureWarning: Parameter 'base_estimator' of AdaBoostClassifier is deprecated in favor of 'estimator'. See AdaBoostClassifier's docstring for more details.\n",
      "  estimator = estimator.set_params(**cloned_parameters)\n",
      "/opt/conda/lib/python3.10/site-packages/sklearn/model_selection/_validation.py:674: FutureWarning: Parameter 'base_estimator' of AdaBoostClassifier is deprecated in favor of 'estimator'. See AdaBoostClassifier's docstring for more details.\n",
      "  estimator = estimator.set_params(**cloned_parameters)\n",
      "/opt/conda/lib/python3.10/site-packages/sklearn/model_selection/_validation.py:674: FutureWarning: Parameter 'base_estimator' of AdaBoostClassifier is deprecated in favor of 'estimator'. See AdaBoostClassifier's docstring for more details.\n",
      "  estimator = estimator.set_params(**cloned_parameters)\n",
      "/opt/conda/lib/python3.10/site-packages/sklearn/model_selection/_validation.py:674: FutureWarning: Parameter 'base_estimator' of AdaBoostClassifier is deprecated in favor of 'estimator'. See AdaBoostClassifier's docstring for more details.\n",
      "  estimator = estimator.set_params(**cloned_parameters)\n",
      "/opt/conda/lib/python3.10/site-packages/sklearn/model_selection/_validation.py:674: FutureWarning: Parameter 'base_estimator' of AdaBoostClassifier is deprecated in favor of 'estimator'. See AdaBoostClassifier's docstring for more details.\n",
      "  estimator = estimator.set_params(**cloned_parameters)\n",
      "/opt/conda/lib/python3.10/site-packages/sklearn/model_selection/_validation.py:674: FutureWarning: Parameter 'base_estimator' of AdaBoostClassifier is deprecated in favor of 'estimator'. See AdaBoostClassifier's docstring for more details.\n",
      "  estimator = estimator.set_params(**cloned_parameters)\n",
      "/opt/conda/lib/python3.10/site-packages/sklearn/model_selection/_validation.py:674: FutureWarning: Parameter 'base_estimator' of AdaBoostClassifier is deprecated in favor of 'estimator'. See AdaBoostClassifier's docstring for more details.\n",
      "  estimator = estimator.set_params(**cloned_parameters)\n",
      "/opt/conda/lib/python3.10/site-packages/sklearn/model_selection/_validation.py:674: FutureWarning: Parameter 'base_estimator' of AdaBoostClassifier is deprecated in favor of 'estimator'. See AdaBoostClassifier's docstring for more details.\n",
      "  estimator = estimator.set_params(**cloned_parameters)\n",
      "/opt/conda/lib/python3.10/site-packages/sklearn/model_selection/_validation.py:674: FutureWarning: Parameter 'base_estimator' of AdaBoostClassifier is deprecated in favor of 'estimator'. See AdaBoostClassifier's docstring for more details.\n",
      "  estimator = estimator.set_params(**cloned_parameters)\n",
      "/opt/conda/lib/python3.10/site-packages/sklearn/model_selection/_validation.py:674: FutureWarning: Parameter 'base_estimator' of AdaBoostClassifier is deprecated in favor of 'estimator'. See AdaBoostClassifier's docstring for more details.\n",
      "  estimator = estimator.set_params(**cloned_parameters)\n",
      "/opt/conda/lib/python3.10/site-packages/sklearn/model_selection/_validation.py:674: FutureWarning: Parameter 'base_estimator' of AdaBoostClassifier is deprecated in favor of 'estimator'. See AdaBoostClassifier's docstring for more details.\n",
      "  estimator = estimator.set_params(**cloned_parameters)\n",
      "/opt/conda/lib/python3.10/site-packages/sklearn/model_selection/_validation.py:674: FutureWarning: Parameter 'base_estimator' of AdaBoostClassifier is deprecated in favor of 'estimator'. See AdaBoostClassifier's docstring for more details.\n",
      "  estimator = estimator.set_params(**cloned_parameters)\n",
      "/opt/conda/lib/python3.10/site-packages/sklearn/model_selection/_validation.py:674: FutureWarning: Parameter 'base_estimator' of AdaBoostClassifier is deprecated in favor of 'estimator'. See AdaBoostClassifier's docstring for more details.\n",
      "  estimator = estimator.set_params(**cloned_parameters)\n",
      "/opt/conda/lib/python3.10/site-packages/sklearn/model_selection/_validation.py:674: FutureWarning: Parameter 'base_estimator' of AdaBoostClassifier is deprecated in favor of 'estimator'. See AdaBoostClassifier's docstring for more details.\n",
      "  estimator = estimator.set_params(**cloned_parameters)\n",
      "/opt/conda/lib/python3.10/site-packages/sklearn/model_selection/_validation.py:674: FutureWarning: Parameter 'base_estimator' of AdaBoostClassifier is deprecated in favor of 'estimator'. See AdaBoostClassifier's docstring for more details.\n",
      "  estimator = estimator.set_params(**cloned_parameters)\n",
      "/opt/conda/lib/python3.10/site-packages/sklearn/model_selection/_validation.py:674: FutureWarning: Parameter 'base_estimator' of AdaBoostClassifier is deprecated in favor of 'estimator'. See AdaBoostClassifier's docstring for more details.\n",
      "  estimator = estimator.set_params(**cloned_parameters)\n",
      "/opt/conda/lib/python3.10/site-packages/sklearn/model_selection/_validation.py:674: FutureWarning: Parameter 'base_estimator' of AdaBoostClassifier is deprecated in favor of 'estimator'. See AdaBoostClassifier's docstring for more details.\n",
      "  estimator = estimator.set_params(**cloned_parameters)\n",
      "/opt/conda/lib/python3.10/site-packages/sklearn/model_selection/_validation.py:674: FutureWarning: Parameter 'base_estimator' of AdaBoostClassifier is deprecated in favor of 'estimator'. See AdaBoostClassifier's docstring for more details.\n",
      "  estimator = estimator.set_params(**cloned_parameters)\n",
      "/opt/conda/lib/python3.10/site-packages/sklearn/model_selection/_validation.py:674: FutureWarning: Parameter 'base_estimator' of AdaBoostClassifier is deprecated in favor of 'estimator'. See AdaBoostClassifier's docstring for more details.\n",
      "  estimator = estimator.set_params(**cloned_parameters)\n",
      "/opt/conda/lib/python3.10/site-packages/sklearn/model_selection/_validation.py:674: FutureWarning: Parameter 'base_estimator' of AdaBoostClassifier is deprecated in favor of 'estimator'. See AdaBoostClassifier's docstring for more details.\n",
      "  estimator = estimator.set_params(**cloned_parameters)\n",
      "/opt/conda/lib/python3.10/site-packages/sklearn/model_selection/_validation.py:674: FutureWarning: Parameter 'base_estimator' of AdaBoostClassifier is deprecated in favor of 'estimator'. See AdaBoostClassifier's docstring for more details.\n",
      "  estimator = estimator.set_params(**cloned_parameters)\n",
      "/opt/conda/lib/python3.10/site-packages/sklearn/model_selection/_validation.py:674: FutureWarning: Parameter 'base_estimator' of AdaBoostClassifier is deprecated in favor of 'estimator'. See AdaBoostClassifier's docstring for more details.\n",
      "  estimator = estimator.set_params(**cloned_parameters)\n",
      "/opt/conda/lib/python3.10/site-packages/sklearn/model_selection/_validation.py:674: FutureWarning: Parameter 'base_estimator' of AdaBoostClassifier is deprecated in favor of 'estimator'. See AdaBoostClassifier's docstring for more details.\n",
      "  estimator = estimator.set_params(**cloned_parameters)\n",
      "/opt/conda/lib/python3.10/site-packages/sklearn/model_selection/_validation.py:674: FutureWarning: Parameter 'base_estimator' of AdaBoostClassifier is deprecated in favor of 'estimator'. See AdaBoostClassifier's docstring for more details.\n",
      "  estimator = estimator.set_params(**cloned_parameters)\n",
      "/opt/conda/lib/python3.10/site-packages/sklearn/model_selection/_validation.py:674: FutureWarning: Parameter 'base_estimator' of AdaBoostClassifier is deprecated in favor of 'estimator'. See AdaBoostClassifier's docstring for more details.\n",
      "  estimator = estimator.set_params(**cloned_parameters)\n",
      "/opt/conda/lib/python3.10/site-packages/sklearn/model_selection/_validation.py:674: FutureWarning: Parameter 'base_estimator' of AdaBoostClassifier is deprecated in favor of 'estimator'. See AdaBoostClassifier's docstring for more details.\n",
      "  estimator = estimator.set_params(**cloned_parameters)\n",
      "/opt/conda/lib/python3.10/site-packages/sklearn/model_selection/_validation.py:674: FutureWarning: Parameter 'base_estimator' of AdaBoostClassifier is deprecated in favor of 'estimator'. See AdaBoostClassifier's docstring for more details.\n",
      "  estimator = estimator.set_params(**cloned_parameters)\n",
      "/opt/conda/lib/python3.10/site-packages/sklearn/model_selection/_validation.py:674: FutureWarning: Parameter 'base_estimator' of AdaBoostClassifier is deprecated in favor of 'estimator'. See AdaBoostClassifier's docstring for more details.\n",
      "  estimator = estimator.set_params(**cloned_parameters)\n",
      "/opt/conda/lib/python3.10/site-packages/sklearn/model_selection/_validation.py:674: FutureWarning: Parameter 'base_estimator' of AdaBoostClassifier is deprecated in favor of 'estimator'. See AdaBoostClassifier's docstring for more details.\n",
      "  estimator = estimator.set_params(**cloned_parameters)\n",
      "/opt/conda/lib/python3.10/site-packages/sklearn/model_selection/_validation.py:674: FutureWarning: Parameter 'base_estimator' of AdaBoostClassifier is deprecated in favor of 'estimator'. See AdaBoostClassifier's docstring for more details.\n",
      "  estimator = estimator.set_params(**cloned_parameters)\n",
      "/opt/conda/lib/python3.10/site-packages/sklearn/model_selection/_validation.py:674: FutureWarning: Parameter 'base_estimator' of AdaBoostClassifier is deprecated in favor of 'estimator'. See AdaBoostClassifier's docstring for more details.\n",
      "  estimator = estimator.set_params(**cloned_parameters)\n",
      "/opt/conda/lib/python3.10/site-packages/sklearn/model_selection/_validation.py:674: FutureWarning: Parameter 'base_estimator' of AdaBoostClassifier is deprecated in favor of 'estimator'. See AdaBoostClassifier's docstring for more details.\n",
      "  estimator = estimator.set_params(**cloned_parameters)\n",
      "/opt/conda/lib/python3.10/site-packages/sklearn/model_selection/_validation.py:674: FutureWarning: Parameter 'base_estimator' of AdaBoostClassifier is deprecated in favor of 'estimator'. See AdaBoostClassifier's docstring for more details.\n",
      "  estimator = estimator.set_params(**cloned_parameters)\n",
      "/opt/conda/lib/python3.10/site-packages/sklearn/model_selection/_validation.py:674: FutureWarning: Parameter 'base_estimator' of AdaBoostClassifier is deprecated in favor of 'estimator'. See AdaBoostClassifier's docstring for more details.\n",
      "  estimator = estimator.set_params(**cloned_parameters)\n",
      "/opt/conda/lib/python3.10/site-packages/sklearn/model_selection/_validation.py:674: FutureWarning: Parameter 'base_estimator' of AdaBoostClassifier is deprecated in favor of 'estimator'. See AdaBoostClassifier's docstring for more details.\n",
      "  estimator = estimator.set_params(**cloned_parameters)\n",
      "/opt/conda/lib/python3.10/site-packages/sklearn/model_selection/_validation.py:674: FutureWarning: Parameter 'base_estimator' of AdaBoostClassifier is deprecated in favor of 'estimator'. See AdaBoostClassifier's docstring for more details.\n",
      "  estimator = estimator.set_params(**cloned_parameters)\n",
      "/opt/conda/lib/python3.10/site-packages/sklearn/model_selection/_validation.py:674: FutureWarning: Parameter 'base_estimator' of AdaBoostClassifier is deprecated in favor of 'estimator'. See AdaBoostClassifier's docstring for more details.\n",
      "  estimator = estimator.set_params(**cloned_parameters)\n",
      "/opt/conda/lib/python3.10/site-packages/sklearn/model_selection/_validation.py:674: FutureWarning: Parameter 'base_estimator' of AdaBoostClassifier is deprecated in favor of 'estimator'. See AdaBoostClassifier's docstring for more details.\n",
      "  estimator = estimator.set_params(**cloned_parameters)\n",
      "/opt/conda/lib/python3.10/site-packages/sklearn/model_selection/_validation.py:674: FutureWarning: Parameter 'base_estimator' of AdaBoostClassifier is deprecated in favor of 'estimator'. See AdaBoostClassifier's docstring for more details.\n",
      "  estimator = estimator.set_params(**cloned_parameters)\n",
      "/opt/conda/lib/python3.10/site-packages/sklearn/model_selection/_validation.py:674: FutureWarning: Parameter 'base_estimator' of AdaBoostClassifier is deprecated in favor of 'estimator'. See AdaBoostClassifier's docstring for more details.\n",
      "  estimator = estimator.set_params(**cloned_parameters)\n",
      "/opt/conda/lib/python3.10/site-packages/sklearn/model_selection/_validation.py:674: FutureWarning: Parameter 'base_estimator' of AdaBoostClassifier is deprecated in favor of 'estimator'. See AdaBoostClassifier's docstring for more details.\n",
      "  estimator = estimator.set_params(**cloned_parameters)\n",
      "/opt/conda/lib/python3.10/site-packages/sklearn/model_selection/_validation.py:674: FutureWarning: Parameter 'base_estimator' of AdaBoostClassifier is deprecated in favor of 'estimator'. See AdaBoostClassifier's docstring for more details.\n",
      "  estimator = estimator.set_params(**cloned_parameters)\n",
      "/opt/conda/lib/python3.10/site-packages/sklearn/model_selection/_validation.py:674: FutureWarning: Parameter 'base_estimator' of AdaBoostClassifier is deprecated in favor of 'estimator'. See AdaBoostClassifier's docstring for more details.\n",
      "  estimator = estimator.set_params(**cloned_parameters)\n",
      "/opt/conda/lib/python3.10/site-packages/sklearn/model_selection/_validation.py:674: FutureWarning: Parameter 'base_estimator' of AdaBoostClassifier is deprecated in favor of 'estimator'. See AdaBoostClassifier's docstring for more details.\n",
      "  estimator = estimator.set_params(**cloned_parameters)\n",
      "/opt/conda/lib/python3.10/site-packages/sklearn/model_selection/_validation.py:674: FutureWarning: Parameter 'base_estimator' of AdaBoostClassifier is deprecated in favor of 'estimator'. See AdaBoostClassifier's docstring for more details.\n",
      "  estimator = estimator.set_params(**cloned_parameters)\n",
      "/opt/conda/lib/python3.10/site-packages/sklearn/model_selection/_validation.py:674: FutureWarning: Parameter 'base_estimator' of AdaBoostClassifier is deprecated in favor of 'estimator'. See AdaBoostClassifier's docstring for more details.\n",
      "  estimator = estimator.set_params(**cloned_parameters)\n",
      "/opt/conda/lib/python3.10/site-packages/sklearn/model_selection/_validation.py:674: FutureWarning: Parameter 'base_estimator' of AdaBoostClassifier is deprecated in favor of 'estimator'. See AdaBoostClassifier's docstring for more details.\n",
      "  estimator = estimator.set_params(**cloned_parameters)\n",
      "/opt/conda/lib/python3.10/site-packages/sklearn/model_selection/_validation.py:674: FutureWarning: Parameter 'base_estimator' of AdaBoostClassifier is deprecated in favor of 'estimator'. See AdaBoostClassifier's docstring for more details.\n",
      "  estimator = estimator.set_params(**cloned_parameters)\n",
      "/opt/conda/lib/python3.10/site-packages/sklearn/model_selection/_validation.py:674: FutureWarning: Parameter 'base_estimator' of AdaBoostClassifier is deprecated in favor of 'estimator'. See AdaBoostClassifier's docstring for more details.\n",
      "  estimator = estimator.set_params(**cloned_parameters)\n",
      "/opt/conda/lib/python3.10/site-packages/sklearn/model_selection/_validation.py:674: FutureWarning: Parameter 'base_estimator' of AdaBoostClassifier is deprecated in favor of 'estimator'. See AdaBoostClassifier's docstring for more details.\n",
      "  estimator = estimator.set_params(**cloned_parameters)\n",
      "/opt/conda/lib/python3.10/site-packages/sklearn/model_selection/_validation.py:674: FutureWarning: Parameter 'base_estimator' of AdaBoostClassifier is deprecated in favor of 'estimator'. See AdaBoostClassifier's docstring for more details.\n",
      "  estimator = estimator.set_params(**cloned_parameters)\n",
      "/opt/conda/lib/python3.10/site-packages/sklearn/model_selection/_validation.py:674: FutureWarning: Parameter 'base_estimator' of AdaBoostClassifier is deprecated in favor of 'estimator'. See AdaBoostClassifier's docstring for more details.\n",
      "  estimator = estimator.set_params(**cloned_parameters)\n",
      "/opt/conda/lib/python3.10/site-packages/sklearn/model_selection/_validation.py:674: FutureWarning: Parameter 'base_estimator' of AdaBoostClassifier is deprecated in favor of 'estimator'. See AdaBoostClassifier's docstring for more details.\n",
      "  estimator = estimator.set_params(**cloned_parameters)\n",
      "/opt/conda/lib/python3.10/site-packages/sklearn/model_selection/_validation.py:674: FutureWarning: Parameter 'base_estimator' of AdaBoostClassifier is deprecated in favor of 'estimator'. See AdaBoostClassifier's docstring for more details.\n",
      "  estimator = estimator.set_params(**cloned_parameters)\n",
      "/opt/conda/lib/python3.10/site-packages/sklearn/model_selection/_validation.py:674: FutureWarning: Parameter 'base_estimator' of AdaBoostClassifier is deprecated in favor of 'estimator'. See AdaBoostClassifier's docstring for more details.\n",
      "  estimator = estimator.set_params(**cloned_parameters)\n",
      "/opt/conda/lib/python3.10/site-packages/sklearn/model_selection/_validation.py:674: FutureWarning: Parameter 'base_estimator' of AdaBoostClassifier is deprecated in favor of 'estimator'. See AdaBoostClassifier's docstring for more details.\n",
      "  estimator = estimator.set_params(**cloned_parameters)\n",
      "/opt/conda/lib/python3.10/site-packages/sklearn/model_selection/_validation.py:674: FutureWarning: Parameter 'base_estimator' of AdaBoostClassifier is deprecated in favor of 'estimator'. See AdaBoostClassifier's docstring for more details.\n",
      "  estimator = estimator.set_params(**cloned_parameters)\n",
      "/opt/conda/lib/python3.10/site-packages/sklearn/model_selection/_validation.py:674: FutureWarning: Parameter 'base_estimator' of AdaBoostClassifier is deprecated in favor of 'estimator'. See AdaBoostClassifier's docstring for more details.\n",
      "  estimator = estimator.set_params(**cloned_parameters)\n",
      "/opt/conda/lib/python3.10/site-packages/sklearn/model_selection/_validation.py:674: FutureWarning: Parameter 'base_estimator' of AdaBoostClassifier is deprecated in favor of 'estimator'. See AdaBoostClassifier's docstring for more details.\n",
      "  estimator = estimator.set_params(**cloned_parameters)\n",
      "/opt/conda/lib/python3.10/site-packages/sklearn/model_selection/_validation.py:674: FutureWarning: Parameter 'base_estimator' of AdaBoostClassifier is deprecated in favor of 'estimator'. See AdaBoostClassifier's docstring for more details.\n",
      "  estimator = estimator.set_params(**cloned_parameters)\n",
      "/opt/conda/lib/python3.10/site-packages/sklearn/model_selection/_validation.py:674: FutureWarning: Parameter 'base_estimator' of AdaBoostClassifier is deprecated in favor of 'estimator'. See AdaBoostClassifier's docstring for more details.\n",
      "  estimator = estimator.set_params(**cloned_parameters)\n",
      "/opt/conda/lib/python3.10/site-packages/sklearn/model_selection/_validation.py:674: FutureWarning: Parameter 'base_estimator' of AdaBoostClassifier is deprecated in favor of 'estimator'. See AdaBoostClassifier's docstring for more details.\n",
      "  estimator = estimator.set_params(**cloned_parameters)\n",
      "/opt/conda/lib/python3.10/site-packages/sklearn/model_selection/_validation.py:674: FutureWarning: Parameter 'base_estimator' of AdaBoostClassifier is deprecated in favor of 'estimator'. See AdaBoostClassifier's docstring for more details.\n",
      "  estimator = estimator.set_params(**cloned_parameters)\n",
      "/opt/conda/lib/python3.10/site-packages/sklearn/model_selection/_validation.py:674: FutureWarning: Parameter 'base_estimator' of AdaBoostClassifier is deprecated in favor of 'estimator'. See AdaBoostClassifier's docstring for more details.\n",
      "  estimator = estimator.set_params(**cloned_parameters)\n",
      "/opt/conda/lib/python3.10/site-packages/sklearn/model_selection/_validation.py:674: FutureWarning: Parameter 'base_estimator' of AdaBoostClassifier is deprecated in favor of 'estimator'. See AdaBoostClassifier's docstring for more details.\n",
      "  estimator = estimator.set_params(**cloned_parameters)\n",
      "/opt/conda/lib/python3.10/site-packages/sklearn/model_selection/_validation.py:674: FutureWarning: Parameter 'base_estimator' of AdaBoostClassifier is deprecated in favor of 'estimator'. See AdaBoostClassifier's docstring for more details.\n",
      "  estimator = estimator.set_params(**cloned_parameters)\n",
      "/opt/conda/lib/python3.10/site-packages/sklearn/model_selection/_validation.py:674: FutureWarning: Parameter 'base_estimator' of AdaBoostClassifier is deprecated in favor of 'estimator'. See AdaBoostClassifier's docstring for more details.\n",
      "  estimator = estimator.set_params(**cloned_parameters)\n",
      "/opt/conda/lib/python3.10/site-packages/sklearn/model_selection/_validation.py:674: FutureWarning: Parameter 'base_estimator' of AdaBoostClassifier is deprecated in favor of 'estimator'. See AdaBoostClassifier's docstring for more details.\n",
      "  estimator = estimator.set_params(**cloned_parameters)\n",
      "/opt/conda/lib/python3.10/site-packages/sklearn/model_selection/_validation.py:674: FutureWarning: Parameter 'base_estimator' of AdaBoostClassifier is deprecated in favor of 'estimator'. See AdaBoostClassifier's docstring for more details.\n",
      "  estimator = estimator.set_params(**cloned_parameters)\n",
      "/opt/conda/lib/python3.10/site-packages/sklearn/model_selection/_validation.py:674: FutureWarning: Parameter 'base_estimator' of AdaBoostClassifier is deprecated in favor of 'estimator'. See AdaBoostClassifier's docstring for more details.\n",
      "  estimator = estimator.set_params(**cloned_parameters)\n",
      "/opt/conda/lib/python3.10/site-packages/sklearn/model_selection/_validation.py:674: FutureWarning: Parameter 'base_estimator' of AdaBoostClassifier is deprecated in favor of 'estimator'. See AdaBoostClassifier's docstring for more details.\n",
      "  estimator = estimator.set_params(**cloned_parameters)\n",
      "/opt/conda/lib/python3.10/site-packages/sklearn/model_selection/_validation.py:674: FutureWarning: Parameter 'base_estimator' of AdaBoostClassifier is deprecated in favor of 'estimator'. See AdaBoostClassifier's docstring for more details.\n",
      "  estimator = estimator.set_params(**cloned_parameters)\n",
      "/opt/conda/lib/python3.10/site-packages/sklearn/model_selection/_validation.py:674: FutureWarning: Parameter 'base_estimator' of AdaBoostClassifier is deprecated in favor of 'estimator'. See AdaBoostClassifier's docstring for more details.\n",
      "  estimator = estimator.set_params(**cloned_parameters)\n",
      "/opt/conda/lib/python3.10/site-packages/sklearn/model_selection/_validation.py:674: FutureWarning: Parameter 'base_estimator' of AdaBoostClassifier is deprecated in favor of 'estimator'. See AdaBoostClassifier's docstring for more details.\n",
      "  estimator = estimator.set_params(**cloned_parameters)\n",
      "/opt/conda/lib/python3.10/site-packages/sklearn/model_selection/_validation.py:674: FutureWarning: Parameter 'base_estimator' of AdaBoostClassifier is deprecated in favor of 'estimator'. See AdaBoostClassifier's docstring for more details.\n",
      "  estimator = estimator.set_params(**cloned_parameters)\n",
      "/opt/conda/lib/python3.10/site-packages/sklearn/model_selection/_validation.py:674: FutureWarning: Parameter 'base_estimator' of AdaBoostClassifier is deprecated in favor of 'estimator'. See AdaBoostClassifier's docstring for more details.\n",
      "  estimator = estimator.set_params(**cloned_parameters)\n",
      "/opt/conda/lib/python3.10/site-packages/sklearn/model_selection/_validation.py:674: FutureWarning: Parameter 'base_estimator' of AdaBoostClassifier is deprecated in favor of 'estimator'. See AdaBoostClassifier's docstring for more details.\n",
      "  estimator = estimator.set_params(**cloned_parameters)\n",
      "/opt/conda/lib/python3.10/site-packages/sklearn/model_selection/_validation.py:674: FutureWarning: Parameter 'base_estimator' of AdaBoostClassifier is deprecated in favor of 'estimator'. See AdaBoostClassifier's docstring for more details.\n",
      "  estimator = estimator.set_params(**cloned_parameters)\n",
      "/opt/conda/lib/python3.10/site-packages/sklearn/model_selection/_validation.py:674: FutureWarning: Parameter 'base_estimator' of AdaBoostClassifier is deprecated in favor of 'estimator'. See AdaBoostClassifier's docstring for more details.\n",
      "  estimator = estimator.set_params(**cloned_parameters)\n",
      "/opt/conda/lib/python3.10/site-packages/sklearn/model_selection/_validation.py:674: FutureWarning: Parameter 'base_estimator' of AdaBoostClassifier is deprecated in favor of 'estimator'. See AdaBoostClassifier's docstring for more details.\n",
      "  estimator = estimator.set_params(**cloned_parameters)\n",
      "/opt/conda/lib/python3.10/site-packages/sklearn/model_selection/_validation.py:674: FutureWarning: Parameter 'base_estimator' of AdaBoostClassifier is deprecated in favor of 'estimator'. See AdaBoostClassifier's docstring for more details.\n",
      "  estimator = estimator.set_params(**cloned_parameters)\n",
      "/opt/conda/lib/python3.10/site-packages/sklearn/model_selection/_validation.py:674: FutureWarning: Parameter 'base_estimator' of AdaBoostClassifier is deprecated in favor of 'estimator'. See AdaBoostClassifier's docstring for more details.\n",
      "  estimator = estimator.set_params(**cloned_parameters)\n",
      "/opt/conda/lib/python3.10/site-packages/sklearn/model_selection/_validation.py:674: FutureWarning: Parameter 'base_estimator' of AdaBoostClassifier is deprecated in favor of 'estimator'. See AdaBoostClassifier's docstring for more details.\n",
      "  estimator = estimator.set_params(**cloned_parameters)\n",
      "/opt/conda/lib/python3.10/site-packages/sklearn/model_selection/_validation.py:674: FutureWarning: Parameter 'base_estimator' of AdaBoostClassifier is deprecated in favor of 'estimator'. See AdaBoostClassifier's docstring for more details.\n",
      "  estimator = estimator.set_params(**cloned_parameters)\n",
      "/opt/conda/lib/python3.10/site-packages/sklearn/model_selection/_validation.py:674: FutureWarning: Parameter 'base_estimator' of AdaBoostClassifier is deprecated in favor of 'estimator'. See AdaBoostClassifier's docstring for more details.\n",
      "  estimator = estimator.set_params(**cloned_parameters)\n",
      "/opt/conda/lib/python3.10/site-packages/sklearn/model_selection/_validation.py:674: FutureWarning: Parameter 'base_estimator' of AdaBoostClassifier is deprecated in favor of 'estimator'. See AdaBoostClassifier's docstring for more details.\n",
      "  estimator = estimator.set_params(**cloned_parameters)\n",
      "/opt/conda/lib/python3.10/site-packages/sklearn/model_selection/_validation.py:674: FutureWarning: Parameter 'base_estimator' of AdaBoostClassifier is deprecated in favor of 'estimator'. See AdaBoostClassifier's docstring for more details.\n",
      "  estimator = estimator.set_params(**cloned_parameters)\n",
      "/opt/conda/lib/python3.10/site-packages/sklearn/model_selection/_validation.py:674: FutureWarning: Parameter 'base_estimator' of AdaBoostClassifier is deprecated in favor of 'estimator'. See AdaBoostClassifier's docstring for more details.\n",
      "  estimator = estimator.set_params(**cloned_parameters)\n",
      "/opt/conda/lib/python3.10/site-packages/sklearn/model_selection/_validation.py:674: FutureWarning: Parameter 'base_estimator' of AdaBoostClassifier is deprecated in favor of 'estimator'. See AdaBoostClassifier's docstring for more details.\n",
      "  estimator = estimator.set_params(**cloned_parameters)\n",
      "/opt/conda/lib/python3.10/site-packages/sklearn/model_selection/_validation.py:674: FutureWarning: Parameter 'base_estimator' of AdaBoostClassifier is deprecated in favor of 'estimator'. See AdaBoostClassifier's docstring for more details.\n",
      "  estimator = estimator.set_params(**cloned_parameters)\n",
      "/opt/conda/lib/python3.10/site-packages/sklearn/model_selection/_validation.py:674: FutureWarning: Parameter 'base_estimator' of AdaBoostClassifier is deprecated in favor of 'estimator'. See AdaBoostClassifier's docstring for more details.\n",
      "  estimator = estimator.set_params(**cloned_parameters)\n",
      "/opt/conda/lib/python3.10/site-packages/sklearn/model_selection/_validation.py:674: FutureWarning: Parameter 'base_estimator' of AdaBoostClassifier is deprecated in favor of 'estimator'. See AdaBoostClassifier's docstring for more details.\n",
      "  estimator = estimator.set_params(**cloned_parameters)\n",
      "/opt/conda/lib/python3.10/site-packages/sklearn/model_selection/_validation.py:674: FutureWarning: Parameter 'base_estimator' of AdaBoostClassifier is deprecated in favor of 'estimator'. See AdaBoostClassifier's docstring for more details.\n",
      "  estimator = estimator.set_params(**cloned_parameters)\n",
      "/opt/conda/lib/python3.10/site-packages/sklearn/model_selection/_validation.py:674: FutureWarning: Parameter 'base_estimator' of AdaBoostClassifier is deprecated in favor of 'estimator'. See AdaBoostClassifier's docstring for more details.\n",
      "  estimator = estimator.set_params(**cloned_parameters)\n",
      "/opt/conda/lib/python3.10/site-packages/sklearn/model_selection/_validation.py:674: FutureWarning: Parameter 'base_estimator' of AdaBoostClassifier is deprecated in favor of 'estimator'. See AdaBoostClassifier's docstring for more details.\n",
      "  estimator = estimator.set_params(**cloned_parameters)\n",
      "/opt/conda/lib/python3.10/site-packages/sklearn/model_selection/_validation.py:674: FutureWarning: Parameter 'base_estimator' of AdaBoostClassifier is deprecated in favor of 'estimator'. See AdaBoostClassifier's docstring for more details.\n",
      "  estimator = estimator.set_params(**cloned_parameters)\n",
      "/opt/conda/lib/python3.10/site-packages/sklearn/model_selection/_validation.py:674: FutureWarning: Parameter 'base_estimator' of AdaBoostClassifier is deprecated in favor of 'estimator'. See AdaBoostClassifier's docstring for more details.\n",
      "  estimator = estimator.set_params(**cloned_parameters)\n",
      "/opt/conda/lib/python3.10/site-packages/sklearn/model_selection/_validation.py:674: FutureWarning: Parameter 'base_estimator' of AdaBoostClassifier is deprecated in favor of 'estimator'. See AdaBoostClassifier's docstring for more details.\n",
      "  estimator = estimator.set_params(**cloned_parameters)\n",
      "/opt/conda/lib/python3.10/site-packages/sklearn/model_selection/_validation.py:674: FutureWarning: Parameter 'base_estimator' of AdaBoostClassifier is deprecated in favor of 'estimator'. See AdaBoostClassifier's docstring for more details.\n",
      "  estimator = estimator.set_params(**cloned_parameters)\n",
      "/opt/conda/lib/python3.10/site-packages/sklearn/model_selection/_validation.py:674: FutureWarning: Parameter 'base_estimator' of AdaBoostClassifier is deprecated in favor of 'estimator'. See AdaBoostClassifier's docstring for more details.\n",
      "  estimator = estimator.set_params(**cloned_parameters)\n",
      "/opt/conda/lib/python3.10/site-packages/sklearn/model_selection/_validation.py:674: FutureWarning: Parameter 'base_estimator' of AdaBoostClassifier is deprecated in favor of 'estimator'. See AdaBoostClassifier's docstring for more details.\n",
      "  estimator = estimator.set_params(**cloned_parameters)\n",
      "/opt/conda/lib/python3.10/site-packages/sklearn/model_selection/_validation.py:674: FutureWarning: Parameter 'base_estimator' of AdaBoostClassifier is deprecated in favor of 'estimator'. See AdaBoostClassifier's docstring for more details.\n",
      "  estimator = estimator.set_params(**cloned_parameters)\n",
      "/opt/conda/lib/python3.10/site-packages/sklearn/model_selection/_validation.py:674: FutureWarning: Parameter 'base_estimator' of AdaBoostClassifier is deprecated in favor of 'estimator'. See AdaBoostClassifier's docstring for more details.\n",
      "  estimator = estimator.set_params(**cloned_parameters)\n",
      "/opt/conda/lib/python3.10/site-packages/sklearn/model_selection/_validation.py:674: FutureWarning: Parameter 'base_estimator' of AdaBoostClassifier is deprecated in favor of 'estimator'. See AdaBoostClassifier's docstring for more details.\n",
      "  estimator = estimator.set_params(**cloned_parameters)\n",
      "/opt/conda/lib/python3.10/site-packages/sklearn/model_selection/_validation.py:674: FutureWarning: Parameter 'base_estimator' of AdaBoostClassifier is deprecated in favor of 'estimator'. See AdaBoostClassifier's docstring for more details.\n",
      "  estimator = estimator.set_params(**cloned_parameters)\n",
      "/opt/conda/lib/python3.10/site-packages/sklearn/model_selection/_validation.py:674: FutureWarning: Parameter 'base_estimator' of AdaBoostClassifier is deprecated in favor of 'estimator'. See AdaBoostClassifier's docstring for more details.\n",
      "  estimator = estimator.set_params(**cloned_parameters)\n",
      "/opt/conda/lib/python3.10/site-packages/sklearn/model_selection/_validation.py:674: FutureWarning: Parameter 'base_estimator' of AdaBoostClassifier is deprecated in favor of 'estimator'. See AdaBoostClassifier's docstring for more details.\n",
      "  estimator = estimator.set_params(**cloned_parameters)\n",
      "/opt/conda/lib/python3.10/site-packages/sklearn/model_selection/_validation.py:674: FutureWarning: Parameter 'base_estimator' of AdaBoostClassifier is deprecated in favor of 'estimator'. See AdaBoostClassifier's docstring for more details.\n",
      "  estimator = estimator.set_params(**cloned_parameters)\n",
      "/opt/conda/lib/python3.10/site-packages/sklearn/model_selection/_validation.py:674: FutureWarning: Parameter 'base_estimator' of AdaBoostClassifier is deprecated in favor of 'estimator'. See AdaBoostClassifier's docstring for more details.\n",
      "  estimator = estimator.set_params(**cloned_parameters)\n",
      "/opt/conda/lib/python3.10/site-packages/sklearn/model_selection/_validation.py:674: FutureWarning: Parameter 'base_estimator' of AdaBoostClassifier is deprecated in favor of 'estimator'. See AdaBoostClassifier's docstring for more details.\n",
      "  estimator = estimator.set_params(**cloned_parameters)\n",
      "/opt/conda/lib/python3.10/site-packages/sklearn/model_selection/_validation.py:674: FutureWarning: Parameter 'base_estimator' of AdaBoostClassifier is deprecated in favor of 'estimator'. See AdaBoostClassifier's docstring for more details.\n",
      "  estimator = estimator.set_params(**cloned_parameters)\n",
      "/opt/conda/lib/python3.10/site-packages/sklearn/model_selection/_validation.py:674: FutureWarning: Parameter 'base_estimator' of AdaBoostClassifier is deprecated in favor of 'estimator'. See AdaBoostClassifier's docstring for more details.\n",
      "  estimator = estimator.set_params(**cloned_parameters)\n",
      "/opt/conda/lib/python3.10/site-packages/sklearn/model_selection/_validation.py:674: FutureWarning: Parameter 'base_estimator' of AdaBoostClassifier is deprecated in favor of 'estimator'. See AdaBoostClassifier's docstring for more details.\n",
      "  estimator = estimator.set_params(**cloned_parameters)\n",
      "/opt/conda/lib/python3.10/site-packages/sklearn/model_selection/_validation.py:674: FutureWarning: Parameter 'base_estimator' of AdaBoostClassifier is deprecated in favor of 'estimator'. See AdaBoostClassifier's docstring for more details.\n",
      "  estimator = estimator.set_params(**cloned_parameters)\n",
      "/opt/conda/lib/python3.10/site-packages/sklearn/model_selection/_validation.py:674: FutureWarning: Parameter 'base_estimator' of AdaBoostClassifier is deprecated in favor of 'estimator'. See AdaBoostClassifier's docstring for more details.\n",
      "  estimator = estimator.set_params(**cloned_parameters)\n",
      "/opt/conda/lib/python3.10/site-packages/sklearn/model_selection/_validation.py:674: FutureWarning: Parameter 'base_estimator' of AdaBoostClassifier is deprecated in favor of 'estimator'. See AdaBoostClassifier's docstring for more details.\n",
      "  estimator = estimator.set_params(**cloned_parameters)\n",
      "/opt/conda/lib/python3.10/site-packages/sklearn/model_selection/_validation.py:674: FutureWarning: Parameter 'base_estimator' of AdaBoostClassifier is deprecated in favor of 'estimator'. See AdaBoostClassifier's docstring for more details.\n",
      "  estimator = estimator.set_params(**cloned_parameters)\n",
      "/opt/conda/lib/python3.10/site-packages/sklearn/model_selection/_validation.py:674: FutureWarning: Parameter 'base_estimator' of AdaBoostClassifier is deprecated in favor of 'estimator'. See AdaBoostClassifier's docstring for more details.\n",
      "  estimator = estimator.set_params(**cloned_parameters)\n",
      "/opt/conda/lib/python3.10/site-packages/sklearn/model_selection/_validation.py:674: FutureWarning: Parameter 'base_estimator' of AdaBoostClassifier is deprecated in favor of 'estimator'. See AdaBoostClassifier's docstring for more details.\n",
      "  estimator = estimator.set_params(**cloned_parameters)\n",
      "/opt/conda/lib/python3.10/site-packages/sklearn/model_selection/_validation.py:674: FutureWarning: Parameter 'base_estimator' of AdaBoostClassifier is deprecated in favor of 'estimator'. See AdaBoostClassifier's docstring for more details.\n",
      "  estimator = estimator.set_params(**cloned_parameters)\n",
      "/opt/conda/lib/python3.10/site-packages/sklearn/model_selection/_validation.py:674: FutureWarning: Parameter 'base_estimator' of AdaBoostClassifier is deprecated in favor of 'estimator'. See AdaBoostClassifier's docstring for more details.\n",
      "  estimator = estimator.set_params(**cloned_parameters)\n",
      "/opt/conda/lib/python3.10/site-packages/sklearn/model_selection/_validation.py:674: FutureWarning: Parameter 'base_estimator' of AdaBoostClassifier is deprecated in favor of 'estimator'. See AdaBoostClassifier's docstring for more details.\n",
      "  estimator = estimator.set_params(**cloned_parameters)\n",
      "/opt/conda/lib/python3.10/site-packages/sklearn/model_selection/_validation.py:674: FutureWarning: Parameter 'base_estimator' of AdaBoostClassifier is deprecated in favor of 'estimator'. See AdaBoostClassifier's docstring for more details.\n",
      "  estimator = estimator.set_params(**cloned_parameters)\n",
      "/opt/conda/lib/python3.10/site-packages/sklearn/model_selection/_validation.py:674: FutureWarning: Parameter 'base_estimator' of AdaBoostClassifier is deprecated in favor of 'estimator'. See AdaBoostClassifier's docstring for more details.\n",
      "  estimator = estimator.set_params(**cloned_parameters)\n",
      "/opt/conda/lib/python3.10/site-packages/sklearn/model_selection/_validation.py:674: FutureWarning: Parameter 'base_estimator' of AdaBoostClassifier is deprecated in favor of 'estimator'. See AdaBoostClassifier's docstring for more details.\n",
      "  estimator = estimator.set_params(**cloned_parameters)\n",
      "/opt/conda/lib/python3.10/site-packages/sklearn/model_selection/_validation.py:674: FutureWarning: Parameter 'base_estimator' of AdaBoostClassifier is deprecated in favor of 'estimator'. See AdaBoostClassifier's docstring for more details.\n",
      "  estimator = estimator.set_params(**cloned_parameters)\n",
      "/opt/conda/lib/python3.10/site-packages/sklearn/model_selection/_validation.py:674: FutureWarning: Parameter 'base_estimator' of AdaBoostClassifier is deprecated in favor of 'estimator'. See AdaBoostClassifier's docstring for more details.\n",
      "  estimator = estimator.set_params(**cloned_parameters)\n",
      "/opt/conda/lib/python3.10/site-packages/sklearn/model_selection/_validation.py:674: FutureWarning: Parameter 'base_estimator' of AdaBoostClassifier is deprecated in favor of 'estimator'. See AdaBoostClassifier's docstring for more details.\n",
      "  estimator = estimator.set_params(**cloned_parameters)\n",
      "/opt/conda/lib/python3.10/site-packages/sklearn/model_selection/_validation.py:674: FutureWarning: Parameter 'base_estimator' of AdaBoostClassifier is deprecated in favor of 'estimator'. See AdaBoostClassifier's docstring for more details.\n",
      "  estimator = estimator.set_params(**cloned_parameters)\n",
      "/opt/conda/lib/python3.10/site-packages/sklearn/model_selection/_validation.py:674: FutureWarning: Parameter 'base_estimator' of AdaBoostClassifier is deprecated in favor of 'estimator'. See AdaBoostClassifier's docstring for more details.\n",
      "  estimator = estimator.set_params(**cloned_parameters)\n",
      "/opt/conda/lib/python3.10/site-packages/sklearn/model_selection/_validation.py:674: FutureWarning: Parameter 'base_estimator' of AdaBoostClassifier is deprecated in favor of 'estimator'. See AdaBoostClassifier's docstring for more details.\n",
      "  estimator = estimator.set_params(**cloned_parameters)\n",
      "/opt/conda/lib/python3.10/site-packages/sklearn/model_selection/_validation.py:674: FutureWarning: Parameter 'base_estimator' of AdaBoostClassifier is deprecated in favor of 'estimator'. See AdaBoostClassifier's docstring for more details.\n",
      "  estimator = estimator.set_params(**cloned_parameters)\n",
      "/opt/conda/lib/python3.10/site-packages/sklearn/model_selection/_validation.py:674: FutureWarning: Parameter 'base_estimator' of AdaBoostClassifier is deprecated in favor of 'estimator'. See AdaBoostClassifier's docstring for more details.\n",
      "  estimator = estimator.set_params(**cloned_parameters)\n",
      "/opt/conda/lib/python3.10/site-packages/sklearn/model_selection/_validation.py:674: FutureWarning: Parameter 'base_estimator' of AdaBoostClassifier is deprecated in favor of 'estimator'. See AdaBoostClassifier's docstring for more details.\n",
      "  estimator = estimator.set_params(**cloned_parameters)\n",
      "/opt/conda/lib/python3.10/site-packages/sklearn/model_selection/_validation.py:674: FutureWarning: Parameter 'base_estimator' of AdaBoostClassifier is deprecated in favor of 'estimator'. See AdaBoostClassifier's docstring for more details.\n",
      "  estimator = estimator.set_params(**cloned_parameters)\n",
      "/opt/conda/lib/python3.10/site-packages/sklearn/model_selection/_validation.py:674: FutureWarning: Parameter 'base_estimator' of AdaBoostClassifier is deprecated in favor of 'estimator'. See AdaBoostClassifier's docstring for more details.\n",
      "  estimator = estimator.set_params(**cloned_parameters)\n",
      "/opt/conda/lib/python3.10/site-packages/sklearn/model_selection/_validation.py:674: FutureWarning: Parameter 'base_estimator' of AdaBoostClassifier is deprecated in favor of 'estimator'. See AdaBoostClassifier's docstring for more details.\n",
      "  estimator = estimator.set_params(**cloned_parameters)\n",
      "/opt/conda/lib/python3.10/site-packages/sklearn/model_selection/_validation.py:674: FutureWarning: Parameter 'base_estimator' of AdaBoostClassifier is deprecated in favor of 'estimator'. See AdaBoostClassifier's docstring for more details.\n",
      "  estimator = estimator.set_params(**cloned_parameters)\n",
      "/opt/conda/lib/python3.10/site-packages/sklearn/model_selection/_validation.py:674: FutureWarning: Parameter 'base_estimator' of AdaBoostClassifier is deprecated in favor of 'estimator'. See AdaBoostClassifier's docstring for more details.\n",
      "  estimator = estimator.set_params(**cloned_parameters)\n",
      "/opt/conda/lib/python3.10/site-packages/sklearn/model_selection/_validation.py:674: FutureWarning: Parameter 'base_estimator' of AdaBoostClassifier is deprecated in favor of 'estimator'. See AdaBoostClassifier's docstring for more details.\n",
      "  estimator = estimator.set_params(**cloned_parameters)\n",
      "/opt/conda/lib/python3.10/site-packages/sklearn/model_selection/_validation.py:674: FutureWarning: Parameter 'base_estimator' of AdaBoostClassifier is deprecated in favor of 'estimator'. See AdaBoostClassifier's docstring for more details.\n",
      "  estimator = estimator.set_params(**cloned_parameters)\n",
      "/opt/conda/lib/python3.10/site-packages/sklearn/model_selection/_validation.py:674: FutureWarning: Parameter 'base_estimator' of AdaBoostClassifier is deprecated in favor of 'estimator'. See AdaBoostClassifier's docstring for more details.\n",
      "  estimator = estimator.set_params(**cloned_parameters)\n",
      "/opt/conda/lib/python3.10/site-packages/sklearn/model_selection/_validation.py:674: FutureWarning: Parameter 'base_estimator' of AdaBoostClassifier is deprecated in favor of 'estimator'. See AdaBoostClassifier's docstring for more details.\n",
      "  estimator = estimator.set_params(**cloned_parameters)\n",
      "/opt/conda/lib/python3.10/site-packages/sklearn/model_selection/_validation.py:674: FutureWarning: Parameter 'base_estimator' of AdaBoostClassifier is deprecated in favor of 'estimator'. See AdaBoostClassifier's docstring for more details.\n",
      "  estimator = estimator.set_params(**cloned_parameters)\n",
      "/opt/conda/lib/python3.10/site-packages/sklearn/model_selection/_validation.py:674: FutureWarning: Parameter 'base_estimator' of AdaBoostClassifier is deprecated in favor of 'estimator'. See AdaBoostClassifier's docstring for more details.\n",
      "  estimator = estimator.set_params(**cloned_parameters)\n"
     ]
    },
    {
     "name": "stdout",
     "output_type": "stream",
     "text": [
      "[CV] END ...metric=euclidean, n_neighbors=2, weights=uniform; total time=   0.0s\n",
      "[CV] END ..metric=euclidean, n_neighbors=2, weights=distance; total time=   0.0s\n",
      "[CV] END ..metric=euclidean, n_neighbors=2, weights=distance; total time=   0.0s\n",
      "[CV] END ..metric=euclidean, n_neighbors=2, weights=distance; total time=   0.0s\n",
      "[CV] END ...metric=euclidean, n_neighbors=3, weights=uniform; total time=   0.0s\n",
      "[CV] END ...metric=euclidean, n_neighbors=3, weights=uniform; total time=   0.0s\n",
      "[CV] END ..metric=euclidean, n_neighbors=3, weights=distance; total time=   0.0s\n",
      "[CV] END ...metric=euclidean, n_neighbors=5, weights=uniform; total time=   0.0s\n",
      "[CV] END ..metric=euclidean, n_neighbors=5, weights=distance; total time=   0.0s\n",
      "[CV] END ...metric=euclidean, n_neighbors=7, weights=uniform; total time=   0.0s\n",
      "[CV] END ...metric=euclidean, n_neighbors=7, weights=uniform; total time=   0.0s\n",
      "[CV] END ...metric=manhattan, n_neighbors=2, weights=uniform; total time=   0.0s\n",
      "[CV] END ...metric=manhattan, n_neighbors=2, weights=uniform; total time=   0.0s\n",
      "[CV] END ..metric=manhattan, n_neighbors=3, weights=distance; total time=   0.0s\n",
      "[CV] END ..metric=manhattan, n_neighbors=3, weights=distance; total time=   0.0s\n",
      "[CV] END ..metric=manhattan, n_neighbors=3, weights=distance; total time=   0.0s\n",
      "[CV] END ..metric=manhattan, n_neighbors=3, weights=distance; total time=   0.0s\n",
      "[CV] END ..metric=manhattan, n_neighbors=5, weights=distance; total time=   0.0s\n",
      "[CV] END ..metric=manhattan, n_neighbors=5, weights=distance; total time=   0.0s\n",
      "[CV] END ...metric=manhattan, n_neighbors=7, weights=uniform; total time=   0.0s\n",
      "[CV] END ...metric=manhattan, n_neighbors=7, weights=uniform; total time=   0.0s\n",
      "[CV] END ...metric=minkowski, n_neighbors=2, weights=uniform; total time=   0.0s\n",
      "[CV] END ..metric=minkowski, n_neighbors=2, weights=distance; total time=   0.0s\n",
      "[CV] END ..metric=minkowski, n_neighbors=2, weights=distance; total time=   0.0s\n",
      "[CV] END ..metric=minkowski, n_neighbors=2, weights=distance; total time=   0.0s\n",
      "[CV] END ..metric=minkowski, n_neighbors=2, weights=distance; total time=   0.0s\n",
      "[CV] END ..metric=minkowski, n_neighbors=2, weights=distance; total time=   0.0s\n",
      "[CV] END ...metric=minkowski, n_neighbors=3, weights=uniform; total time=   0.0s\n",
      "[CV] END ...metric=minkowski, n_neighbors=3, weights=uniform; total time=   0.0s\n",
      "[CV] END ..metric=minkowski, n_neighbors=5, weights=distance; total time=   0.0s\n",
      "[CV] END ...metric=minkowski, n_neighbors=7, weights=uniform; total time=   0.0s\n",
      "[CV] END ..metric=minkowski, n_neighbors=7, weights=distance; total time=   0.0s\n",
      "[CV] END ..metric=minkowski, n_neighbors=7, weights=distance; total time=   0.0s\n",
      "[CV] END ..metric=minkowski, n_neighbors=7, weights=distance; total time=   0.0s\n",
      "[CV] END base_estimator__max_depth=1, learning_rate=0.01, n_estimators=50; total time=   0.2s\n",
      "[CV] END base_estimator__max_depth=1, learning_rate=0.01, n_estimators=100; total time=   0.3s\n",
      "[CV] END base_estimator__max_depth=1, learning_rate=0.01, n_estimators=200; total time=   0.7s\n",
      "[CV] END base_estimator__max_depth=1, learning_rate=0.01, n_estimators=200; total time=   0.7s\n",
      "[CV] END base_estimator__max_depth=1, learning_rate=0.1, n_estimators=100; total time=   0.3s\n",
      "[CV] END base_estimator__max_depth=1, learning_rate=0.1, n_estimators=200; total time=   0.8s\n",
      "[CV] END base_estimator__max_depth=1, learning_rate=1, n_estimators=50; total time=   0.2s\n",
      "[CV] END base_estimator__max_depth=1, learning_rate=1, n_estimators=50; total time=   0.2s\n",
      "[CV] END base_estimator__max_depth=1, learning_rate=1, n_estimators=100; total time=   0.3s\n",
      "[CV] END base_estimator__max_depth=1, learning_rate=1, n_estimators=200; total time=   0.7s\n",
      "[CV] END base_estimator__max_depth=1, learning_rate=10, n_estimators=50; total time=   0.2s\n",
      "[CV] END base_estimator__max_depth=1, learning_rate=10, n_estimators=50; total time=   0.2s\n",
      "[CV] END base_estimator__max_depth=1, learning_rate=10, n_estimators=50; total time=   0.2s\n",
      "[CV] END base_estimator__max_depth=1, learning_rate=10, n_estimators=100; total time=   0.3s\n",
      "[CV] END base_estimator__max_depth=1, learning_rate=10, n_estimators=200; total time=   0.7s\n",
      "[CV] END base_estimator__max_depth=2, learning_rate=0.01, n_estimators=50; total time=   0.2s\n",
      "[CV] END base_estimator__max_depth=2, learning_rate=0.01, n_estimators=50; total time=   0.2s\n",
      "[CV] END base_estimator__max_depth=2, learning_rate=0.01, n_estimators=100; total time=   0.4s\n",
      "[CV] END base_estimator__max_depth=2, learning_rate=0.01, n_estimators=100; total time=   0.4s\n",
      "[CV] END base_estimator__max_depth=2, learning_rate=0.01, n_estimators=200; total time=   0.7s\n",
      "[CV] END base_estimator__max_depth=2, learning_rate=0.1, n_estimators=50; total time=   0.2s\n",
      "[CV] END base_estimator__max_depth=2, learning_rate=0.1, n_estimators=100; total time=   0.4s\n",
      "[CV] END base_estimator__max_depth=2, learning_rate=0.1, n_estimators=200; total time=   0.7s\n",
      "[CV] END base_estimator__max_depth=2, learning_rate=1, n_estimators=50; total time=   0.2s\n",
      "[CV] END base_estimator__max_depth=2, learning_rate=1, n_estimators=50; total time=   0.2s\n",
      "[CV] END base_estimator__max_depth=2, learning_rate=1, n_estimators=100; total time=   0.3s\n",
      "[CV] END base_estimator__max_depth=2, learning_rate=1, n_estimators=200; total time=   0.7s\n",
      "[CV] END base_estimator__max_depth=2, learning_rate=1, n_estimators=200; total time=   0.7s\n",
      "[CV] END base_estimator__max_depth=2, learning_rate=10, n_estimators=100; total time=   0.3s\n",
      "[CV] END base_estimator__max_depth=2, learning_rate=10, n_estimators=200; total time=   0.7s\n",
      "[CV] END base_estimator__max_depth=3, learning_rate=0.01, n_estimators=50; total time=   0.2s\n",
      "[CV] END base_estimator__max_depth=3, learning_rate=0.01, n_estimators=50; total time=   0.2s\n",
      "[CV] END base_estimator__max_depth=3, learning_rate=0.01, n_estimators=100; total time=   0.4s\n",
      "[CV] END base_estimator__max_depth=3, learning_rate=0.01, n_estimators=200; total time=   0.7s\n",
      "[CV] END base_estimator__max_depth=3, learning_rate=0.1, n_estimators=50; total time=   0.2s\n",
      "[CV] END base_estimator__max_depth=3, learning_rate=0.1, n_estimators=50; total time=   0.2s\n",
      "[CV] END base_estimator__max_depth=3, learning_rate=0.1, n_estimators=50; total time=   0.2s\n",
      "[CV] END base_estimator__max_depth=3, learning_rate=0.1, n_estimators=100; total time=   0.4s\n",
      "[CV] END base_estimator__max_depth=3, learning_rate=0.1, n_estimators=200; total time=   0.7s\n",
      "[CV] END base_estimator__max_depth=3, learning_rate=1, n_estimators=50; total time=   0.2s\n",
      "[CV] END base_estimator__max_depth=3, learning_rate=1, n_estimators=50; total time=   0.2s\n",
      "[CV] END base_estimator__max_depth=3, learning_rate=1, n_estimators=100; total time=   0.4s\n",
      "[CV] END base_estimator__max_depth=3, learning_rate=1, n_estimators=100; total time=   0.4s\n",
      "[CV] END base_estimator__max_depth=3, learning_rate=1, n_estimators=200; total time=   0.7s\n",
      "[CV] END base_estimator__max_depth=3, learning_rate=10, n_estimators=50; total time=   0.2s\n",
      "[CV] END base_estimator__max_depth=3, learning_rate=10, n_estimators=100; total time=   0.4s\n",
      "[CV] END base_estimator__max_depth=3, learning_rate=10, n_estimators=200; total time=   0.7s\n",
      "[CV] END base_estimator__max_depth=3, learning_rate=10, n_estimators=200; total time=   0.7s\n",
      "[CV] END base_estimator__max_depth=4, learning_rate=0.01, n_estimators=100; total time=   0.4s\n",
      "[CV] END base_estimator__max_depth=4, learning_rate=0.01, n_estimators=200; total time=   0.7s\n",
      "[CV] END base_estimator__max_depth=4, learning_rate=0.1, n_estimators=50; total time=   0.2s\n",
      "[CV] END base_estimator__max_depth=4, learning_rate=0.1, n_estimators=50; total time=   0.2s\n",
      "[CV] END base_estimator__max_depth=4, learning_rate=0.1, n_estimators=100; total time=   0.4s\n",
      "[CV] END base_estimator__max_depth=4, learning_rate=0.1, n_estimators=200; total time=   0.7s\n",
      "[CV] END base_estimator__max_depth=4, learning_rate=1, n_estimators=50; total time=   0.2s\n",
      "[CV] END base_estimator__max_depth=4, learning_rate=1, n_estimators=50; total time=   0.2s\n",
      "[CV] END base_estimator__max_depth=4, learning_rate=1, n_estimators=50; total time=   0.2s\n",
      "[CV] END base_estimator__max_depth=4, learning_rate=1, n_estimators=100; total time=   0.4s\n"
     ]
    },
    {
     "name": "stderr",
     "output_type": "stream",
     "text": [
      "/opt/conda/lib/python3.10/site-packages/sklearn/model_selection/_validation.py:674: FutureWarning: Parameter 'base_estimator' of AdaBoostClassifier is deprecated in favor of 'estimator'. See AdaBoostClassifier's docstring for more details.\n",
      "  estimator = estimator.set_params(**cloned_parameters)\n",
      "/opt/conda/lib/python3.10/site-packages/sklearn/model_selection/_validation.py:674: FutureWarning: Parameter 'base_estimator' of AdaBoostClassifier is deprecated in favor of 'estimator'. See AdaBoostClassifier's docstring for more details.\n",
      "  estimator = estimator.set_params(**cloned_parameters)\n",
      "/opt/conda/lib/python3.10/site-packages/sklearn/model_selection/_validation.py:674: FutureWarning: Parameter 'base_estimator' of AdaBoostClassifier is deprecated in favor of 'estimator'. See AdaBoostClassifier's docstring for more details.\n",
      "  estimator = estimator.set_params(**cloned_parameters)\n",
      "/opt/conda/lib/python3.10/site-packages/sklearn/model_selection/_validation.py:674: FutureWarning: Parameter 'base_estimator' of AdaBoostClassifier is deprecated in favor of 'estimator'. See AdaBoostClassifier's docstring for more details.\n",
      "  estimator = estimator.set_params(**cloned_parameters)\n",
      "/opt/conda/lib/python3.10/site-packages/sklearn/model_selection/_validation.py:674: FutureWarning: Parameter 'base_estimator' of AdaBoostClassifier is deprecated in favor of 'estimator'. See AdaBoostClassifier's docstring for more details.\n",
      "  estimator = estimator.set_params(**cloned_parameters)\n",
      "/opt/conda/lib/python3.10/site-packages/sklearn/model_selection/_validation.py:674: FutureWarning: Parameter 'base_estimator' of AdaBoostClassifier is deprecated in favor of 'estimator'. See AdaBoostClassifier's docstring for more details.\n",
      "  estimator = estimator.set_params(**cloned_parameters)\n",
      "/opt/conda/lib/python3.10/site-packages/sklearn/model_selection/_validation.py:674: FutureWarning: Parameter 'base_estimator' of AdaBoostClassifier is deprecated in favor of 'estimator'. See AdaBoostClassifier's docstring for more details.\n",
      "  estimator = estimator.set_params(**cloned_parameters)\n",
      "/opt/conda/lib/python3.10/site-packages/sklearn/model_selection/_validation.py:674: FutureWarning: Parameter 'base_estimator' of AdaBoostClassifier is deprecated in favor of 'estimator'. See AdaBoostClassifier's docstring for more details.\n",
      "  estimator = estimator.set_params(**cloned_parameters)\n",
      "/opt/conda/lib/python3.10/site-packages/sklearn/model_selection/_validation.py:674: FutureWarning: Parameter 'base_estimator' of AdaBoostClassifier is deprecated in favor of 'estimator'. See AdaBoostClassifier's docstring for more details.\n",
      "  estimator = estimator.set_params(**cloned_parameters)\n",
      "/opt/conda/lib/python3.10/site-packages/sklearn/model_selection/_validation.py:674: FutureWarning: Parameter 'base_estimator' of AdaBoostClassifier is deprecated in favor of 'estimator'. See AdaBoostClassifier's docstring for more details.\n",
      "  estimator = estimator.set_params(**cloned_parameters)\n",
      "/opt/conda/lib/python3.10/site-packages/sklearn/model_selection/_validation.py:674: FutureWarning: Parameter 'base_estimator' of AdaBoostClassifier is deprecated in favor of 'estimator'. See AdaBoostClassifier's docstring for more details.\n",
      "  estimator = estimator.set_params(**cloned_parameters)\n",
      "/opt/conda/lib/python3.10/site-packages/sklearn/model_selection/_validation.py:674: FutureWarning: Parameter 'base_estimator' of AdaBoostClassifier is deprecated in favor of 'estimator'. See AdaBoostClassifier's docstring for more details.\n",
      "  estimator = estimator.set_params(**cloned_parameters)\n",
      "/opt/conda/lib/python3.10/site-packages/sklearn/model_selection/_validation.py:674: FutureWarning: Parameter 'base_estimator' of AdaBoostClassifier is deprecated in favor of 'estimator'. See AdaBoostClassifier's docstring for more details.\n",
      "  estimator = estimator.set_params(**cloned_parameters)\n",
      "/opt/conda/lib/python3.10/site-packages/sklearn/model_selection/_validation.py:674: FutureWarning: Parameter 'base_estimator' of AdaBoostClassifier is deprecated in favor of 'estimator'. See AdaBoostClassifier's docstring for more details.\n",
      "  estimator = estimator.set_params(**cloned_parameters)\n",
      "/opt/conda/lib/python3.10/site-packages/sklearn/model_selection/_validation.py:674: FutureWarning: Parameter 'base_estimator' of AdaBoostClassifier is deprecated in favor of 'estimator'. See AdaBoostClassifier's docstring for more details.\n",
      "  estimator = estimator.set_params(**cloned_parameters)\n",
      "/opt/conda/lib/python3.10/site-packages/sklearn/model_selection/_validation.py:674: FutureWarning: Parameter 'base_estimator' of AdaBoostClassifier is deprecated in favor of 'estimator'. See AdaBoostClassifier's docstring for more details.\n",
      "  estimator = estimator.set_params(**cloned_parameters)\n"
     ]
    },
    {
     "name": "stdout",
     "output_type": "stream",
     "text": [
      "[CV] END ...metric=euclidean, n_neighbors=2, weights=uniform; total time=   0.0s\n",
      "[CV] END ...metric=euclidean, n_neighbors=3, weights=uniform; total time=   0.0s\n",
      "[CV] END ..metric=euclidean, n_neighbors=3, weights=distance; total time=   0.0s\n",
      "[CV] END ..metric=euclidean, n_neighbors=3, weights=distance; total time=   0.0s\n",
      "[CV] END ...metric=euclidean, n_neighbors=5, weights=uniform; total time=   0.0s\n",
      "[CV] END ..metric=euclidean, n_neighbors=5, weights=distance; total time=   0.0s\n",
      "[CV] END ..metric=euclidean, n_neighbors=5, weights=distance; total time=   0.0s\n",
      "[CV] END ..metric=euclidean, n_neighbors=5, weights=distance; total time=   0.0s\n",
      "[CV] END ..metric=euclidean, n_neighbors=7, weights=distance; total time=   0.0s\n",
      "[CV] END ..metric=euclidean, n_neighbors=7, weights=distance; total time=   0.0s\n",
      "[CV] END ..metric=euclidean, n_neighbors=7, weights=distance; total time=   0.0s\n",
      "[CV] END ..metric=euclidean, n_neighbors=7, weights=distance; total time=   0.0s\n",
      "[CV] END ..metric=manhattan, n_neighbors=2, weights=distance; total time=   0.0s\n",
      "[CV] END ..metric=manhattan, n_neighbors=2, weights=distance; total time=   0.0s\n",
      "[CV] END ...metric=manhattan, n_neighbors=3, weights=uniform; total time=   0.0s\n",
      "[CV] END ...metric=manhattan, n_neighbors=3, weights=uniform; total time=   0.0s\n",
      "[CV] END ...metric=manhattan, n_neighbors=5, weights=uniform; total time=   0.0s\n",
      "[CV] END ..metric=manhattan, n_neighbors=5, weights=distance; total time=   0.0s\n",
      "[CV] END ..metric=manhattan, n_neighbors=5, weights=distance; total time=   0.0s\n",
      "[CV] END ..metric=manhattan, n_neighbors=5, weights=distance; total time=   0.0s\n",
      "[CV] END ..metric=manhattan, n_neighbors=7, weights=distance; total time=   0.0s\n",
      "[CV] END ..metric=manhattan, n_neighbors=7, weights=distance; total time=   0.0s\n",
      "[CV] END ..metric=manhattan, n_neighbors=7, weights=distance; total time=   0.0s\n",
      "[CV] END ..metric=manhattan, n_neighbors=7, weights=distance; total time=   0.0s\n",
      "[CV] END ...metric=minkowski, n_neighbors=2, weights=uniform; total time=   0.0s\n",
      "[CV] END ...metric=minkowski, n_neighbors=2, weights=uniform; total time=   0.0s\n",
      "[CV] END ...metric=minkowski, n_neighbors=2, weights=uniform; total time=   0.0s\n",
      "[CV] END ...metric=minkowski, n_neighbors=2, weights=uniform; total time=   0.0s\n",
      "[CV] END ..metric=minkowski, n_neighbors=5, weights=distance; total time=   0.0s\n",
      "[CV] END ...metric=minkowski, n_neighbors=7, weights=uniform; total time=   0.0s\n",
      "[CV] END ...metric=minkowski, n_neighbors=7, weights=uniform; total time=   0.0s\n",
      "[CV] END ..metric=minkowski, n_neighbors=7, weights=distance; total time=   0.0s\n",
      "[CV] END base_estimator__max_depth=1, learning_rate=0.01, n_estimators=50; total time=   0.2s\n",
      "[CV] END base_estimator__max_depth=1, learning_rate=0.01, n_estimators=50; total time=   0.2s\n",
      "[CV] END base_estimator__max_depth=1, learning_rate=0.01, n_estimators=100; total time=   0.3s\n",
      "[CV] END base_estimator__max_depth=1, learning_rate=0.01, n_estimators=200; total time=   0.7s\n",
      "[CV] END base_estimator__max_depth=1, learning_rate=0.1, n_estimators=50; total time=   0.2s\n",
      "[CV] END base_estimator__max_depth=1, learning_rate=0.1, n_estimators=50; total time=   0.2s\n",
      "[CV] END base_estimator__max_depth=1, learning_rate=0.1, n_estimators=100; total time=   0.3s\n",
      "[CV] END base_estimator__max_depth=1, learning_rate=0.1, n_estimators=200; total time=   0.7s\n",
      "[CV] END base_estimator__max_depth=1, learning_rate=0.1, n_estimators=200; total time=   0.8s\n",
      "[CV] END base_estimator__max_depth=1, learning_rate=1, n_estimators=200; total time=   0.7s\n",
      "[CV] END base_estimator__max_depth=1, learning_rate=1, n_estimators=200; total time=   0.7s\n",
      "[CV] END base_estimator__max_depth=1, learning_rate=10, n_estimators=100; total time=   0.3s\n",
      "[CV] END base_estimator__max_depth=1, learning_rate=10, n_estimators=200; total time=   0.7s\n",
      "[CV] END base_estimator__max_depth=2, learning_rate=0.01, n_estimators=50; total time=   0.2s\n",
      "[CV] END base_estimator__max_depth=2, learning_rate=0.01, n_estimators=50; total time=   0.2s\n",
      "[CV] END base_estimator__max_depth=2, learning_rate=0.01, n_estimators=100; total time=   0.4s\n",
      "[CV] END base_estimator__max_depth=2, learning_rate=0.01, n_estimators=200; total time=   0.7s\n",
      "[CV] END base_estimator__max_depth=2, learning_rate=0.01, n_estimators=200; total time=   0.7s\n",
      "[CV] END base_estimator__max_depth=2, learning_rate=0.1, n_estimators=100; total time=   0.3s\n",
      "[CV] END base_estimator__max_depth=2, learning_rate=0.1, n_estimators=200; total time=   0.7s\n",
      "[CV] END base_estimator__max_depth=2, learning_rate=1, n_estimators=50; total time=   0.2s\n",
      "[CV] END base_estimator__max_depth=2, learning_rate=1, n_estimators=50; total time=   0.2s\n",
      "[CV] END base_estimator__max_depth=2, learning_rate=1, n_estimators=100; total time=   0.4s\n",
      "[CV] END base_estimator__max_depth=2, learning_rate=1, n_estimators=200; total time=   0.7s\n",
      "[CV] END base_estimator__max_depth=2, learning_rate=10, n_estimators=50; total time=   0.2s\n",
      "[CV] END base_estimator__max_depth=2, learning_rate=10, n_estimators=50; total time=   0.2s\n",
      "[CV] END base_estimator__max_depth=2, learning_rate=10, n_estimators=50; total time=   0.2s\n",
      "[CV] END base_estimator__max_depth=2, learning_rate=10, n_estimators=100; total time=   0.3s\n",
      "[CV] END base_estimator__max_depth=2, learning_rate=10, n_estimators=200; total time=   0.7s\n",
      "[CV] END base_estimator__max_depth=3, learning_rate=0.01, n_estimators=50; total time=   0.2s\n",
      "[CV] END base_estimator__max_depth=3, learning_rate=0.01, n_estimators=50; total time=   0.2s\n",
      "[CV] END base_estimator__max_depth=3, learning_rate=0.01, n_estimators=100; total time=   0.4s\n",
      "[CV] END base_estimator__max_depth=3, learning_rate=0.01, n_estimators=100; total time=   0.4s\n",
      "[CV] END base_estimator__max_depth=3, learning_rate=0.01, n_estimators=200; total time=   0.7s\n",
      "[CV] END base_estimator__max_depth=3, learning_rate=0.1, n_estimators=50; total time=   0.2s\n",
      "[CV] END base_estimator__max_depth=3, learning_rate=0.1, n_estimators=100; total time=   0.4s\n",
      "[CV] END base_estimator__max_depth=3, learning_rate=0.1, n_estimators=200; total time=   0.7s\n",
      "[CV] END base_estimator__max_depth=3, learning_rate=0.1, n_estimators=200; total time=   0.7s\n",
      "[CV] END base_estimator__max_depth=3, learning_rate=1, n_estimators=100; total time=   0.4s\n",
      "[CV] END base_estimator__max_depth=3, learning_rate=1, n_estimators=200; total time=   0.7s\n",
      "[CV] END base_estimator__max_depth=3, learning_rate=10, n_estimators=50; total time=   0.2s\n",
      "[CV] END base_estimator__max_depth=3, learning_rate=10, n_estimators=50; total time=   0.2s\n",
      "[CV] END base_estimator__max_depth=3, learning_rate=10, n_estimators=100; total time=   0.4s\n",
      "[CV] END base_estimator__max_depth=3, learning_rate=10, n_estimators=200; total time=   0.7s\n",
      "[CV] END base_estimator__max_depth=4, learning_rate=0.01, n_estimators=50; total time=   0.2s\n",
      "[CV] END base_estimator__max_depth=4, learning_rate=0.01, n_estimators=50; total time=   0.2s\n",
      "[CV] END base_estimator__max_depth=4, learning_rate=0.01, n_estimators=100; total time=   0.4s\n",
      "[CV] END base_estimator__max_depth=4, learning_rate=0.01, n_estimators=100; total time=   0.4s\n",
      "[CV] END base_estimator__max_depth=4, learning_rate=0.01, n_estimators=200; total time=   0.7s\n",
      "[CV] END base_estimator__max_depth=4, learning_rate=0.1, n_estimators=50; total time=   0.2s\n",
      "[CV] END base_estimator__max_depth=4, learning_rate=0.1, n_estimators=100; total time=   0.4s\n",
      "[CV] END base_estimator__max_depth=4, learning_rate=0.1, n_estimators=200; total time=   0.7s\n",
      "[CV] END base_estimator__max_depth=4, learning_rate=0.1, n_estimators=200; total time=   0.8s\n",
      "[CV] END base_estimator__max_depth=4, learning_rate=1, n_estimators=100; total time=   0.4s\n",
      "[CV] END base_estimator__max_depth=4, learning_rate=1, n_estimators=200; total time=   0.7s\n",
      "[CV] END base_estimator__max_depth=4, learning_rate=10, n_estimators=50; total time=   0.2s\n",
      "[CV] END base_estimator__max_depth=4, learning_rate=10, n_estimators=50; total time=   0.2s\n",
      "[CV] END base_estimator__max_depth=4, learning_rate=10, n_estimators=100; total time=   0.4s\n",
      "[CV] END base_estimator__max_depth=4, learning_rate=10, n_estimators=200; total time=   0.7s\n"
     ]
    },
    {
     "name": "stderr",
     "output_type": "stream",
     "text": [
      "/opt/conda/lib/python3.10/site-packages/sklearn/model_selection/_validation.py:674: FutureWarning: Parameter 'base_estimator' of AdaBoostClassifier is deprecated in favor of 'estimator'. See AdaBoostClassifier's docstring for more details.\n",
      "  estimator = estimator.set_params(**cloned_parameters)\n",
      "/opt/conda/lib/python3.10/site-packages/sklearn/model_selection/_validation.py:674: FutureWarning: Parameter 'base_estimator' of AdaBoostClassifier is deprecated in favor of 'estimator'. See AdaBoostClassifier's docstring for more details.\n",
      "  estimator = estimator.set_params(**cloned_parameters)\n",
      "/opt/conda/lib/python3.10/site-packages/sklearn/model_selection/_validation.py:674: FutureWarning: Parameter 'base_estimator' of AdaBoostClassifier is deprecated in favor of 'estimator'. See AdaBoostClassifier's docstring for more details.\n",
      "  estimator = estimator.set_params(**cloned_parameters)\n",
      "/opt/conda/lib/python3.10/site-packages/sklearn/model_selection/_validation.py:674: FutureWarning: Parameter 'base_estimator' of AdaBoostClassifier is deprecated in favor of 'estimator'. See AdaBoostClassifier's docstring for more details.\n",
      "  estimator = estimator.set_params(**cloned_parameters)\n",
      "/opt/conda/lib/python3.10/site-packages/sklearn/model_selection/_validation.py:674: FutureWarning: Parameter 'base_estimator' of AdaBoostClassifier is deprecated in favor of 'estimator'. See AdaBoostClassifier's docstring for more details.\n",
      "  estimator = estimator.set_params(**cloned_parameters)\n",
      "/opt/conda/lib/python3.10/site-packages/sklearn/model_selection/_validation.py:674: FutureWarning: Parameter 'base_estimator' of AdaBoostClassifier is deprecated in favor of 'estimator'. See AdaBoostClassifier's docstring for more details.\n",
      "  estimator = estimator.set_params(**cloned_parameters)\n",
      "/opt/conda/lib/python3.10/site-packages/sklearn/model_selection/_validation.py:674: FutureWarning: Parameter 'base_estimator' of AdaBoostClassifier is deprecated in favor of 'estimator'. See AdaBoostClassifier's docstring for more details.\n",
      "  estimator = estimator.set_params(**cloned_parameters)\n",
      "/opt/conda/lib/python3.10/site-packages/sklearn/model_selection/_validation.py:674: FutureWarning: Parameter 'base_estimator' of AdaBoostClassifier is deprecated in favor of 'estimator'. See AdaBoostClassifier's docstring for more details.\n",
      "  estimator = estimator.set_params(**cloned_parameters)\n",
      "/opt/conda/lib/python3.10/site-packages/sklearn/model_selection/_validation.py:674: FutureWarning: Parameter 'base_estimator' of AdaBoostClassifier is deprecated in favor of 'estimator'. See AdaBoostClassifier's docstring for more details.\n",
      "  estimator = estimator.set_params(**cloned_parameters)\n",
      "/opt/conda/lib/python3.10/site-packages/sklearn/model_selection/_validation.py:674: FutureWarning: Parameter 'base_estimator' of AdaBoostClassifier is deprecated in favor of 'estimator'. See AdaBoostClassifier's docstring for more details.\n",
      "  estimator = estimator.set_params(**cloned_parameters)\n",
      "/opt/conda/lib/python3.10/site-packages/sklearn/model_selection/_validation.py:674: FutureWarning: Parameter 'base_estimator' of AdaBoostClassifier is deprecated in favor of 'estimator'. See AdaBoostClassifier's docstring for more details.\n",
      "  estimator = estimator.set_params(**cloned_parameters)\n",
      "/opt/conda/lib/python3.10/site-packages/sklearn/model_selection/_validation.py:674: FutureWarning: Parameter 'base_estimator' of AdaBoostClassifier is deprecated in favor of 'estimator'. See AdaBoostClassifier's docstring for more details.\n",
      "  estimator = estimator.set_params(**cloned_parameters)\n",
      "/opt/conda/lib/python3.10/site-packages/sklearn/model_selection/_validation.py:674: FutureWarning: Parameter 'base_estimator' of AdaBoostClassifier is deprecated in favor of 'estimator'. See AdaBoostClassifier's docstring for more details.\n",
      "  estimator = estimator.set_params(**cloned_parameters)\n",
      "/opt/conda/lib/python3.10/site-packages/sklearn/model_selection/_validation.py:674: FutureWarning: Parameter 'base_estimator' of AdaBoostClassifier is deprecated in favor of 'estimator'. See AdaBoostClassifier's docstring for more details.\n",
      "  estimator = estimator.set_params(**cloned_parameters)\n",
      "/opt/conda/lib/python3.10/site-packages/sklearn/model_selection/_validation.py:674: FutureWarning: Parameter 'base_estimator' of AdaBoostClassifier is deprecated in favor of 'estimator'. See AdaBoostClassifier's docstring for more details.\n",
      "  estimator = estimator.set_params(**cloned_parameters)\n",
      "/opt/conda/lib/python3.10/site-packages/sklearn/model_selection/_validation.py:674: FutureWarning: Parameter 'base_estimator' of AdaBoostClassifier is deprecated in favor of 'estimator'. See AdaBoostClassifier's docstring for more details.\n",
      "  estimator = estimator.set_params(**cloned_parameters)\n",
      "/opt/conda/lib/python3.10/site-packages/sklearn/model_selection/_validation.py:674: FutureWarning: Parameter 'base_estimator' of AdaBoostClassifier is deprecated in favor of 'estimator'. See AdaBoostClassifier's docstring for more details.\n",
      "  estimator = estimator.set_params(**cloned_parameters)\n"
     ]
    },
    {
     "name": "stdout",
     "output_type": "stream",
     "text": [
      "[CV] END ...metric=euclidean, n_neighbors=2, weights=uniform; total time=   0.0s\n",
      "[CV] END ...metric=euclidean, n_neighbors=2, weights=uniform; total time=   0.0s\n",
      "[CV] END ..metric=euclidean, n_neighbors=2, weights=distance; total time=   0.0s\n",
      "[CV] END ..metric=euclidean, n_neighbors=2, weights=distance; total time=   0.0s\n",
      "[CV] END ...metric=euclidean, n_neighbors=3, weights=uniform; total time=   0.0s\n",
      "[CV] END ..metric=euclidean, n_neighbors=3, weights=distance; total time=   0.0s\n",
      "[CV] END ..metric=euclidean, n_neighbors=3, weights=distance; total time=   0.0s\n",
      "[CV] END ...metric=euclidean, n_neighbors=5, weights=uniform; total time=   0.0s\n",
      "[CV] END ..metric=euclidean, n_neighbors=5, weights=distance; total time=   0.0s\n",
      "[CV] END ...metric=euclidean, n_neighbors=7, weights=uniform; total time=   0.0s\n",
      "[CV] END ...metric=euclidean, n_neighbors=7, weights=uniform; total time=   0.0s\n",
      "[CV] END ...metric=manhattan, n_neighbors=2, weights=uniform; total time=   0.0s\n",
      "[CV] END ..metric=manhattan, n_neighbors=2, weights=distance; total time=   0.0s\n",
      "[CV] END ..metric=manhattan, n_neighbors=2, weights=distance; total time=   0.0s\n",
      "[CV] END ..metric=manhattan, n_neighbors=2, weights=distance; total time=   0.0s\n",
      "[CV] END ...metric=manhattan, n_neighbors=5, weights=uniform; total time=   0.0s\n",
      "[CV] END ...metric=manhattan, n_neighbors=5, weights=uniform; total time=   0.0s\n",
      "[CV] END ...metric=manhattan, n_neighbors=5, weights=uniform; total time=   0.0s\n",
      "[CV] END ...metric=manhattan, n_neighbors=5, weights=uniform; total time=   0.0s\n",
      "[CV] END ...metric=minkowski, n_neighbors=3, weights=uniform; total time=   0.0s\n",
      "[CV] END ...metric=minkowski, n_neighbors=3, weights=uniform; total time=   0.0s\n",
      "[CV] END ...metric=minkowski, n_neighbors=3, weights=uniform; total time=   0.0s\n",
      "[CV] END ..metric=minkowski, n_neighbors=3, weights=distance; total time=   0.0s\n",
      "[CV] END ..metric=minkowski, n_neighbors=3, weights=distance; total time=   0.0s\n",
      "[CV] END ..metric=minkowski, n_neighbors=3, weights=distance; total time=   0.0s\n",
      "[CV] END ..metric=minkowski, n_neighbors=3, weights=distance; total time=   0.0s\n",
      "[CV] END ..metric=minkowski, n_neighbors=3, weights=distance; total time=   0.0s\n",
      "[CV] END ...metric=minkowski, n_neighbors=7, weights=uniform; total time=   0.0s\n",
      "[CV] END ...metric=minkowski, n_neighbors=7, weights=uniform; total time=   0.0s\n",
      "[CV] END ..metric=minkowski, n_neighbors=7, weights=distance; total time=   0.0s\n",
      "[CV] END base_estimator__max_depth=1, learning_rate=0.01, n_estimators=50; total time=   0.2s\n",
      "[CV] END base_estimator__max_depth=1, learning_rate=0.01, n_estimators=100; total time=   0.4s\n",
      "[CV] END base_estimator__max_depth=1, learning_rate=0.01, n_estimators=200; total time=   0.7s\n",
      "[CV] END base_estimator__max_depth=1, learning_rate=0.1, n_estimators=50; total time=   0.2s\n",
      "[CV] END base_estimator__max_depth=1, learning_rate=0.1, n_estimators=50; total time=   0.2s\n",
      "[CV] END base_estimator__max_depth=1, learning_rate=0.1, n_estimators=100; total time=   0.4s\n",
      "[CV] END base_estimator__max_depth=1, learning_rate=0.1, n_estimators=100; total time=   0.4s\n",
      "[CV] END base_estimator__max_depth=1, learning_rate=0.1, n_estimators=200; total time=   0.7s\n",
      "[CV] END base_estimator__max_depth=1, learning_rate=1, n_estimators=50; total time=   0.2s\n",
      "[CV] END base_estimator__max_depth=1, learning_rate=1, n_estimators=100; total time=   0.4s\n",
      "[CV] END base_estimator__max_depth=1, learning_rate=1, n_estimators=100; total time=   0.4s\n",
      "[CV] END base_estimator__max_depth=1, learning_rate=1, n_estimators=200; total time=   0.7s\n",
      "[CV] END base_estimator__max_depth=1, learning_rate=10, n_estimators=50; total time=   0.2s\n",
      "[CV] END base_estimator__max_depth=1, learning_rate=10, n_estimators=100; total time=   0.3s\n",
      "[CV] END base_estimator__max_depth=1, learning_rate=10, n_estimators=200; total time=   0.7s\n",
      "[CV] END base_estimator__max_depth=1, learning_rate=10, n_estimators=200; total time=   0.7s\n",
      "[CV] END base_estimator__max_depth=2, learning_rate=0.01, n_estimators=100; total time=   0.3s\n",
      "[CV] END base_estimator__max_depth=2, learning_rate=0.01, n_estimators=200; total time=   0.7s\n",
      "[CV] END base_estimator__max_depth=2, learning_rate=0.1, n_estimators=50; total time=   0.2s\n",
      "[CV] END base_estimator__max_depth=2, learning_rate=0.1, n_estimators=100; total time=   0.3s\n",
      "[CV] END base_estimator__max_depth=2, learning_rate=0.1, n_estimators=100; total time=   0.3s\n",
      "[CV] END base_estimator__max_depth=2, learning_rate=0.1, n_estimators=200; total time=   0.7s\n",
      "[CV] END base_estimator__max_depth=2, learning_rate=1, n_estimators=50; total time=   0.2s\n",
      "[CV] END base_estimator__max_depth=2, learning_rate=1, n_estimators=100; total time=   0.3s\n",
      "[CV] END base_estimator__max_depth=2, learning_rate=1, n_estimators=100; total time=   0.3s\n",
      "[CV] END base_estimator__max_depth=2, learning_rate=1, n_estimators=200; total time=   0.7s\n",
      "[CV] END base_estimator__max_depth=2, learning_rate=10, n_estimators=50; total time=   0.2s\n",
      "[CV] END base_estimator__max_depth=2, learning_rate=10, n_estimators=100; total time=   0.4s\n",
      "[CV] END base_estimator__max_depth=2, learning_rate=10, n_estimators=200; total time=   0.7s\n",
      "[CV] END base_estimator__max_depth=2, learning_rate=10, n_estimators=200; total time=   0.7s\n",
      "[CV] END base_estimator__max_depth=3, learning_rate=0.01, n_estimators=100; total time=   0.4s\n",
      "[CV] END base_estimator__max_depth=3, learning_rate=0.01, n_estimators=200; total time=   0.7s\n",
      "[CV] END base_estimator__max_depth=3, learning_rate=0.1, n_estimators=50; total time=   0.2s\n",
      "[CV] END base_estimator__max_depth=3, learning_rate=0.1, n_estimators=100; total time=   0.4s\n",
      "[CV] END base_estimator__max_depth=3, learning_rate=0.1, n_estimators=100; total time=   0.4s\n",
      "[CV] END base_estimator__max_depth=3, learning_rate=0.1, n_estimators=200; total time=   0.7s\n",
      "[CV] END base_estimator__max_depth=3, learning_rate=1, n_estimators=50; total time=   0.2s\n",
      "[CV] END base_estimator__max_depth=3, learning_rate=1, n_estimators=100; total time=   0.4s\n",
      "[CV] END base_estimator__max_depth=3, learning_rate=1, n_estimators=200; total time=   0.7s\n",
      "[CV] END base_estimator__max_depth=3, learning_rate=1, n_estimators=200; total time=   0.7s\n",
      "[CV] END base_estimator__max_depth=3, learning_rate=10, n_estimators=100; total time=   0.4s\n",
      "[CV] END base_estimator__max_depth=3, learning_rate=10, n_estimators=200; total time=   0.7s\n",
      "[CV] END base_estimator__max_depth=4, learning_rate=0.01, n_estimators=50; total time=   0.2s\n",
      "[CV] END base_estimator__max_depth=4, learning_rate=0.01, n_estimators=50; total time=   0.2s\n",
      "[CV] END base_estimator__max_depth=4, learning_rate=0.01, n_estimators=100; total time=   0.4s\n",
      "[CV] END base_estimator__max_depth=4, learning_rate=0.01, n_estimators=200; total time=   0.7s\n",
      "[CV] END base_estimator__max_depth=4, learning_rate=0.1, n_estimators=50; total time=   0.2s\n",
      "[CV] END base_estimator__max_depth=4, learning_rate=0.1, n_estimators=50; total time=   0.2s\n",
      "[CV] END base_estimator__max_depth=4, learning_rate=0.1, n_estimators=100; total time=   0.4s\n",
      "[CV] END base_estimator__max_depth=4, learning_rate=0.1, n_estimators=100; total time=   0.4s\n",
      "[CV] END base_estimator__max_depth=4, learning_rate=0.1, n_estimators=200; total time=   0.7s\n",
      "[CV] END base_estimator__max_depth=4, learning_rate=1, n_estimators=50; total time=   0.2s\n",
      "[CV] END base_estimator__max_depth=4, learning_rate=1, n_estimators=100; total time=   0.4s\n",
      "[CV] END base_estimator__max_depth=4, learning_rate=1, n_estimators=200; total time=   0.7s\n",
      "[CV] END base_estimator__max_depth=4, learning_rate=1, n_estimators=200; total time=   0.7s\n",
      "[CV] END base_estimator__max_depth=4, learning_rate=10, n_estimators=100; total time=   0.4s\n",
      "[CV] END base_estimator__max_depth=4, learning_rate=10, n_estimators=200; total time=   0.7s\n",
      "[CV] END base_estimator__max_depth=5, learning_rate=0.01, n_estimators=50; total time=   0.2s\n",
      "[CV] END base_estimator__max_depth=5, learning_rate=0.01, n_estimators=50; total time=   0.2s\n",
      "[CV] END base_estimator__max_depth=5, learning_rate=0.01, n_estimators=100; total time=   0.4s\n",
      "[CV] END base_estimator__max_depth=5, learning_rate=0.01, n_estimators=200; total time=   0.8s\n"
     ]
    },
    {
     "name": "stderr",
     "output_type": "stream",
     "text": [
      "/opt/conda/lib/python3.10/site-packages/sklearn/model_selection/_validation.py:674: FutureWarning: Parameter 'base_estimator' of AdaBoostClassifier is deprecated in favor of 'estimator'. See AdaBoostClassifier's docstring for more details.\n",
      "  estimator = estimator.set_params(**cloned_parameters)\n",
      "/opt/conda/lib/python3.10/site-packages/sklearn/model_selection/_validation.py:674: FutureWarning: Parameter 'base_estimator' of AdaBoostClassifier is deprecated in favor of 'estimator'. See AdaBoostClassifier's docstring for more details.\n",
      "  estimator = estimator.set_params(**cloned_parameters)\n",
      "/opt/conda/lib/python3.10/site-packages/sklearn/model_selection/_validation.py:674: FutureWarning: Parameter 'base_estimator' of AdaBoostClassifier is deprecated in favor of 'estimator'. See AdaBoostClassifier's docstring for more details.\n",
      "  estimator = estimator.set_params(**cloned_parameters)\n",
      "/opt/conda/lib/python3.10/site-packages/sklearn/model_selection/_validation.py:674: FutureWarning: Parameter 'base_estimator' of AdaBoostClassifier is deprecated in favor of 'estimator'. See AdaBoostClassifier's docstring for more details.\n",
      "  estimator = estimator.set_params(**cloned_parameters)\n",
      "/opt/conda/lib/python3.10/site-packages/sklearn/model_selection/_validation.py:674: FutureWarning: Parameter 'base_estimator' of AdaBoostClassifier is deprecated in favor of 'estimator'. See AdaBoostClassifier's docstring for more details.\n",
      "  estimator = estimator.set_params(**cloned_parameters)\n",
      "/opt/conda/lib/python3.10/site-packages/sklearn/model_selection/_validation.py:674: FutureWarning: Parameter 'base_estimator' of AdaBoostClassifier is deprecated in favor of 'estimator'. See AdaBoostClassifier's docstring for more details.\n",
      "  estimator = estimator.set_params(**cloned_parameters)\n",
      "/opt/conda/lib/python3.10/site-packages/sklearn/model_selection/_validation.py:674: FutureWarning: Parameter 'base_estimator' of AdaBoostClassifier is deprecated in favor of 'estimator'. See AdaBoostClassifier's docstring for more details.\n",
      "  estimator = estimator.set_params(**cloned_parameters)\n",
      "/opt/conda/lib/python3.10/site-packages/sklearn/model_selection/_validation.py:674: FutureWarning: Parameter 'base_estimator' of AdaBoostClassifier is deprecated in favor of 'estimator'. See AdaBoostClassifier's docstring for more details.\n",
      "  estimator = estimator.set_params(**cloned_parameters)\n",
      "/opt/conda/lib/python3.10/site-packages/sklearn/model_selection/_validation.py:674: FutureWarning: Parameter 'base_estimator' of AdaBoostClassifier is deprecated in favor of 'estimator'. See AdaBoostClassifier's docstring for more details.\n",
      "  estimator = estimator.set_params(**cloned_parameters)\n",
      "/opt/conda/lib/python3.10/site-packages/sklearn/model_selection/_validation.py:674: FutureWarning: Parameter 'base_estimator' of AdaBoostClassifier is deprecated in favor of 'estimator'. See AdaBoostClassifier's docstring for more details.\n",
      "  estimator = estimator.set_params(**cloned_parameters)\n",
      "/opt/conda/lib/python3.10/site-packages/sklearn/model_selection/_validation.py:674: FutureWarning: Parameter 'base_estimator' of AdaBoostClassifier is deprecated in favor of 'estimator'. See AdaBoostClassifier's docstring for more details.\n",
      "  estimator = estimator.set_params(**cloned_parameters)\n",
      "/opt/conda/lib/python3.10/site-packages/sklearn/model_selection/_validation.py:674: FutureWarning: Parameter 'base_estimator' of AdaBoostClassifier is deprecated in favor of 'estimator'. See AdaBoostClassifier's docstring for more details.\n",
      "  estimator = estimator.set_params(**cloned_parameters)\n",
      "/opt/conda/lib/python3.10/site-packages/sklearn/model_selection/_validation.py:674: FutureWarning: Parameter 'base_estimator' of AdaBoostClassifier is deprecated in favor of 'estimator'. See AdaBoostClassifier's docstring for more details.\n",
      "  estimator = estimator.set_params(**cloned_parameters)\n",
      "/opt/conda/lib/python3.10/site-packages/sklearn/model_selection/_validation.py:674: FutureWarning: Parameter 'base_estimator' of AdaBoostClassifier is deprecated in favor of 'estimator'. See AdaBoostClassifier's docstring for more details.\n",
      "  estimator = estimator.set_params(**cloned_parameters)\n",
      "/opt/conda/lib/python3.10/site-packages/sklearn/model_selection/_validation.py:674: FutureWarning: Parameter 'base_estimator' of AdaBoostClassifier is deprecated in favor of 'estimator'. See AdaBoostClassifier's docstring for more details.\n",
      "  estimator = estimator.set_params(**cloned_parameters)\n",
      "/opt/conda/lib/python3.10/site-packages/sklearn/model_selection/_validation.py:674: FutureWarning: Parameter 'base_estimator' of AdaBoostClassifier is deprecated in favor of 'estimator'. See AdaBoostClassifier's docstring for more details.\n",
      "  estimator = estimator.set_params(**cloned_parameters)\n",
      "/opt/conda/lib/python3.10/site-packages/sklearn/model_selection/_validation.py:674: FutureWarning: Parameter 'base_estimator' of AdaBoostClassifier is deprecated in favor of 'estimator'. See AdaBoostClassifier's docstring for more details.\n",
      "  estimator = estimator.set_params(**cloned_parameters)\n",
      "/opt/conda/lib/python3.10/site-packages/sklearn/model_selection/_validation.py:674: FutureWarning: Parameter 'base_estimator' of AdaBoostClassifier is deprecated in favor of 'estimator'. See AdaBoostClassifier's docstring for more details.\n",
      "  estimator = estimator.set_params(**cloned_parameters)\n",
      "/opt/conda/lib/python3.10/site-packages/sklearn/model_selection/_validation.py:674: FutureWarning: Parameter 'base_estimator' of AdaBoostClassifier is deprecated in favor of 'estimator'. See AdaBoostClassifier's docstring for more details.\n",
      "  estimator = estimator.set_params(**cloned_parameters)\n"
     ]
    },
    {
     "name": "stdout",
     "output_type": "stream",
     "text": [
      "[CV] END ...metric=euclidean, n_neighbors=2, weights=uniform; total time=   0.0s\n",
      "[CV] END ...metric=euclidean, n_neighbors=3, weights=uniform; total time=   0.0s\n",
      "[CV] END ...metric=euclidean, n_neighbors=5, weights=uniform; total time=   0.0s\n",
      "[CV] END ...metric=euclidean, n_neighbors=5, weights=uniform; total time=   0.0s\n",
      "[CV] END ...metric=euclidean, n_neighbors=7, weights=uniform; total time=   0.0s\n",
      "[CV] END ..metric=euclidean, n_neighbors=7, weights=distance; total time=   0.0s\n",
      "[CV] END ...metric=manhattan, n_neighbors=2, weights=uniform; total time=   0.0s\n",
      "[CV] END ...metric=manhattan, n_neighbors=2, weights=uniform; total time=   0.0s\n",
      "[CV] END ...metric=manhattan, n_neighbors=3, weights=uniform; total time=   0.0s\n",
      "[CV] END ...metric=manhattan, n_neighbors=3, weights=uniform; total time=   0.0s\n",
      "[CV] END ...metric=manhattan, n_neighbors=3, weights=uniform; total time=   0.0s\n",
      "[CV] END ..metric=manhattan, n_neighbors=3, weights=distance; total time=   0.0s\n",
      "[CV] END ...metric=manhattan, n_neighbors=7, weights=uniform; total time=   0.0s\n",
      "[CV] END ...metric=manhattan, n_neighbors=7, weights=uniform; total time=   0.0s\n",
      "[CV] END ...metric=manhattan, n_neighbors=7, weights=uniform; total time=   0.0s\n",
      "[CV] END ..metric=manhattan, n_neighbors=7, weights=distance; total time=   0.0s\n",
      "[CV] END ...metric=minkowski, n_neighbors=5, weights=uniform; total time=   0.0s\n",
      "[CV] END ...metric=minkowski, n_neighbors=5, weights=uniform; total time=   0.0s\n",
      "[CV] END ...metric=minkowski, n_neighbors=5, weights=uniform; total time=   0.0s\n",
      "[CV] END ...metric=minkowski, n_neighbors=5, weights=uniform; total time=   0.0s\n",
      "[CV] END ...metric=minkowski, n_neighbors=5, weights=uniform; total time=   0.0s\n",
      "[CV] END ..metric=minkowski, n_neighbors=5, weights=distance; total time=   0.0s\n",
      "[CV] END ..metric=minkowski, n_neighbors=5, weights=distance; total time=   0.0s\n",
      "[CV] END ..metric=minkowski, n_neighbors=5, weights=distance; total time=   0.0s\n",
      "[CV] END base_estimator__max_depth=1, learning_rate=0.01, n_estimators=50; total time=   0.2s\n",
      "[CV] END base_estimator__max_depth=1, learning_rate=0.01, n_estimators=100; total time=   0.3s\n",
      "[CV] END base_estimator__max_depth=1, learning_rate=0.01, n_estimators=100; total time=   0.3s\n",
      "[CV] END base_estimator__max_depth=1, learning_rate=0.01, n_estimators=200; total time=   0.7s\n",
      "[CV] END base_estimator__max_depth=1, learning_rate=0.1, n_estimators=50; total time=   0.2s\n",
      "[CV] END base_estimator__max_depth=1, learning_rate=0.1, n_estimators=100; total time=   0.3s\n",
      "[CV] END base_estimator__max_depth=1, learning_rate=0.1, n_estimators=200; total time=   0.7s\n",
      "[CV] END base_estimator__max_depth=1, learning_rate=1, n_estimators=50; total time=   0.2s\n",
      "[CV] END base_estimator__max_depth=1, learning_rate=1, n_estimators=50; total time=   0.2s\n",
      "[CV] END base_estimator__max_depth=1, learning_rate=1, n_estimators=100; total time=   0.3s\n",
      "[CV] END base_estimator__max_depth=1, learning_rate=1, n_estimators=100; total time=   0.3s\n",
      "[CV] END base_estimator__max_depth=1, learning_rate=1, n_estimators=200; total time=   0.7s\n",
      "[CV] END base_estimator__max_depth=1, learning_rate=10, n_estimators=50; total time=   0.2s\n",
      "[CV] END base_estimator__max_depth=1, learning_rate=10, n_estimators=100; total time=   0.3s\n",
      "[CV] END base_estimator__max_depth=1, learning_rate=10, n_estimators=100; total time=   0.4s\n",
      "[CV] END base_estimator__max_depth=1, learning_rate=10, n_estimators=200; total time=   0.7s\n",
      "[CV] END base_estimator__max_depth=2, learning_rate=0.01, n_estimators=50; total time=   0.2s\n",
      "[CV] END base_estimator__max_depth=2, learning_rate=0.01, n_estimators=100; total time=   0.4s\n",
      "[CV] END base_estimator__max_depth=2, learning_rate=0.01, n_estimators=200; total time=   0.7s\n",
      "[CV] END base_estimator__max_depth=2, learning_rate=0.1, n_estimators=50; total time=   0.2s\n",
      "[CV] END base_estimator__max_depth=2, learning_rate=0.1, n_estimators=50; total time=   0.2s\n",
      "[CV] END base_estimator__max_depth=2, learning_rate=0.1, n_estimators=50; total time=   0.2s\n",
      "[CV] END base_estimator__max_depth=2, learning_rate=0.1, n_estimators=100; total time=   0.3s\n",
      "[CV] END base_estimator__max_depth=2, learning_rate=0.1, n_estimators=200; total time=   0.7s\n",
      "[CV] END base_estimator__max_depth=2, learning_rate=0.1, n_estimators=200; total time=   0.7s\n",
      "[CV] END base_estimator__max_depth=2, learning_rate=1, n_estimators=100; total time=   0.4s\n",
      "[CV] END base_estimator__max_depth=2, learning_rate=1, n_estimators=200; total time=   0.7s\n",
      "[CV] END base_estimator__max_depth=2, learning_rate=10, n_estimators=50; total time=   0.2s\n",
      "[CV] END base_estimator__max_depth=2, learning_rate=10, n_estimators=100; total time=   0.3s\n",
      "[CV] END base_estimator__max_depth=2, learning_rate=10, n_estimators=100; total time=   0.3s\n",
      "[CV] END base_estimator__max_depth=2, learning_rate=10, n_estimators=200; total time=   0.7s\n",
      "[CV] END base_estimator__max_depth=3, learning_rate=0.01, n_estimators=50; total time=   0.2s\n",
      "[CV] END base_estimator__max_depth=3, learning_rate=0.01, n_estimators=100; total time=   0.4s\n",
      "[CV] END base_estimator__max_depth=3, learning_rate=0.01, n_estimators=200; total time=   0.7s\n",
      "[CV] END base_estimator__max_depth=3, learning_rate=0.01, n_estimators=200; total time=   0.7s\n",
      "[CV] END base_estimator__max_depth=3, learning_rate=0.1, n_estimators=100; total time=   0.4s\n",
      "[CV] END base_estimator__max_depth=3, learning_rate=0.1, n_estimators=200; total time=   0.7s\n",
      "[CV] END base_estimator__max_depth=3, learning_rate=1, n_estimators=50; total time=   0.2s\n",
      "[CV] END base_estimator__max_depth=3, learning_rate=1, n_estimators=50; total time=   0.2s\n",
      "[CV] END base_estimator__max_depth=3, learning_rate=1, n_estimators=100; total time=   0.4s\n",
      "[CV] END base_estimator__max_depth=3, learning_rate=1, n_estimators=200; total time=   0.7s\n",
      "[CV] END base_estimator__max_depth=3, learning_rate=10, n_estimators=50; total time=   0.2s\n",
      "[CV] END base_estimator__max_depth=3, learning_rate=10, n_estimators=50; total time=   0.2s\n",
      "[CV] END base_estimator__max_depth=3, learning_rate=10, n_estimators=100; total time=   0.4s\n",
      "[CV] END base_estimator__max_depth=3, learning_rate=10, n_estimators=100; total time=   0.4s\n",
      "[CV] END base_estimator__max_depth=3, learning_rate=10, n_estimators=200; total time=   0.7s\n",
      "[CV] END base_estimator__max_depth=4, learning_rate=0.01, n_estimators=50; total time=   0.2s\n",
      "[CV] END base_estimator__max_depth=4, learning_rate=0.01, n_estimators=100; total time=   0.4s\n",
      "[CV] END base_estimator__max_depth=4, learning_rate=0.01, n_estimators=200; total time=   0.7s\n",
      "[CV] END base_estimator__max_depth=4, learning_rate=0.01, n_estimators=200; total time=   0.7s\n",
      "[CV] END base_estimator__max_depth=4, learning_rate=0.1, n_estimators=100; total time=   0.4s\n",
      "[CV] END base_estimator__max_depth=4, learning_rate=0.1, n_estimators=200; total time=   0.7s\n",
      "[CV] END base_estimator__max_depth=4, learning_rate=1, n_estimators=50; total time=   0.2s\n",
      "[CV] END base_estimator__max_depth=4, learning_rate=1, n_estimators=100; total time=   0.4s\n",
      "[CV] END base_estimator__max_depth=4, learning_rate=1, n_estimators=100; total time=   0.4s\n",
      "[CV] END base_estimator__max_depth=4, learning_rate=1, n_estimators=200; total time=   0.7s\n",
      "[CV] END base_estimator__max_depth=4, learning_rate=10, n_estimators=50; total time=   0.2s\n",
      "[CV] END base_estimator__max_depth=4, learning_rate=10, n_estimators=100; total time=   0.4s\n",
      "[CV] END base_estimator__max_depth=4, learning_rate=10, n_estimators=200; total time=   0.7s\n",
      "[CV] END base_estimator__max_depth=4, learning_rate=10, n_estimators=200; total time=   0.7s\n",
      "[CV] END base_estimator__max_depth=5, learning_rate=0.01, n_estimators=100; total time=   0.4s\n",
      "[CV] END base_estimator__max_depth=5, learning_rate=0.01, n_estimators=200; total time=   0.9s\n",
      "[CV] END base_estimator__max_depth=5, learning_rate=0.1, n_estimators=50; total time=   0.2s\n",
      "[CV] END base_estimator__max_depth=5, learning_rate=0.1, n_estimators=50; total time=   0.2s\n",
      "[CV] END base_estimator__max_depth=5, learning_rate=0.1, n_estimators=100; total time=   0.5s\n",
      "[CV] END base_estimator__max_depth=5, learning_rate=0.1, n_estimators=200; total time=   0.9s\n",
      "[CV] END base_estimator__max_depth=5, learning_rate=0.1, n_estimators=200; total time=   0.8s\n"
     ]
    },
    {
     "name": "stderr",
     "output_type": "stream",
     "text": [
      "/opt/conda/lib/python3.10/site-packages/sklearn/model_selection/_validation.py:674: FutureWarning: Parameter 'base_estimator' of AdaBoostClassifier is deprecated in favor of 'estimator'. See AdaBoostClassifier's docstring for more details.\n",
      "  estimator = estimator.set_params(**cloned_parameters)\n",
      "/opt/conda/lib/python3.10/site-packages/sklearn/model_selection/_validation.py:674: FutureWarning: Parameter 'base_estimator' of AdaBoostClassifier is deprecated in favor of 'estimator'. See AdaBoostClassifier's docstring for more details.\n",
      "  estimator = estimator.set_params(**cloned_parameters)\n",
      "/opt/conda/lib/python3.10/site-packages/sklearn/model_selection/_validation.py:674: FutureWarning: Parameter 'base_estimator' of AdaBoostClassifier is deprecated in favor of 'estimator'. See AdaBoostClassifier's docstring for more details.\n",
      "  estimator = estimator.set_params(**cloned_parameters)\n",
      "/opt/conda/lib/python3.10/site-packages/sklearn/model_selection/_validation.py:674: FutureWarning: Parameter 'base_estimator' of AdaBoostClassifier is deprecated in favor of 'estimator'. See AdaBoostClassifier's docstring for more details.\n",
      "  estimator = estimator.set_params(**cloned_parameters)\n",
      "/opt/conda/lib/python3.10/site-packages/sklearn/model_selection/_validation.py:674: FutureWarning: Parameter 'base_estimator' of AdaBoostClassifier is deprecated in favor of 'estimator'. See AdaBoostClassifier's docstring for more details.\n",
      "  estimator = estimator.set_params(**cloned_parameters)\n",
      "/opt/conda/lib/python3.10/site-packages/sklearn/model_selection/_validation.py:674: FutureWarning: Parameter 'base_estimator' of AdaBoostClassifier is deprecated in favor of 'estimator'. See AdaBoostClassifier's docstring for more details.\n",
      "  estimator = estimator.set_params(**cloned_parameters)\n",
      "/opt/conda/lib/python3.10/site-packages/sklearn/model_selection/_validation.py:674: FutureWarning: Parameter 'base_estimator' of AdaBoostClassifier is deprecated in favor of 'estimator'. See AdaBoostClassifier's docstring for more details.\n",
      "  estimator = estimator.set_params(**cloned_parameters)\n",
      "/opt/conda/lib/python3.10/site-packages/sklearn/model_selection/_validation.py:674: FutureWarning: Parameter 'base_estimator' of AdaBoostClassifier is deprecated in favor of 'estimator'. See AdaBoostClassifier's docstring for more details.\n",
      "  estimator = estimator.set_params(**cloned_parameters)\n",
      "/opt/conda/lib/python3.10/site-packages/sklearn/model_selection/_validation.py:674: FutureWarning: Parameter 'base_estimator' of AdaBoostClassifier is deprecated in favor of 'estimator'. See AdaBoostClassifier's docstring for more details.\n",
      "  estimator = estimator.set_params(**cloned_parameters)\n",
      "/opt/conda/lib/python3.10/site-packages/sklearn/model_selection/_validation.py:674: FutureWarning: Parameter 'base_estimator' of AdaBoostClassifier is deprecated in favor of 'estimator'. See AdaBoostClassifier's docstring for more details.\n",
      "  estimator = estimator.set_params(**cloned_parameters)\n",
      "/opt/conda/lib/python3.10/site-packages/sklearn/model_selection/_validation.py:674: FutureWarning: Parameter 'base_estimator' of AdaBoostClassifier is deprecated in favor of 'estimator'. See AdaBoostClassifier's docstring for more details.\n",
      "  estimator = estimator.set_params(**cloned_parameters)\n",
      "/opt/conda/lib/python3.10/site-packages/sklearn/model_selection/_validation.py:674: FutureWarning: Parameter 'base_estimator' of AdaBoostClassifier is deprecated in favor of 'estimator'. See AdaBoostClassifier's docstring for more details.\n",
      "  estimator = estimator.set_params(**cloned_parameters)\n",
      "/opt/conda/lib/python3.10/site-packages/sklearn/model_selection/_validation.py:674: FutureWarning: Parameter 'base_estimator' of AdaBoostClassifier is deprecated in favor of 'estimator'. See AdaBoostClassifier's docstring for more details.\n",
      "  estimator = estimator.set_params(**cloned_parameters)\n",
      "/opt/conda/lib/python3.10/site-packages/sklearn/model_selection/_validation.py:674: FutureWarning: Parameter 'base_estimator' of AdaBoostClassifier is deprecated in favor of 'estimator'. See AdaBoostClassifier's docstring for more details.\n",
      "  estimator = estimator.set_params(**cloned_parameters)\n",
      "/opt/conda/lib/python3.10/site-packages/sklearn/model_selection/_validation.py:674: FutureWarning: Parameter 'base_estimator' of AdaBoostClassifier is deprecated in favor of 'estimator'. See AdaBoostClassifier's docstring for more details.\n",
      "  estimator = estimator.set_params(**cloned_parameters)\n",
      "/opt/conda/lib/python3.10/site-packages/sklearn/model_selection/_validation.py:674: FutureWarning: Parameter 'base_estimator' of AdaBoostClassifier is deprecated in favor of 'estimator'. See AdaBoostClassifier's docstring for more details.\n",
      "  estimator = estimator.set_params(**cloned_parameters)\n",
      "/opt/conda/lib/python3.10/site-packages/sklearn/model_selection/_validation.py:674: FutureWarning: Parameter 'base_estimator' of AdaBoostClassifier is deprecated in favor of 'estimator'. See AdaBoostClassifier's docstring for more details.\n",
      "  estimator = estimator.set_params(**cloned_parameters)\n",
      "/opt/conda/lib/python3.10/site-packages/sklearn/model_selection/_validation.py:674: FutureWarning: Parameter 'base_estimator' of AdaBoostClassifier is deprecated in favor of 'estimator'. See AdaBoostClassifier's docstring for more details.\n",
      "  estimator = estimator.set_params(**cloned_parameters)\n",
      "/opt/conda/lib/python3.10/site-packages/sklearn/model_selection/_validation.py:674: FutureWarning: Parameter 'base_estimator' of AdaBoostClassifier is deprecated in favor of 'estimator'. See AdaBoostClassifier's docstring for more details.\n",
      "  estimator = estimator.set_params(**cloned_parameters)\n",
      "/opt/conda/lib/python3.10/site-packages/sklearn/model_selection/_validation.py:674: FutureWarning: Parameter 'base_estimator' of AdaBoostClassifier is deprecated in favor of 'estimator'. See AdaBoostClassifier's docstring for more details.\n",
      "  estimator = estimator.set_params(**cloned_parameters)\n",
      "/opt/conda/lib/python3.10/site-packages/sklearn/model_selection/_validation.py:674: FutureWarning: Parameter 'base_estimator' of AdaBoostClassifier is deprecated in favor of 'estimator'. See AdaBoostClassifier's docstring for more details.\n",
      "  estimator = estimator.set_params(**cloned_parameters)\n",
      "/opt/conda/lib/python3.10/site-packages/sklearn/model_selection/_validation.py:674: FutureWarning: Parameter 'base_estimator' of AdaBoostClassifier is deprecated in favor of 'estimator'. See AdaBoostClassifier's docstring for more details.\n",
      "  estimator = estimator.set_params(**cloned_parameters)\n",
      "/opt/conda/lib/python3.10/site-packages/sklearn/model_selection/_search.py:905: FutureWarning: Parameter 'base_estimator' of AdaBoostClassifier is deprecated in favor of 'estimator'. See AdaBoostClassifier's docstring for more details.\n",
      "  clone(base_estimator).set_params(**self.best_params_)\n"
     ]
    },
    {
     "name": "stdout",
     "output_type": "stream",
     "text": [
      "Mejores hiperparámetros: {'base_estimator__max_depth': 3, 'learning_rate': 0.01, 'n_estimators': 200}\n"
     ]
    }
   ],
   "source": [
    "# Crear el modelo base\n",
    "estimator = DecisionTreeClassifier()\n",
    "\n",
    "# Crear el modelo AdaBoost\n",
    "ada = AdaBoostClassifier(estimator=estimator)\n",
    "\n",
    "# Configurar el GridSearchCV\n",
    "grid_search3 = GridSearchCV(estimator=ada, param_grid=param_grid3, cv=5, n_jobs=-1, verbose=2)\n",
    "\n",
    "# Entrenar el modelo\n",
    "grid_search3.fit(X_train, y_train)\n",
    "\n",
    "# Obtener los mejores hiperparámetros\n",
    "print(f'Mejores hiperparámetros: {grid_search3.best_params_}')\n"
   ]
  },
  {
   "cell_type": "code",
   "execution_count": 62,
   "id": "49bb0aea",
   "metadata": {
    "execution": {
     "iopub.execute_input": "2024-06-13T16:41:42.979780Z",
     "iopub.status.busy": "2024-06-13T16:41:42.979370Z",
     "iopub.status.idle": "2024-06-13T16:41:42.985801Z",
     "shell.execute_reply": "2024-06-13T16:41:42.984384Z"
    },
    "papermill": {
     "duration": 0.050515,
     "end_time": "2024-06-13T16:41:42.988227",
     "exception": false,
     "start_time": "2024-06-13T16:41:42.937712",
     "status": "completed"
    },
    "tags": []
   },
   "outputs": [
    {
     "name": "stdout",
     "output_type": "stream",
     "text": [
      "Mejores hiperparámetros: {'base_estimator__max_depth': 3, 'learning_rate': 0.01, 'n_estimators': 200}\n",
      "Accuracy:  0.8300994779868021\n"
     ]
    }
   ],
   "source": [
    "# Obtener los mejores hiperparámetros\n",
    "print(f'Mejores hiperparámetros: {grid_search3.best_params_}')\n",
    "print(\"Accuracy: \", grid_search3.best_score_)"
   ]
  },
  {
   "cell_type": "code",
   "execution_count": 63,
   "id": "5e1dc87b",
   "metadata": {
    "execution": {
     "iopub.execute_input": "2024-06-13T16:41:43.069518Z",
     "iopub.status.busy": "2024-06-13T16:41:43.069103Z",
     "iopub.status.idle": "2024-06-13T16:41:43.110015Z",
     "shell.execute_reply": "2024-06-13T16:41:43.108651Z"
    },
    "papermill": {
     "duration": 0.085606,
     "end_time": "2024-06-13T16:41:43.112948",
     "exception": false,
     "start_time": "2024-06-13T16:41:43.027342",
     "status": "completed"
    },
    "tags": []
   },
   "outputs": [],
   "source": [
    "best_ADA = grid_search3.best_estimator_\n",
    "y_pred3 = best_ADA.predict(X_test)"
   ]
  },
  {
   "cell_type": "code",
   "execution_count": 64,
   "id": "e0ad6df6",
   "metadata": {
    "execution": {
     "iopub.execute_input": "2024-06-13T16:41:43.197135Z",
     "iopub.status.busy": "2024-06-13T16:41:43.195873Z",
     "iopub.status.idle": "2024-06-13T16:41:43.213201Z",
     "shell.execute_reply": "2024-06-13T16:41:43.211700Z"
    },
    "papermill": {
     "duration": 0.061531,
     "end_time": "2024-06-13T16:41:43.215891",
     "exception": false,
     "start_time": "2024-06-13T16:41:43.154360",
     "status": "completed"
    },
    "tags": []
   },
   "outputs": [
    {
     "name": "stdout",
     "output_type": "stream",
     "text": [
      "Accuracy en el conjunto de prueba: 0.8435754189944135\n",
      "Precisión: 0.847457627118644\n",
      "Sensibilidad: 0.7246376811594203\n",
      "Puntaje F1: 0.7812499999999999\n"
     ]
    }
   ],
   "source": [
    "accuracy3 = accuracy_score(y_test, y_pred3)\n",
    "precision3 = precision_score(y_test, y_pred3)\n",
    "recall3 = recall_score(y_test, y_pred3)\n",
    "f13 = f1_score(y_test, y_pred3)\n",
    "\n",
    "print(\"Accuracy en el conjunto de prueba:\", accuracy3)\n",
    "print(\"Precisión:\", precision3)\n",
    "print(\"Sensibilidad:\", recall3)\n",
    "print(\"Puntaje F1:\", f13)"
   ]
  },
  {
   "cell_type": "markdown",
   "id": "0d3d7495",
   "metadata": {
    "papermill": {
     "duration": 0.040529,
     "end_time": "2024-06-13T16:41:43.295587",
     "exception": false,
     "start_time": "2024-06-13T16:41:43.255058",
     "status": "completed"
    },
    "tags": []
   },
   "source": [
    "# Modelo 4"
   ]
  },
  {
   "cell_type": "code",
   "execution_count": 65,
   "id": "0e33f1e2",
   "metadata": {
    "execution": {
     "iopub.execute_input": "2024-06-13T16:41:43.382286Z",
     "iopub.status.busy": "2024-06-13T16:41:43.381851Z",
     "iopub.status.idle": "2024-06-13T16:42:20.917459Z",
     "shell.execute_reply": "2024-06-13T16:42:20.916322Z"
    },
    "papermill": {
     "duration": 37.622953,
     "end_time": "2024-06-13T16:42:20.960088",
     "exception": false,
     "start_time": "2024-06-13T16:41:43.337135",
     "status": "completed"
    },
    "tags": []
   },
   "outputs": [
    {
     "data": {
      "text/html": [
       "<style>#sk-container-id-4 {color: black;background-color: white;}#sk-container-id-4 pre{padding: 0;}#sk-container-id-4 div.sk-toggleable {background-color: white;}#sk-container-id-4 label.sk-toggleable__label {cursor: pointer;display: block;width: 100%;margin-bottom: 0;padding: 0.3em;box-sizing: border-box;text-align: center;}#sk-container-id-4 label.sk-toggleable__label-arrow:before {content: \"▸\";float: left;margin-right: 0.25em;color: #696969;}#sk-container-id-4 label.sk-toggleable__label-arrow:hover:before {color: black;}#sk-container-id-4 div.sk-estimator:hover label.sk-toggleable__label-arrow:before {color: black;}#sk-container-id-4 div.sk-toggleable__content {max-height: 0;max-width: 0;overflow: hidden;text-align: left;background-color: #f0f8ff;}#sk-container-id-4 div.sk-toggleable__content pre {margin: 0.2em;color: black;border-radius: 0.25em;background-color: #f0f8ff;}#sk-container-id-4 input.sk-toggleable__control:checked~div.sk-toggleable__content {max-height: 200px;max-width: 100%;overflow: auto;}#sk-container-id-4 input.sk-toggleable__control:checked~label.sk-toggleable__label-arrow:before {content: \"▾\";}#sk-container-id-4 div.sk-estimator input.sk-toggleable__control:checked~label.sk-toggleable__label {background-color: #d4ebff;}#sk-container-id-4 div.sk-label input.sk-toggleable__control:checked~label.sk-toggleable__label {background-color: #d4ebff;}#sk-container-id-4 input.sk-hidden--visually {border: 0;clip: rect(1px 1px 1px 1px);clip: rect(1px, 1px, 1px, 1px);height: 1px;margin: -1px;overflow: hidden;padding: 0;position: absolute;width: 1px;}#sk-container-id-4 div.sk-estimator {font-family: monospace;background-color: #f0f8ff;border: 1px dotted black;border-radius: 0.25em;box-sizing: border-box;margin-bottom: 0.5em;}#sk-container-id-4 div.sk-estimator:hover {background-color: #d4ebff;}#sk-container-id-4 div.sk-parallel-item::after {content: \"\";width: 100%;border-bottom: 1px solid gray;flex-grow: 1;}#sk-container-id-4 div.sk-label:hover label.sk-toggleable__label {background-color: #d4ebff;}#sk-container-id-4 div.sk-serial::before {content: \"\";position: absolute;border-left: 1px solid gray;box-sizing: border-box;top: 0;bottom: 0;left: 50%;z-index: 0;}#sk-container-id-4 div.sk-serial {display: flex;flex-direction: column;align-items: center;background-color: white;padding-right: 0.2em;padding-left: 0.2em;position: relative;}#sk-container-id-4 div.sk-item {position: relative;z-index: 1;}#sk-container-id-4 div.sk-parallel {display: flex;align-items: stretch;justify-content: center;background-color: white;position: relative;}#sk-container-id-4 div.sk-item::before, #sk-container-id-4 div.sk-parallel-item::before {content: \"\";position: absolute;border-left: 1px solid gray;box-sizing: border-box;top: 0;bottom: 0;left: 50%;z-index: -1;}#sk-container-id-4 div.sk-parallel-item {display: flex;flex-direction: column;z-index: 1;position: relative;background-color: white;}#sk-container-id-4 div.sk-parallel-item:first-child::after {align-self: flex-end;width: 50%;}#sk-container-id-4 div.sk-parallel-item:last-child::after {align-self: flex-start;width: 50%;}#sk-container-id-4 div.sk-parallel-item:only-child::after {width: 0;}#sk-container-id-4 div.sk-dashed-wrapped {border: 1px dashed gray;margin: 0 0.4em 0.5em 0.4em;box-sizing: border-box;padding-bottom: 0.4em;background-color: white;}#sk-container-id-4 div.sk-label label {font-family: monospace;font-weight: bold;display: inline-block;line-height: 1.2em;}#sk-container-id-4 div.sk-label-container {text-align: center;}#sk-container-id-4 div.sk-container {/* jupyter's `normalize.less` sets `[hidden] { display: none; }` but bootstrap.min.css set `[hidden] { display: none !important; }` so we also need the `!important` here to be able to override the default hidden behavior on the sphinx rendered scikit-learn.org. See: https://github.com/scikit-learn/scikit-learn/issues/21755 */display: inline-block !important;position: relative;}#sk-container-id-4 div.sk-text-repr-fallback {display: none;}</style><div id=\"sk-container-id-4\" class=\"sk-top-container\"><div class=\"sk-text-repr-fallback\"><pre>GridSearchCV(cv=5,\n",
       "             estimator=XGBClassifier(base_score=None, booster=None,\n",
       "                                     callbacks=None, colsample_bylevel=None,\n",
       "                                     colsample_bynode=None,\n",
       "                                     colsample_bytree=None, device=None,\n",
       "                                     early_stopping_rounds=None,\n",
       "                                     enable_categorical=False, eval_metric=None,\n",
       "                                     feature_types=None, gamma=None,\n",
       "                                     grow_policy=None, importance_type=None,\n",
       "                                     interaction_constraints=None,\n",
       "                                     learning_rate=None,...\n",
       "                                     max_cat_to_onehot=None,\n",
       "                                     max_delta_step=None, max_depth=None,\n",
       "                                     max_leaves=None, min_child_weight=None,\n",
       "                                     missing=nan, monotone_constraints=None,\n",
       "                                     multi_strategy=None, n_estimators=None,\n",
       "                                     n_jobs=None, num_class=2,\n",
       "                                     num_parallel_tree=None, ...),\n",
       "             param_grid={&#x27;gamma&#x27;: [0, 0.1, 0.3],\n",
       "                         &#x27;learning_rate&#x27;: [0.01, 0.1, 0.3],\n",
       "                         &#x27;max_depth&#x27;: [3, 5, 7],\n",
       "                         &#x27;n_estimators&#x27;: [50, 100, 200]},\n",
       "             scoring=&#x27;accuracy&#x27;)</pre><b>In a Jupyter environment, please rerun this cell to show the HTML representation or trust the notebook. <br />On GitHub, the HTML representation is unable to render, please try loading this page with nbviewer.org.</b></div><div class=\"sk-container\" hidden><div class=\"sk-item sk-dashed-wrapped\"><div class=\"sk-label-container\"><div class=\"sk-label sk-toggleable\"><input class=\"sk-toggleable__control sk-hidden--visually\" id=\"sk-estimator-id-8\" type=\"checkbox\" ><label for=\"sk-estimator-id-8\" class=\"sk-toggleable__label sk-toggleable__label-arrow\">GridSearchCV</label><div class=\"sk-toggleable__content\"><pre>GridSearchCV(cv=5,\n",
       "             estimator=XGBClassifier(base_score=None, booster=None,\n",
       "                                     callbacks=None, colsample_bylevel=None,\n",
       "                                     colsample_bynode=None,\n",
       "                                     colsample_bytree=None, device=None,\n",
       "                                     early_stopping_rounds=None,\n",
       "                                     enable_categorical=False, eval_metric=None,\n",
       "                                     feature_types=None, gamma=None,\n",
       "                                     grow_policy=None, importance_type=None,\n",
       "                                     interaction_constraints=None,\n",
       "                                     learning_rate=None,...\n",
       "                                     max_cat_to_onehot=None,\n",
       "                                     max_delta_step=None, max_depth=None,\n",
       "                                     max_leaves=None, min_child_weight=None,\n",
       "                                     missing=nan, monotone_constraints=None,\n",
       "                                     multi_strategy=None, n_estimators=None,\n",
       "                                     n_jobs=None, num_class=2,\n",
       "                                     num_parallel_tree=None, ...),\n",
       "             param_grid={&#x27;gamma&#x27;: [0, 0.1, 0.3],\n",
       "                         &#x27;learning_rate&#x27;: [0.01, 0.1, 0.3],\n",
       "                         &#x27;max_depth&#x27;: [3, 5, 7],\n",
       "                         &#x27;n_estimators&#x27;: [50, 100, 200]},\n",
       "             scoring=&#x27;accuracy&#x27;)</pre></div></div></div><div class=\"sk-parallel\"><div class=\"sk-parallel-item\"><div class=\"sk-item\"><div class=\"sk-label-container\"><div class=\"sk-label sk-toggleable\"><input class=\"sk-toggleable__control sk-hidden--visually\" id=\"sk-estimator-id-9\" type=\"checkbox\" ><label for=\"sk-estimator-id-9\" class=\"sk-toggleable__label sk-toggleable__label-arrow\">estimator: XGBClassifier</label><div class=\"sk-toggleable__content\"><pre>XGBClassifier(base_score=None, booster=None, callbacks=None,\n",
       "              colsample_bylevel=None, colsample_bynode=None,\n",
       "              colsample_bytree=None, device=None, early_stopping_rounds=None,\n",
       "              enable_categorical=False, eval_metric=None, feature_types=None,\n",
       "              gamma=None, grow_policy=None, importance_type=None,\n",
       "              interaction_constraints=None, learning_rate=None, max_bin=None,\n",
       "              max_cat_threshold=None, max_cat_to_onehot=None,\n",
       "              max_delta_step=None, max_depth=None, max_leaves=None,\n",
       "              min_child_weight=None, missing=nan, monotone_constraints=None,\n",
       "              multi_strategy=None, n_estimators=None, n_jobs=None, num_class=2,\n",
       "              num_parallel_tree=None, ...)</pre></div></div></div><div class=\"sk-serial\"><div class=\"sk-item\"><div class=\"sk-estimator sk-toggleable\"><input class=\"sk-toggleable__control sk-hidden--visually\" id=\"sk-estimator-id-10\" type=\"checkbox\" ><label for=\"sk-estimator-id-10\" class=\"sk-toggleable__label sk-toggleable__label-arrow\">XGBClassifier</label><div class=\"sk-toggleable__content\"><pre>XGBClassifier(base_score=None, booster=None, callbacks=None,\n",
       "              colsample_bylevel=None, colsample_bynode=None,\n",
       "              colsample_bytree=None, device=None, early_stopping_rounds=None,\n",
       "              enable_categorical=False, eval_metric=None, feature_types=None,\n",
       "              gamma=None, grow_policy=None, importance_type=None,\n",
       "              interaction_constraints=None, learning_rate=None, max_bin=None,\n",
       "              max_cat_threshold=None, max_cat_to_onehot=None,\n",
       "              max_delta_step=None, max_depth=None, max_leaves=None,\n",
       "              min_child_weight=None, missing=nan, monotone_constraints=None,\n",
       "              multi_strategy=None, n_estimators=None, n_jobs=None, num_class=2,\n",
       "              num_parallel_tree=None, ...)</pre></div></div></div></div></div></div></div></div></div></div>"
      ],
      "text/plain": [
       "GridSearchCV(cv=5,\n",
       "             estimator=XGBClassifier(base_score=None, booster=None,\n",
       "                                     callbacks=None, colsample_bylevel=None,\n",
       "                                     colsample_bynode=None,\n",
       "                                     colsample_bytree=None, device=None,\n",
       "                                     early_stopping_rounds=None,\n",
       "                                     enable_categorical=False, eval_metric=None,\n",
       "                                     feature_types=None, gamma=None,\n",
       "                                     grow_policy=None, importance_type=None,\n",
       "                                     interaction_constraints=None,\n",
       "                                     learning_rate=None,...\n",
       "                                     max_cat_to_onehot=None,\n",
       "                                     max_delta_step=None, max_depth=None,\n",
       "                                     max_leaves=None, min_child_weight=None,\n",
       "                                     missing=nan, monotone_constraints=None,\n",
       "                                     multi_strategy=None, n_estimators=None,\n",
       "                                     n_jobs=None, num_class=2,\n",
       "                                     num_parallel_tree=None, ...),\n",
       "             param_grid={'gamma': [0, 0.1, 0.3],\n",
       "                         'learning_rate': [0.01, 0.1, 0.3],\n",
       "                         'max_depth': [3, 5, 7],\n",
       "                         'n_estimators': [50, 100, 200]},\n",
       "             scoring='accuracy')"
      ]
     },
     "execution_count": 65,
     "metadata": {},
     "output_type": "execute_result"
    }
   ],
   "source": [
    "from xgboost import XGBClassifier\n",
    "param_grid4 = {\n",
    "    'n_estimators': [50, 100, 200],\n",
    "    'max_depth': [3, 5, 7],\n",
    "    'learning_rate': [0.01, 0.1, 0.3],\n",
    "    'gamma': [0, 0.1, 0.3]\n",
    "}\n",
    "\n",
    "# Inicializar XGBClassifier\n",
    "xgb_model = XGBClassifier(objective='multi:softmax', num_class=len(np.unique(y)), seed=42)\n",
    "\n",
    "# Inicializar GridSearchCV\n",
    "grid_search4 = GridSearchCV(estimator=xgb_model, param_grid=param_grid4, scoring='accuracy', cv=5, verbose=0)\n",
    "\n",
    "# Ajustar GridSearchCV\n",
    "grid_search4.fit(X, y)"
   ]
  },
  {
   "cell_type": "code",
   "execution_count": 66,
   "id": "93ab621d",
   "metadata": {
    "execution": {
     "iopub.execute_input": "2024-06-13T16:42:21.042396Z",
     "iopub.status.busy": "2024-06-13T16:42:21.041486Z",
     "iopub.status.idle": "2024-06-13T16:42:21.047714Z",
     "shell.execute_reply": "2024-06-13T16:42:21.046604Z"
    },
    "papermill": {
     "duration": 0.049603,
     "end_time": "2024-06-13T16:42:21.050078",
     "exception": false,
     "start_time": "2024-06-13T16:42:21.000475",
     "status": "completed"
    },
    "tags": []
   },
   "outputs": [
    {
     "name": "stdout",
     "output_type": "stream",
     "text": [
      "Mejores parámetros encontrados:\n",
      "{'gamma': 0, 'learning_rate': 0.1, 'max_depth': 3, 'n_estimators': 50}\n",
      "Mejor puntuación de validación cruzada: 0.8451133011110412\n"
     ]
    }
   ],
   "source": [
    "# Mostrar los resultados\n",
    "print(\"Mejores parámetros encontrados:\")\n",
    "print(grid_search4.best_params_)\n",
    "print(\"Mejor puntuación de validación cruzada:\", grid_search4.best_score_)"
   ]
  },
  {
   "cell_type": "code",
   "execution_count": 67,
   "id": "073f5ea7",
   "metadata": {
    "execution": {
     "iopub.execute_input": "2024-06-13T16:42:21.133151Z",
     "iopub.status.busy": "2024-06-13T16:42:21.132707Z",
     "iopub.status.idle": "2024-06-13T16:42:21.143052Z",
     "shell.execute_reply": "2024-06-13T16:42:21.142167Z"
    },
    "papermill": {
     "duration": 0.055488,
     "end_time": "2024-06-13T16:42:21.145905",
     "exception": false,
     "start_time": "2024-06-13T16:42:21.090417",
     "status": "completed"
    },
    "tags": []
   },
   "outputs": [],
   "source": [
    "best_XGBoost = grid_search4.best_estimator_\n",
    "y_pred4 = best_XGBoost.predict(X_test)"
   ]
  },
  {
   "cell_type": "code",
   "execution_count": 68,
   "id": "cb185090",
   "metadata": {
    "execution": {
     "iopub.execute_input": "2024-06-13T16:42:21.228155Z",
     "iopub.status.busy": "2024-06-13T16:42:21.227306Z",
     "iopub.status.idle": "2024-06-13T16:42:21.243664Z",
     "shell.execute_reply": "2024-06-13T16:42:21.242516Z"
    },
    "papermill": {
     "duration": 0.060167,
     "end_time": "2024-06-13T16:42:21.246327",
     "exception": false,
     "start_time": "2024-06-13T16:42:21.186160",
     "status": "completed"
    },
    "tags": []
   },
   "outputs": [
    {
     "name": "stdout",
     "output_type": "stream",
     "text": [
      "Accuracy en el conjunto de prueba: 0.8547486033519553\n",
      "Precisión: 0.8771929824561403\n",
      "Sensibilidad: 0.7246376811594203\n",
      "Puntaje F1: 0.7936507936507936\n"
     ]
    }
   ],
   "source": [
    "accuracy4 = accuracy_score(y_test, y_pred4)\n",
    "precision4 = precision_score(y_test, y_pred4)\n",
    "recall4 = recall_score(y_test, y_pred4)\n",
    "f14 = f1_score(y_test, y_pred4)\n",
    "\n",
    "print(\"Accuracy en el conjunto de prueba:\", accuracy4)\n",
    "print(\"Precisión:\", precision4)\n",
    "print(\"Sensibilidad:\", recall4)\n",
    "print(\"Puntaje F1:\", f14)"
   ]
  },
  {
   "cell_type": "code",
   "execution_count": null,
   "id": "3a409c58",
   "metadata": {
    "papermill": {
     "duration": 0.040816,
     "end_time": "2024-06-13T16:42:21.328125",
     "exception": false,
     "start_time": "2024-06-13T16:42:21.287309",
     "status": "completed"
    },
    "tags": []
   },
   "outputs": [],
   "source": []
  },
  {
   "cell_type": "markdown",
   "id": "c85738db",
   "metadata": {
    "papermill": {
     "duration": 0.040857,
     "end_time": "2024-06-13T16:42:21.410967",
     "exception": false,
     "start_time": "2024-06-13T16:42:21.370110",
     "status": "completed"
    },
    "tags": []
   },
   "source": [
    "# Create submition"
   ]
  },
  {
   "cell_type": "code",
   "execution_count": 69,
   "id": "1ca9cde7",
   "metadata": {
    "execution": {
     "iopub.execute_input": "2024-06-13T16:42:21.496841Z",
     "iopub.status.busy": "2024-06-13T16:42:21.496398Z",
     "iopub.status.idle": "2024-06-13T16:42:21.516377Z",
     "shell.execute_reply": "2024-06-13T16:42:21.515285Z"
    },
    "papermill": {
     "duration": 0.066881,
     "end_time": "2024-06-13T16:42:21.518891",
     "exception": false,
     "start_time": "2024-06-13T16:42:21.452010",
     "status": "completed"
    },
    "tags": []
   },
   "outputs": [
    {
     "data": {
      "text/html": [
       "<div>\n",
       "<style scoped>\n",
       "    .dataframe tbody tr th:only-of-type {\n",
       "        vertical-align: middle;\n",
       "    }\n",
       "\n",
       "    .dataframe tbody tr th {\n",
       "        vertical-align: top;\n",
       "    }\n",
       "\n",
       "    .dataframe thead th {\n",
       "        text-align: right;\n",
       "    }\n",
       "</style>\n",
       "<table border=\"1\" class=\"dataframe\">\n",
       "  <thead>\n",
       "    <tr style=\"text-align: right;\">\n",
       "      <th></th>\n",
       "      <th>Pclass</th>\n",
       "      <th>Strip_Age</th>\n",
       "      <th>Strip_Fare</th>\n",
       "      <th>IsMale</th>\n",
       "      <th>Embarked_C</th>\n",
       "      <th>Embarked_Q</th>\n",
       "      <th>Embarked_S</th>\n",
       "      <th>FamilySize</th>\n",
       "      <th>IsAlone</th>\n",
       "    </tr>\n",
       "  </thead>\n",
       "  <tbody>\n",
       "    <tr>\n",
       "      <th>0</th>\n",
       "      <td>3.0</td>\n",
       "      <td>2.0</td>\n",
       "      <td>0.0</td>\n",
       "      <td>1.0</td>\n",
       "      <td>0.0</td>\n",
       "      <td>1.0</td>\n",
       "      <td>0.0</td>\n",
       "      <td>0.0</td>\n",
       "      <td>1.0</td>\n",
       "    </tr>\n",
       "    <tr>\n",
       "      <th>1</th>\n",
       "      <td>3.0</td>\n",
       "      <td>2.0</td>\n",
       "      <td>0.0</td>\n",
       "      <td>0.0</td>\n",
       "      <td>0.0</td>\n",
       "      <td>0.0</td>\n",
       "      <td>1.0</td>\n",
       "      <td>1.0</td>\n",
       "      <td>0.0</td>\n",
       "    </tr>\n",
       "    <tr>\n",
       "      <th>2</th>\n",
       "      <td>2.0</td>\n",
       "      <td>3.0</td>\n",
       "      <td>0.0</td>\n",
       "      <td>1.0</td>\n",
       "      <td>0.0</td>\n",
       "      <td>1.0</td>\n",
       "      <td>0.0</td>\n",
       "      <td>0.0</td>\n",
       "      <td>1.0</td>\n",
       "    </tr>\n",
       "    <tr>\n",
       "      <th>3</th>\n",
       "      <td>3.0</td>\n",
       "      <td>1.0</td>\n",
       "      <td>0.0</td>\n",
       "      <td>1.0</td>\n",
       "      <td>0.0</td>\n",
       "      <td>0.0</td>\n",
       "      <td>1.0</td>\n",
       "      <td>0.0</td>\n",
       "      <td>1.0</td>\n",
       "    </tr>\n",
       "    <tr>\n",
       "      <th>4</th>\n",
       "      <td>3.0</td>\n",
       "      <td>1.0</td>\n",
       "      <td>0.0</td>\n",
       "      <td>0.0</td>\n",
       "      <td>0.0</td>\n",
       "      <td>0.0</td>\n",
       "      <td>1.0</td>\n",
       "      <td>2.0</td>\n",
       "      <td>0.0</td>\n",
       "    </tr>\n",
       "  </tbody>\n",
       "</table>\n",
       "</div>"
      ],
      "text/plain": [
       "   Pclass  Strip_Age  Strip_Fare  IsMale  Embarked_C  Embarked_Q  Embarked_S  \\\n",
       "0     3.0        2.0         0.0     1.0         0.0         1.0         0.0   \n",
       "1     3.0        2.0         0.0     0.0         0.0         0.0         1.0   \n",
       "2     2.0        3.0         0.0     1.0         0.0         1.0         0.0   \n",
       "3     3.0        1.0         0.0     1.0         0.0         0.0         1.0   \n",
       "4     3.0        1.0         0.0     0.0         0.0         0.0         1.0   \n",
       "\n",
       "   FamilySize  IsAlone  \n",
       "0         0.0      1.0  \n",
       "1         1.0      0.0  \n",
       "2         0.0      1.0  \n",
       "3         0.0      1.0  \n",
       "4         2.0      0.0  "
      ]
     },
     "execution_count": 69,
     "metadata": {},
     "output_type": "execute_result"
    }
   ],
   "source": [
    "test_data.head()"
   ]
  },
  {
   "cell_type": "code",
   "execution_count": 70,
   "id": "1139d09d",
   "metadata": {
    "execution": {
     "iopub.execute_input": "2024-06-13T16:42:21.604068Z",
     "iopub.status.busy": "2024-06-13T16:42:21.602952Z",
     "iopub.status.idle": "2024-06-13T16:42:21.616871Z",
     "shell.execute_reply": "2024-06-13T16:42:21.615365Z"
    },
    "papermill": {
     "duration": 0.058282,
     "end_time": "2024-06-13T16:42:21.619554",
     "exception": false,
     "start_time": "2024-06-13T16:42:21.561272",
     "status": "completed"
    },
    "tags": []
   },
   "outputs": [],
   "source": [
    "predictions = best_XGBoost.predict(test_data)"
   ]
  },
  {
   "cell_type": "code",
   "execution_count": 71,
   "id": "3b856160",
   "metadata": {
    "execution": {
     "iopub.execute_input": "2024-06-13T16:42:21.701443Z",
     "iopub.status.busy": "2024-06-13T16:42:21.701056Z",
     "iopub.status.idle": "2024-06-13T16:42:21.712005Z",
     "shell.execute_reply": "2024-06-13T16:42:21.710496Z"
    },
    "papermill": {
     "duration": 0.054625,
     "end_time": "2024-06-13T16:42:21.714498",
     "exception": false,
     "start_time": "2024-06-13T16:42:21.659873",
     "status": "completed"
    },
    "tags": []
   },
   "outputs": [
    {
     "name": "stdout",
     "output_type": "stream",
     "text": [
      "Your submission was successfully saved!\n"
     ]
    }
   ],
   "source": [
    "output = pd.DataFrame({'PassengerId': test_data_ori.PassengerId, 'Survived': predictions})\n",
    "output.to_csv('submission.csv', index=False)\n",
    "print(\"Your submission was successfully saved!\")"
   ]
  },
  {
   "cell_type": "code",
   "execution_count": 72,
   "id": "cf74ae05",
   "metadata": {
    "execution": {
     "iopub.execute_input": "2024-06-13T16:42:21.797452Z",
     "iopub.status.busy": "2024-06-13T16:42:21.797034Z",
     "iopub.status.idle": "2024-06-13T16:42:21.807362Z",
     "shell.execute_reply": "2024-06-13T16:42:21.806158Z"
    },
    "papermill": {
     "duration": 0.054967,
     "end_time": "2024-06-13T16:42:21.809985",
     "exception": false,
     "start_time": "2024-06-13T16:42:21.755018",
     "status": "completed"
    },
    "tags": []
   },
   "outputs": [
    {
     "data": {
      "text/html": [
       "<div>\n",
       "<style scoped>\n",
       "    .dataframe tbody tr th:only-of-type {\n",
       "        vertical-align: middle;\n",
       "    }\n",
       "\n",
       "    .dataframe tbody tr th {\n",
       "        vertical-align: top;\n",
       "    }\n",
       "\n",
       "    .dataframe thead th {\n",
       "        text-align: right;\n",
       "    }\n",
       "</style>\n",
       "<table border=\"1\" class=\"dataframe\">\n",
       "  <thead>\n",
       "    <tr style=\"text-align: right;\">\n",
       "      <th></th>\n",
       "      <th>PassengerId</th>\n",
       "      <th>Survived</th>\n",
       "    </tr>\n",
       "  </thead>\n",
       "  <tbody>\n",
       "    <tr>\n",
       "      <th>0</th>\n",
       "      <td>892</td>\n",
       "      <td>0</td>\n",
       "    </tr>\n",
       "    <tr>\n",
       "      <th>1</th>\n",
       "      <td>893</td>\n",
       "      <td>0</td>\n",
       "    </tr>\n",
       "    <tr>\n",
       "      <th>2</th>\n",
       "      <td>894</td>\n",
       "      <td>0</td>\n",
       "    </tr>\n",
       "    <tr>\n",
       "      <th>3</th>\n",
       "      <td>895</td>\n",
       "      <td>0</td>\n",
       "    </tr>\n",
       "    <tr>\n",
       "      <th>4</th>\n",
       "      <td>896</td>\n",
       "      <td>1</td>\n",
       "    </tr>\n",
       "  </tbody>\n",
       "</table>\n",
       "</div>"
      ],
      "text/plain": [
       "   PassengerId  Survived\n",
       "0          892         0\n",
       "1          893         0\n",
       "2          894         0\n",
       "3          895         0\n",
       "4          896         1"
      ]
     },
     "execution_count": 72,
     "metadata": {},
     "output_type": "execute_result"
    }
   ],
   "source": [
    "output.head()"
   ]
  },
  {
   "cell_type": "code",
   "execution_count": null,
   "id": "3068a2b5",
   "metadata": {
    "papermill": {
     "duration": 0.040133,
     "end_time": "2024-06-13T16:42:21.891146",
     "exception": false,
     "start_time": "2024-06-13T16:42:21.851013",
     "status": "completed"
    },
    "tags": []
   },
   "outputs": [],
   "source": []
  }
 ],
 "metadata": {
  "kaggle": {
   "accelerator": "none",
   "dataSources": [
    {
     "databundleVersionId": 26502,
     "sourceId": 3136,
     "sourceType": "competition"
    }
   ],
   "dockerImageVersionId": 30698,
   "isGpuEnabled": false,
   "isInternetEnabled": false,
   "language": "python",
   "sourceType": "notebook"
  },
  "kernelspec": {
   "display_name": "Python 3",
   "language": "python",
   "name": "python3"
  },
  "language_info": {
   "codemirror_mode": {
    "name": "ipython",
    "version": 3
   },
   "file_extension": ".py",
   "mimetype": "text/x-python",
   "name": "python",
   "nbconvert_exporter": "python",
   "pygments_lexer": "ipython3",
   "version": "3.10.13"
  },
  "papermill": {
   "default_parameters": {},
   "duration": 132.866369,
   "end_time": "2024-06-13T16:42:24.553575",
   "environment_variables": {},
   "exception": null,
   "input_path": "__notebook__.ipynb",
   "output_path": "__notebook__.ipynb",
   "parameters": {},
   "start_time": "2024-06-13T16:40:11.687206",
   "version": "2.5.0"
  }
 },
 "nbformat": 4,
 "nbformat_minor": 5
}
